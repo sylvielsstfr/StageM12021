{
 "cells": [
  {
   "cell_type": "markdown",
   "metadata": {},
   "source": [
    "# Statistics : Fitting models\n"
   ]
  },
  {
   "cell_type": "code",
   "execution_count": 27,
   "metadata": {},
   "outputs": [],
   "source": [
    "%display latex"
   ]
  },
  {
   "cell_type": "markdown",
   "metadata": {},
   "source": [
    "## Fitting a straight line\n",
    "\n",
    "$$\n",
    "y= ax + b\n",
    "$$"
   ]
  },
  {
   "cell_type": "code",
   "execution_count": 52,
   "metadata": {},
   "outputs": [],
   "source": [
    "a=var(\"a\")\n",
    "b=var(\"b\")\n",
    "x=var(\"x\")\n",
    "y=var(\"y\")\n",
    "Sxx=var(\"Sxx_\")\n",
    "Syy=var(\"Syy_\")\n",
    "Sxy=var(\"Sxy_\")\n",
    "Sy=var(\"Sy_\")\n",
    "Sx=var(\"Sx_\")\n",
    "S0=var(\"S0_\")\n",
    "e = var('e', latex_name='\\\\varepsilon')\n",
    "sigm = var('sigm', latex_name='\\\\sigma')"
   ]
  },
  {
   "cell_type": "markdown",
   "metadata": {},
   "source": [
    "### Log likelihood"
   ]
  },
  {
   "cell_type": "code",
   "execution_count": 29,
   "metadata": {},
   "outputs": [
    {
     "data": {
      "text/html": [
       "<html><script type=\"math/tex; mode=display\">\\newcommand{\\Bold}[1]{\\mathbf{#1}}-\\mathit{Sxx} a - \\mathit{Sx} b + \\mathit{Sxy}</script></html>"
      ],
      "text/plain": [
       "-Sxx_*a - Sx_*b + Sxy_"
      ]
     },
     "execution_count": 29,
     "metadata": {},
     "output_type": "execute_result"
    }
   ],
   "source": [
    "dlnLda(a,b)=Sxy-a*Sxx -b*Sx\n",
    "dlnLda(a,b)"
   ]
  },
  {
   "cell_type": "code",
   "execution_count": 30,
   "metadata": {},
   "outputs": [
    {
     "data": {
      "text/html": [
       "<html><script type=\"math/tex; mode=display\">\\newcommand{\\Bold}[1]{\\mathbf{#1}}-\\mathit{Sx} a - \\mathit{S0} b + \\mathit{Sy}</script></html>"
      ],
      "text/plain": [
       "-Sx_*a - S0_*b + Sy_"
      ]
     },
     "execution_count": 30,
     "metadata": {},
     "output_type": "execute_result"
    }
   ],
   "source": [
    "dlnLdb(a,b)=Sy-a*Sx -b*S0\n",
    "dlnLdb(a,b)"
   ]
  },
  {
   "cell_type": "markdown",
   "metadata": {},
   "source": [
    "### Derivation at second order"
   ]
  },
  {
   "cell_type": "code",
   "execution_count": 31,
   "metadata": {},
   "outputs": [
    {
     "data": {
      "text/html": [
       "<html><script type=\"math/tex; mode=display\">\\newcommand{\\Bold}[1]{\\mathbf{#1}}-\\mathit{Sxx}</script></html>"
      ],
      "text/plain": [
       "-Sxx_"
      ]
     },
     "execution_count": 31,
     "metadata": {},
     "output_type": "execute_result"
    }
   ],
   "source": [
    "diff(dlnLda(a,b),a)"
   ]
  },
  {
   "cell_type": "code",
   "execution_count": 32,
   "metadata": {},
   "outputs": [
    {
     "data": {
      "text/html": [
       "<html><script type=\"math/tex; mode=display\">\\newcommand{\\Bold}[1]{\\mathbf{#1}}-\\mathit{Sx}</script></html>"
      ],
      "text/plain": [
       "-Sx_"
      ]
     },
     "execution_count": 32,
     "metadata": {},
     "output_type": "execute_result"
    }
   ],
   "source": [
    "diff(dlnLda(a,b),b)"
   ]
  },
  {
   "cell_type": "code",
   "execution_count": 33,
   "metadata": {},
   "outputs": [
    {
     "data": {
      "text/html": [
       "<html><script type=\"math/tex; mode=display\">\\newcommand{\\Bold}[1]{\\mathbf{#1}}-\\mathit{S0}</script></html>"
      ],
      "text/plain": [
       "-S0_"
      ]
     },
     "execution_count": 33,
     "metadata": {},
     "output_type": "execute_result"
    }
   ],
   "source": [
    "diff(dlnLdb(a,b),b)"
   ]
  },
  {
   "cell_type": "code",
   "execution_count": 34,
   "metadata": {},
   "outputs": [
    {
     "data": {
      "text/html": [
       "<html><script type=\"math/tex; mode=display\">\\newcommand{\\Bold}[1]{\\mathbf{#1}}-\\mathit{Sx}</script></html>"
      ],
      "text/plain": [
       "-Sx_"
      ]
     },
     "execution_count": 34,
     "metadata": {},
     "output_type": "execute_result"
    }
   ],
   "source": [
    "diff(dlnLdb(a,b),a)"
   ]
  },
  {
   "cell_type": "markdown",
   "metadata": {},
   "source": [
    "## Micro-lensing"
   ]
  },
  {
   "cell_type": "markdown",
   "metadata": {},
   "source": [
    "### Définition des variables"
   ]
  },
  {
   "cell_type": "code",
   "execution_count": 46,
   "metadata": {},
   "outputs": [
    {
     "data": {
      "text/html": [
       "<html><script type=\"math/tex; mode=display\">\\newcommand{\\Bold}[1]{\\mathbf{#1}}{u_{min}}</script></html>"
      ],
      "text/plain": [
       "umin"
      ]
     },
     "execution_count": 46,
     "metadata": {},
     "output_type": "execute_result"
    }
   ],
   "source": [
    "umin = var('umin', latex_name='u_{min}')\n",
    "umin"
   ]
  },
  {
   "cell_type": "code",
   "execution_count": 45,
   "metadata": {},
   "outputs": [
    {
     "data": {
      "text/html": [
       "<html><script type=\"math/tex; mode=display\">\\newcommand{\\Bold}[1]{\\mathbf{#1}}{t_{E}}</script></html>"
      ],
      "text/plain": [
       "tE"
      ]
     },
     "execution_count": 45,
     "metadata": {},
     "output_type": "execute_result"
    }
   ],
   "source": [
    "tE = var('tE', latex_name='t_{E}')\n",
    "tE"
   ]
  },
  {
   "cell_type": "code",
   "execution_count": 44,
   "metadata": {},
   "outputs": [
    {
     "data": {
      "text/html": [
       "<html><script type=\"math/tex; mode=display\">\\newcommand{\\Bold}[1]{\\mathbf{#1}}{t_{0}}</script></html>"
      ],
      "text/plain": [
       "t0"
      ]
     },
     "execution_count": 44,
     "metadata": {},
     "output_type": "execute_result"
    }
   ],
   "source": [
    "t0 = var('t0', latex_name='t_{0}')\n",
    "t0"
   ]
  },
  {
   "cell_type": "code",
   "execution_count": 48,
   "metadata": {},
   "outputs": [],
   "source": [
    "A=var(\"A\")\n",
    "t=var(\"t\")"
   ]
  },
  {
   "cell_type": "code",
   "execution_count": 65,
   "metadata": {},
   "outputs": [],
   "source": [
    "sigi = var('sig_i', latex_name='\\\\sigma_i')\n",
    "Ai = var('Ai', latex_name='A_i')\n",
    "ti = var('ti', latex_name='t_i')"
   ]
  },
  {
   "cell_type": "markdown",
   "metadata": {},
   "source": [
    "### Définition des fonctions"
   ]
  },
  {
   "cell_type": "markdown",
   "metadata": {},
   "source": [
    "#### u(t)\n",
    "\n",
    "$$\n",
    "u(t) = \\sqrt{(u_{min}^2 + \\left( \\frac{(t-t_0)}{t_E}\\right)^2}\n",
    "$$"
   ]
  },
  {
   "cell_type": "code",
   "execution_count": 50,
   "metadata": {},
   "outputs": [],
   "source": [
    "u(t)= sqrt (umin^2+ ((t-t0)/tE)^2)"
   ]
  },
  {
   "cell_type": "code",
   "execution_count": 57,
   "metadata": {},
   "outputs": [
    {
     "data": {
      "text/html": [
       "<html><script type=\"math/tex; mode=display\">\\newcommand{\\Bold}[1]{\\mathbf{#1}}t \\ {\\mapsto}\\ \\sqrt{{u_{min}}^{2} + \\frac{{\\left(t - {t_{0}}\\right)}^{2}}{{t_{E}}^{2}}}</script></html>"
      ],
      "text/plain": [
       "t |--> sqrt(umin^2 + (t - t0)^2/tE^2)"
      ]
     },
     "execution_count": 57,
     "metadata": {},
     "output_type": "execute_result"
    }
   ],
   "source": [
    "u"
   ]
  },
  {
   "cell_type": "markdown",
   "metadata": {},
   "source": [
    "#### A(u)\n",
    "\n",
    "$$\n",
    "A(u) = \\frac{u+2}{u\\sqrt{u^2+4}}\n",
    "$$"
   ]
  },
  {
   "cell_type": "code",
   "execution_count": 55,
   "metadata": {},
   "outputs": [],
   "source": [
    "A(t)= (u(t)+2)/u(t)/sqrt((u(t))^2 + 4)"
   ]
  },
  {
   "cell_type": "code",
   "execution_count": 58,
   "metadata": {},
   "outputs": [
    {
     "data": {
      "text/html": [
       "<html><script type=\"math/tex; mode=display\">\\newcommand{\\Bold}[1]{\\mathbf{#1}}t \\ {\\mapsto}\\ \\frac{\\sqrt{{u_{min}}^{2} + \\frac{{\\left(t - {t_{0}}\\right)}^{2}}{{t_{E}}^{2}}} + 2}{\\sqrt{{u_{min}}^{2} + \\frac{{\\left(t - {t_{0}}\\right)}^{2}}{{t_{E}}^{2}} + 4} \\sqrt{{u_{min}}^{2} + \\frac{{\\left(t - {t_{0}}\\right)}^{2}}{{t_{E}}^{2}}}}</script></html>"
      ],
      "text/plain": [
       "t |--> (sqrt(umin^2 + (t - t0)^2/tE^2) + 2)/(sqrt(umin^2 + (t - t0)^2/tE^2 + 4)*sqrt(umin^2 + (t - t0)^2/tE^2))"
      ]
     },
     "execution_count": 58,
     "metadata": {},
     "output_type": "execute_result"
    }
   ],
   "source": [
    "A"
   ]
  },
  {
   "cell_type": "markdown",
   "metadata": {},
   "source": [
    "#### Définition des résidus au carré : termes Z\n",
    "\n",
    "$$\n",
    "\\ln L = Cte - \\frac{1}{2} \\sum_{i=1}^NZ_i^2\n",
    "$$"
   ]
  },
  {
   "cell_type": "code",
   "execution_count": 68,
   "metadata": {},
   "outputs": [
    {
     "data": {
      "text/html": [
       "<html><script type=\"math/tex; mode=display\">\\newcommand{\\Bold}[1]{\\mathbf{#1}}\\left( {t_{0}}, {t_{E}}, {u_{min}} \\right) \\ {\\mapsto} \\ \\frac{{\\left({A_i} - \\frac{\\sqrt{{u_{min}}^{2} + \\frac{{\\left({t_{0}} - {t_i}\\right)}^{2}}{{t_{E}}^{2}}} + 2}{\\sqrt{{u_{min}}^{2} + \\frac{{\\left({t_{0}} - {t_i}\\right)}^{2}}{{t_{E}}^{2}} + 4} \\sqrt{{u_{min}}^{2} + \\frac{{\\left({t_{0}} - {t_i}\\right)}^{2}}{{t_{E}}^{2}}}}\\right)}^{2}}{{\\sigma_i}^{2}}</script></html>"
      ],
      "text/plain": [
       "(t0, tE, umin) |--> (Ai - (sqrt(umin^2 + (t0 - ti)^2/tE^2) + 2)/(sqrt(umin^2 + (t0 - ti)^2/tE^2 + 4)*sqrt(umin^2 + (t0 - ti)^2/tE^2)))^2/sig_i^2"
      ]
     },
     "execution_count": 68,
     "metadata": {},
     "output_type": "execute_result"
    }
   ],
   "source": [
    "Z(t0,tE,umin) = (Ai-A(ti))^2/sigi^2\n",
    "Z"
   ]
  },
  {
   "cell_type": "markdown",
   "metadata": {},
   "source": [
    "#### Dérivées premières"
   ]
  },
  {
   "cell_type": "code",
   "execution_count": 70,
   "metadata": {},
   "outputs": [
    {
     "data": {
      "text/html": [
       "<html><script type=\"math/tex; mode=display\">\\newcommand{\\Bold}[1]{\\mathbf{#1}}\\left( {t_{0}}, t_{E}, {u_{min}} \\right) \\ {\\mapsto} \\ \\frac{2 \\, {\\left({A_i} - \\frac{\\sqrt{{u_{min}}^{2} + \\frac{{\\left({t_{0}} - {t_i}\\right)}^{2}}{{t_{E}}^{2}}} + 2}{\\sqrt{{u_{min}}^{2} + \\frac{{\\left({t_{0}} - {t_i}\\right)}^{2}}{{t_{E}}^{2}} + 4} \\sqrt{{u_{min}}^{2} + \\frac{{\\left({t_{0}} - {t_i}\\right)}^{2}}{{t_{E}}^{2}}}}\\right)} {\\left(\\frac{{\\left({t_{0}} - {t_i}\\right)} {\\left(\\sqrt{{u_{min}}^{2} + \\frac{{\\left({t_{0}} - {t_i}\\right)}^{2}}{{t_{E}}^{2}}} + 2\\right)}}{\\sqrt{{u_{min}}^{2} + \\frac{{\\left({t_{0}} - {t_i}\\right)}^{2}}{{t_{E}}^{2}} + 4} {\\left({u_{min}}^{2} + \\frac{{\\left({t_{0}} - {t_i}\\right)}^{2}}{{t_{E}}^{2}}\\right)}^{\\frac{3}{2}} {t_{E}}^{2}} + \\frac{{\\left({t_{0}} - {t_i}\\right)} {\\left(\\sqrt{{u_{min}}^{2} + \\frac{{\\left({t_{0}} - {t_i}\\right)}^{2}}{{t_{E}}^{2}}} + 2\\right)}}{{\\left({u_{min}}^{2} + \\frac{{\\left({t_{0}} - {t_i}\\right)}^{2}}{{t_{E}}^{2}} + 4\\right)}^{\\frac{3}{2}} \\sqrt{{u_{min}}^{2} + \\frac{{\\left({t_{0}} - {t_i}\\right)}^{2}}{{t_{E}}^{2}}} {t_{E}}^{2}} - \\frac{{t_{0}} - {t_i}}{\\sqrt{{u_{min}}^{2} + \\frac{{\\left({t_{0}} - {t_i}\\right)}^{2}}{{t_{E}}^{2}} + 4} {\\left({u_{min}}^{2} + \\frac{{\\left({t_{0}} - {t_i}\\right)}^{2}}{{t_{E}}^{2}}\\right)} {t_{E}}^{2}}\\right)}}{{\\sigma_i}^{2}}</script></html>"
      ],
      "text/plain": [
       "(t0, t_E, umin) |--> 2*(Ai - (sqrt(umin^2 + (t0 - ti)^2/tE^2) + 2)/(sqrt(umin^2 + (t0 - ti)^2/tE^2 + 4)*sqrt(umin^2 + (t0 - ti)^2/tE^2)))*((t0 - ti)*(sqrt(umin^2 + (t0 - ti)^2/tE^2) + 2)/(sqrt(umin^2 + (t0 - ti)^2/tE^2 + 4)*(umin^2 + (t0 - ti)^2/tE^2)^(3/2)*tE^2) + (t0 - ti)*(sqrt(umin^2 + (t0 - ti)^2/tE^2) + 2)/((umin^2 + (t0 - ti)^2/tE^2 + 4)^(3/2)*sqrt(umin^2 + (t0 - ti)^2/tE^2)*tE^2) - (t0 - ti)/(sqrt(umin^2 + (t0 - ti)^2/tE^2 + 4)*(umin^2 + (t0 - ti)^2/tE^2)*tE^2))/sig_i^2"
      ]
     },
     "execution_count": 70,
     "metadata": {},
     "output_type": "execute_result"
    }
   ],
   "source": [
    "dZ_t0(t0,t_E,umin)= diff(Z(t0,tE,umin),t0)\n",
    "dZ_t0"
   ]
  },
  {
   "cell_type": "code",
   "execution_count": 71,
   "metadata": {},
   "outputs": [
    {
     "data": {
      "text/html": [
       "<html><script type=\"math/tex; mode=display\">\\newcommand{\\Bold}[1]{\\mathbf{#1}}\\left( {t_{0}}, t_{E}, {u_{min}} \\right) \\ {\\mapsto} \\ -\\frac{2 \\, {\\left({A_i} - \\frac{\\sqrt{{u_{min}}^{2} + \\frac{{\\left({t_{0}} - {t_i}\\right)}^{2}}{{t_{E}}^{2}}} + 2}{\\sqrt{{u_{min}}^{2} + \\frac{{\\left({t_{0}} - {t_i}\\right)}^{2}}{{t_{E}}^{2}} + 4} \\sqrt{{u_{min}}^{2} + \\frac{{\\left({t_{0}} - {t_i}\\right)}^{2}}{{t_{E}}^{2}}}}\\right)} {\\left(\\frac{{\\left({t_{0}} - {t_i}\\right)}^{2} {\\left(\\sqrt{{u_{min}}^{2} + \\frac{{\\left({t_{0}} - {t_i}\\right)}^{2}}{{t_{E}}^{2}}} + 2\\right)}}{\\sqrt{{u_{min}}^{2} + \\frac{{\\left({t_{0}} - {t_i}\\right)}^{2}}{{t_{E}}^{2}} + 4} {\\left({u_{min}}^{2} + \\frac{{\\left({t_{0}} - {t_i}\\right)}^{2}}{{t_{E}}^{2}}\\right)}^{\\frac{3}{2}} {t_{E}}^{3}} + \\frac{{\\left({t_{0}} - {t_i}\\right)}^{2} {\\left(\\sqrt{{u_{min}}^{2} + \\frac{{\\left({t_{0}} - {t_i}\\right)}^{2}}{{t_{E}}^{2}}} + 2\\right)}}{{\\left({u_{min}}^{2} + \\frac{{\\left({t_{0}} - {t_i}\\right)}^{2}}{{t_{E}}^{2}} + 4\\right)}^{\\frac{3}{2}} \\sqrt{{u_{min}}^{2} + \\frac{{\\left({t_{0}} - {t_i}\\right)}^{2}}{{t_{E}}^{2}}} {t_{E}}^{3}} - \\frac{{\\left({t_{0}} - {t_i}\\right)}^{2}}{\\sqrt{{u_{min}}^{2} + \\frac{{\\left({t_{0}} - {t_i}\\right)}^{2}}{{t_{E}}^{2}} + 4} {\\left({u_{min}}^{2} + \\frac{{\\left({t_{0}} - {t_i}\\right)}^{2}}{{t_{E}}^{2}}\\right)} {t_{E}}^{3}}\\right)}}{{\\sigma_i}^{2}}</script></html>"
      ],
      "text/plain": [
       "(t0, t_E, umin) |--> -2*(Ai - (sqrt(umin^2 + (t0 - ti)^2/tE^2) + 2)/(sqrt(umin^2 + (t0 - ti)^2/tE^2 + 4)*sqrt(umin^2 + (t0 - ti)^2/tE^2)))*((t0 - ti)^2*(sqrt(umin^2 + (t0 - ti)^2/tE^2) + 2)/(sqrt(umin^2 + (t0 - ti)^2/tE^2 + 4)*(umin^2 + (t0 - ti)^2/tE^2)^(3/2)*tE^3) + (t0 - ti)^2*(sqrt(umin^2 + (t0 - ti)^2/tE^2) + 2)/((umin^2 + (t0 - ti)^2/tE^2 + 4)^(3/2)*sqrt(umin^2 + (t0 - ti)^2/tE^2)*tE^3) - (t0 - ti)^2/(sqrt(umin^2 + (t0 - ti)^2/tE^2 + 4)*(umin^2 + (t0 - ti)^2/tE^2)*tE^3))/sig_i^2"
      ]
     },
     "execution_count": 71,
     "metadata": {},
     "output_type": "execute_result"
    }
   ],
   "source": [
    "dZ_tE(t0,t_E,umin)= diff(Z(t0,tE,umin),tE)\n",
    "dZ_tE"
   ]
  },
  {
   "cell_type": "code",
   "execution_count": 72,
   "metadata": {},
   "outputs": [
    {
     "data": {
      "text/html": [
       "<html><script type=\"math/tex; mode=display\">\\newcommand{\\Bold}[1]{\\mathbf{#1}}\\left( {t_{0}}, t_{E}, {u_{min}} \\right) \\ {\\mapsto} \\ \\frac{2 \\, {\\left({A_i} - \\frac{\\sqrt{{u_{min}}^{2} + \\frac{{\\left({t_{0}} - {t_i}\\right)}^{2}}{{t_{E}}^{2}}} + 2}{\\sqrt{{u_{min}}^{2} + \\frac{{\\left({t_{0}} - {t_i}\\right)}^{2}}{{t_{E}}^{2}} + 4} \\sqrt{{u_{min}}^{2} + \\frac{{\\left({t_{0}} - {t_i}\\right)}^{2}}{{t_{E}}^{2}}}}\\right)} {\\left(\\frac{{u_{min}} {\\left(\\sqrt{{u_{min}}^{2} + \\frac{{\\left({t_{0}} - {t_i}\\right)}^{2}}{{t_{E}}^{2}}} + 2\\right)}}{\\sqrt{{u_{min}}^{2} + \\frac{{\\left({t_{0}} - {t_i}\\right)}^{2}}{{t_{E}}^{2}} + 4} {\\left({u_{min}}^{2} + \\frac{{\\left({t_{0}} - {t_i}\\right)}^{2}}{{t_{E}}^{2}}\\right)}^{\\frac{3}{2}}} + \\frac{{u_{min}} {\\left(\\sqrt{{u_{min}}^{2} + \\frac{{\\left({t_{0}} - {t_i}\\right)}^{2}}{{t_{E}}^{2}}} + 2\\right)}}{{\\left({u_{min}}^{2} + \\frac{{\\left({t_{0}} - {t_i}\\right)}^{2}}{{t_{E}}^{2}} + 4\\right)}^{\\frac{3}{2}} \\sqrt{{u_{min}}^{2} + \\frac{{\\left({t_{0}} - {t_i}\\right)}^{2}}{{t_{E}}^{2}}}} - \\frac{{u_{min}}}{\\sqrt{{u_{min}}^{2} + \\frac{{\\left({t_{0}} - {t_i}\\right)}^{2}}{{t_{E}}^{2}} + 4} {\\left({u_{min}}^{2} + \\frac{{\\left({t_{0}} - {t_i}\\right)}^{2}}{{t_{E}}^{2}}\\right)}}\\right)}}{{\\sigma_i}^{2}}</script></html>"
      ],
      "text/plain": [
       "(t0, t_E, umin) |--> 2*(Ai - (sqrt(umin^2 + (t0 - ti)^2/tE^2) + 2)/(sqrt(umin^2 + (t0 - ti)^2/tE^2 + 4)*sqrt(umin^2 + (t0 - ti)^2/tE^2)))*(umin*(sqrt(umin^2 + (t0 - ti)^2/tE^2) + 2)/(sqrt(umin^2 + (t0 - ti)^2/tE^2 + 4)*(umin^2 + (t0 - ti)^2/tE^2)^(3/2)) + umin*(sqrt(umin^2 + (t0 - ti)^2/tE^2) + 2)/((umin^2 + (t0 - ti)^2/tE^2 + 4)^(3/2)*sqrt(umin^2 + (t0 - ti)^2/tE^2)) - umin/(sqrt(umin^2 + (t0 - ti)^2/tE^2 + 4)*(umin^2 + (t0 - ti)^2/tE^2)))/sig_i^2"
      ]
     },
     "execution_count": 72,
     "metadata": {},
     "output_type": "execute_result"
    }
   ],
   "source": [
    "dZ_u(t0,t_E,umin)= diff(Z(t0,tE,umin),umin)\n",
    "dZ_u"
   ]
  },
  {
   "cell_type": "markdown",
   "metadata": {},
   "source": [
    "#### Dérivées secondes"
   ]
  },
  {
   "cell_type": "code",
   "execution_count": 78,
   "metadata": {},
   "outputs": [],
   "source": [
    "dZ2_t02(t0,t_E,t0)=diff(Z(t0,tE,umin),t0,2)"
   ]
  },
  {
   "cell_type": "code",
   "execution_count": 79,
   "metadata": {},
   "outputs": [
    {
     "data": {
      "text/html": [
       "<html><script type=\"math/tex; mode=display\">\\newcommand{\\Bold}[1]{\\mathbf{#1}}\\frac{2 \\, {\\left(\\frac{{\\left({t_{0}} - {t_i}\\right)} {\\left(\\sqrt{{u_{min}}^{2} + \\frac{{\\left({t_{0}} - {t_i}\\right)}^{2}}{{t_{E}}^{2}}} + 2\\right)}}{\\sqrt{{u_{min}}^{2} + \\frac{{\\left({t_{0}} - {t_i}\\right)}^{2}}{{t_{E}}^{2}} + 4} {\\left({u_{min}}^{2} + \\frac{{\\left({t_{0}} - {t_i}\\right)}^{2}}{{t_{E}}^{2}}\\right)}^{\\frac{3}{2}} {t_{E}}^{2}} + \\frac{{\\left({t_{0}} - {t_i}\\right)} {\\left(\\sqrt{{u_{min}}^{2} + \\frac{{\\left({t_{0}} - {t_i}\\right)}^{2}}{{t_{E}}^{2}}} + 2\\right)}}{{\\left({u_{min}}^{2} + \\frac{{\\left({t_{0}} - {t_i}\\right)}^{2}}{{t_{E}}^{2}} + 4\\right)}^{\\frac{3}{2}} \\sqrt{{u_{min}}^{2} + \\frac{{\\left({t_{0}} - {t_i}\\right)}^{2}}{{t_{E}}^{2}}} {t_{E}}^{2}} - \\frac{{t_{0}} - {t_i}}{\\sqrt{{u_{min}}^{2} + \\frac{{\\left({t_{0}} - {t_i}\\right)}^{2}}{{t_{E}}^{2}} + 4} {\\left({u_{min}}^{2} + \\frac{{\\left({t_{0}} - {t_i}\\right)}^{2}}{{t_{E}}^{2}}\\right)} {t_{E}}^{2}}\\right)}^{2}}{{\\sigma_i}^{2}} + \\frac{2 \\, {\\left({A_i} - \\frac{\\sqrt{{u_{min}}^{2} + \\frac{{\\left({t_{0}} - {t_i}\\right)}^{2}}{{t_{E}}^{2}}} + 2}{\\sqrt{{u_{min}}^{2} + \\frac{{\\left({t_{0}} - {t_i}\\right)}^{2}}{{t_{E}}^{2}} + 4} \\sqrt{{u_{min}}^{2} + \\frac{{\\left({t_{0}} - {t_i}\\right)}^{2}}{{t_{E}}^{2}}}}\\right)} {\\left(\\frac{\\sqrt{{u_{min}}^{2} + \\frac{{\\left({t_{0}} - {t_i}\\right)}^{2}}{{t_{E}}^{2}}} + 2}{\\sqrt{{u_{min}}^{2} + \\frac{{\\left({t_{0}} - {t_i}\\right)}^{2}}{{t_{E}}^{2}} + 4} {\\left({u_{min}}^{2} + \\frac{{\\left({t_{0}} - {t_i}\\right)}^{2}}{{t_{E}}^{2}}\\right)}^{\\frac{3}{2}} {t_{E}}^{2}} + \\frac{\\sqrt{{u_{min}}^{2} + \\frac{{\\left({t_{0}} - {t_i}\\right)}^{2}}{{t_{E}}^{2}}} + 2}{{\\left({u_{min}}^{2} + \\frac{{\\left({t_{0}} - {t_i}\\right)}^{2}}{{t_{E}}^{2}} + 4\\right)}^{\\frac{3}{2}} \\sqrt{{u_{min}}^{2} + \\frac{{\\left({t_{0}} - {t_i}\\right)}^{2}}{{t_{E}}^{2}}} {t_{E}}^{2}} - \\frac{1}{\\sqrt{{u_{min}}^{2} + \\frac{{\\left({t_{0}} - {t_i}\\right)}^{2}}{{t_{E}}^{2}} + 4} {\\left({u_{min}}^{2} + \\frac{{\\left({t_{0}} - {t_i}\\right)}^{2}}{{t_{E}}^{2}}\\right)} {t_{E}}^{2}} - \\frac{3 \\, {\\left({t_{0}} - {t_i}\\right)}^{2} {\\left(\\sqrt{{u_{min}}^{2} + \\frac{{\\left({t_{0}} - {t_i}\\right)}^{2}}{{t_{E}}^{2}}} + 2\\right)}}{\\sqrt{{u_{min}}^{2} + \\frac{{\\left({t_{0}} - {t_i}\\right)}^{2}}{{t_{E}}^{2}} + 4} {\\left({u_{min}}^{2} + \\frac{{\\left({t_{0}} - {t_i}\\right)}^{2}}{{t_{E}}^{2}}\\right)}^{\\frac{5}{2}} {t_{E}}^{4}} - \\frac{2 \\, {\\left({t_{0}} - {t_i}\\right)}^{2} {\\left(\\sqrt{{u_{min}}^{2} + \\frac{{\\left({t_{0}} - {t_i}\\right)}^{2}}{{t_{E}}^{2}}} + 2\\right)}}{{\\left({u_{min}}^{2} + \\frac{{\\left({t_{0}} - {t_i}\\right)}^{2}}{{t_{E}}^{2}} + 4\\right)}^{\\frac{3}{2}} {\\left({u_{min}}^{2} + \\frac{{\\left({t_{0}} - {t_i}\\right)}^{2}}{{t_{E}}^{2}}\\right)}^{\\frac{3}{2}} {t_{E}}^{4}} - \\frac{3 \\, {\\left({t_{0}} - {t_i}\\right)}^{2} {\\left(\\sqrt{{u_{min}}^{2} + \\frac{{\\left({t_{0}} - {t_i}\\right)}^{2}}{{t_{E}}^{2}}} + 2\\right)}}{{\\left({u_{min}}^{2} + \\frac{{\\left({t_{0}} - {t_i}\\right)}^{2}}{{t_{E}}^{2}} + 4\\right)}^{\\frac{5}{2}} \\sqrt{{u_{min}}^{2} + \\frac{{\\left({t_{0}} - {t_i}\\right)}^{2}}{{t_{E}}^{2}}} {t_{E}}^{4}} + \\frac{3 \\, {\\left({t_{0}} - {t_i}\\right)}^{2}}{\\sqrt{{u_{min}}^{2} + \\frac{{\\left({t_{0}} - {t_i}\\right)}^{2}}{{t_{E}}^{2}} + 4} {\\left({u_{min}}^{2} + \\frac{{\\left({t_{0}} - {t_i}\\right)}^{2}}{{t_{E}}^{2}}\\right)}^{2} {t_{E}}^{4}} + \\frac{2 \\, {\\left({t_{0}} - {t_i}\\right)}^{2}}{{\\left({u_{min}}^{2} + \\frac{{\\left({t_{0}} - {t_i}\\right)}^{2}}{{t_{E}}^{2}} + 4\\right)}^{\\frac{3}{2}} {\\left({u_{min}}^{2} + \\frac{{\\left({t_{0}} - {t_i}\\right)}^{2}}{{t_{E}}^{2}}\\right)} {t_{E}}^{4}}\\right)}}{{\\sigma_i}^{2}}</script></html>"
      ],
      "text/plain": [
       "2*((t0 - ti)*(sqrt(umin^2 + (t0 - ti)^2/tE^2) + 2)/(sqrt(umin^2 + (t0 - ti)^2/tE^2 + 4)*(umin^2 + (t0 - ti)^2/tE^2)^(3/2)*tE^2) + (t0 - ti)*(sqrt(umin^2 + (t0 - ti)^2/tE^2) + 2)/((umin^2 + (t0 - ti)^2/tE^2 + 4)^(3/2)*sqrt(umin^2 + (t0 - ti)^2/tE^2)*tE^2) - (t0 - ti)/(sqrt(umin^2 + (t0 - ti)^2/tE^2 + 4)*(umin^2 + (t0 - ti)^2/tE^2)*tE^2))^2/sig_i^2 + 2*(Ai - (sqrt(umin^2 + (t0 - ti)^2/tE^2) + 2)/(sqrt(umin^2 + (t0 - ti)^2/tE^2 + 4)*sqrt(umin^2 + (t0 - ti)^2/tE^2)))*((sqrt(umin^2 + (t0 - ti)^2/tE^2) + 2)/(sqrt(umin^2 + (t0 - ti)^2/tE^2 + 4)*(umin^2 + (t0 - ti)^2/tE^2)^(3/2)*tE^2) + (sqrt(umin^2 + (t0 - ti)^2/tE^2) + 2)/((umin^2 + (t0 - ti)^2/tE^2 + 4)^(3/2)*sqrt(umin^2 + (t0 - ti)^2/tE^2)*tE^2) - 1/(sqrt(umin^2 + (t0 - ti)^2/tE^2 + 4)*(umin^2 + (t0 - ti)^2/tE^2)*tE^2) - 3*(t0 - ti)^2*(sqrt(umin^2 + (t0 - ti)^2/tE^2) + 2)/(sqrt(umin^2 + (t0 - ti)^2/tE^2 + 4)*(umin^2 + (t0 - ti)^2/tE^2)^(5/2)*tE^4) - 2*(t0 - ti)^2*(sqrt(umin^2 + (t0 - ti)^2/tE^2) + 2)/((umin^2 + (t0 - ti)^2/tE^2 + 4)^(3/2)*(umin^2 + (t0 - ti)^2/tE^2)^(3/2)*tE^4) - 3*(t0 - ti)^2*(sqrt(umin^2 + (t0 - ti)^2/tE^2) + 2)/((umin^2 + (t0 - ti)^2/tE^2 + 4)^(5/2)*sqrt(umin^2 + (t0 - ti)^2/tE^2)*tE^4) + 3*(t0 - ti)^2/(sqrt(umin^2 + (t0 - ti)^2/tE^2 + 4)*(umin^2 + (t0 - ti)^2/tE^2)^2*tE^4) + 2*(t0 - ti)^2/((umin^2 + (t0 - ti)^2/tE^2 + 4)^(3/2)*(umin^2 + (t0 - ti)^2/tE^2)*tE^4))/sig_i^2"
      ]
     },
     "execution_count": 79,
     "metadata": {},
     "output_type": "execute_result"
    }
   ],
   "source": [
    "dZ2_t02(t0,t_E,t0)"
   ]
  },
  {
   "cell_type": "code",
   "execution_count": 81,
   "metadata": {},
   "outputs": [
    {
     "data": {
      "text/html": [
       "<html><script type=\"math/tex; mode=display\">\\newcommand{\\Bold}[1]{\\mathbf{#1}}\\frac{2 \\, {\\left(\\frac{{\\left({t_{0}} - {t_i}\\right)}^{2} {\\left(\\sqrt{{u_{min}}^{2} + \\frac{{\\left({t_{0}} - {t_i}\\right)}^{2}}{{t_{E}}^{2}}} + 2\\right)}}{\\sqrt{{u_{min}}^{2} + \\frac{{\\left({t_{0}} - {t_i}\\right)}^{2}}{{t_{E}}^{2}} + 4} {\\left({u_{min}}^{2} + \\frac{{\\left({t_{0}} - {t_i}\\right)}^{2}}{{t_{E}}^{2}}\\right)}^{\\frac{3}{2}} {t_{E}}^{3}} + \\frac{{\\left({t_{0}} - {t_i}\\right)}^{2} {\\left(\\sqrt{{u_{min}}^{2} + \\frac{{\\left({t_{0}} - {t_i}\\right)}^{2}}{{t_{E}}^{2}}} + 2\\right)}}{{\\left({u_{min}}^{2} + \\frac{{\\left({t_{0}} - {t_i}\\right)}^{2}}{{t_{E}}^{2}} + 4\\right)}^{\\frac{3}{2}} \\sqrt{{u_{min}}^{2} + \\frac{{\\left({t_{0}} - {t_i}\\right)}^{2}}{{t_{E}}^{2}}} {t_{E}}^{3}} - \\frac{{\\left({t_{0}} - {t_i}\\right)}^{2}}{\\sqrt{{u_{min}}^{2} + \\frac{{\\left({t_{0}} - {t_i}\\right)}^{2}}{{t_{E}}^{2}} + 4} {\\left({u_{min}}^{2} + \\frac{{\\left({t_{0}} - {t_i}\\right)}^{2}}{{t_{E}}^{2}}\\right)} {t_{E}}^{3}}\\right)}^{2}}{{\\sigma_i}^{2}} + \\frac{2 \\, {\\left({A_i} - \\frac{\\sqrt{{u_{min}}^{2} + \\frac{{\\left({t_{0}} - {t_i}\\right)}^{2}}{{t_{E}}^{2}}} + 2}{\\sqrt{{u_{min}}^{2} + \\frac{{\\left({t_{0}} - {t_i}\\right)}^{2}}{{t_{E}}^{2}} + 4} \\sqrt{{u_{min}}^{2} + \\frac{{\\left({t_{0}} - {t_i}\\right)}^{2}}{{t_{E}}^{2}}}}\\right)} {\\left(\\frac{3 \\, {\\left({t_{0}} - {t_i}\\right)}^{2} {\\left(\\sqrt{{u_{min}}^{2} + \\frac{{\\left({t_{0}} - {t_i}\\right)}^{2}}{{t_{E}}^{2}}} + 2\\right)}}{\\sqrt{{u_{min}}^{2} + \\frac{{\\left({t_{0}} - {t_i}\\right)}^{2}}{{t_{E}}^{2}} + 4} {\\left({u_{min}}^{2} + \\frac{{\\left({t_{0}} - {t_i}\\right)}^{2}}{{t_{E}}^{2}}\\right)}^{\\frac{3}{2}} {t_{E}}^{4}} + \\frac{3 \\, {\\left({t_{0}} - {t_i}\\right)}^{2} {\\left(\\sqrt{{u_{min}}^{2} + \\frac{{\\left({t_{0}} - {t_i}\\right)}^{2}}{{t_{E}}^{2}}} + 2\\right)}}{{\\left({u_{min}}^{2} + \\frac{{\\left({t_{0}} - {t_i}\\right)}^{2}}{{t_{E}}^{2}} + 4\\right)}^{\\frac{3}{2}} \\sqrt{{u_{min}}^{2} + \\frac{{\\left({t_{0}} - {t_i}\\right)}^{2}}{{t_{E}}^{2}}} {t_{E}}^{4}} - \\frac{3 \\, {\\left({t_{0}} - {t_i}\\right)}^{2}}{\\sqrt{{u_{min}}^{2} + \\frac{{\\left({t_{0}} - {t_i}\\right)}^{2}}{{t_{E}}^{2}} + 4} {\\left({u_{min}}^{2} + \\frac{{\\left({t_{0}} - {t_i}\\right)}^{2}}{{t_{E}}^{2}}\\right)} {t_{E}}^{4}} - \\frac{3 \\, {\\left({t_{0}} - {t_i}\\right)}^{4} {\\left(\\sqrt{{u_{min}}^{2} + \\frac{{\\left({t_{0}} - {t_i}\\right)}^{2}}{{t_{E}}^{2}}} + 2\\right)}}{\\sqrt{{u_{min}}^{2} + \\frac{{\\left({t_{0}} - {t_i}\\right)}^{2}}{{t_{E}}^{2}} + 4} {\\left({u_{min}}^{2} + \\frac{{\\left({t_{0}} - {t_i}\\right)}^{2}}{{t_{E}}^{2}}\\right)}^{\\frac{5}{2}} {t_{E}}^{6}} - \\frac{2 \\, {\\left({t_{0}} - {t_i}\\right)}^{4} {\\left(\\sqrt{{u_{min}}^{2} + \\frac{{\\left({t_{0}} - {t_i}\\right)}^{2}}{{t_{E}}^{2}}} + 2\\right)}}{{\\left({u_{min}}^{2} + \\frac{{\\left({t_{0}} - {t_i}\\right)}^{2}}{{t_{E}}^{2}} + 4\\right)}^{\\frac{3}{2}} {\\left({u_{min}}^{2} + \\frac{{\\left({t_{0}} - {t_i}\\right)}^{2}}{{t_{E}}^{2}}\\right)}^{\\frac{3}{2}} {t_{E}}^{6}} - \\frac{3 \\, {\\left({t_{0}} - {t_i}\\right)}^{4} {\\left(\\sqrt{{u_{min}}^{2} + \\frac{{\\left({t_{0}} - {t_i}\\right)}^{2}}{{t_{E}}^{2}}} + 2\\right)}}{{\\left({u_{min}}^{2} + \\frac{{\\left({t_{0}} - {t_i}\\right)}^{2}}{{t_{E}}^{2}} + 4\\right)}^{\\frac{5}{2}} \\sqrt{{u_{min}}^{2} + \\frac{{\\left({t_{0}} - {t_i}\\right)}^{2}}{{t_{E}}^{2}}} {t_{E}}^{6}} + \\frac{3 \\, {\\left({t_{0}} - {t_i}\\right)}^{4}}{\\sqrt{{u_{min}}^{2} + \\frac{{\\left({t_{0}} - {t_i}\\right)}^{2}}{{t_{E}}^{2}} + 4} {\\left({u_{min}}^{2} + \\frac{{\\left({t_{0}} - {t_i}\\right)}^{2}}{{t_{E}}^{2}}\\right)}^{2} {t_{E}}^{6}} + \\frac{2 \\, {\\left({t_{0}} - {t_i}\\right)}^{4}}{{\\left({u_{min}}^{2} + \\frac{{\\left({t_{0}} - {t_i}\\right)}^{2}}{{t_{E}}^{2}} + 4\\right)}^{\\frac{3}{2}} {\\left({u_{min}}^{2} + \\frac{{\\left({t_{0}} - {t_i}\\right)}^{2}}{{t_{E}}^{2}}\\right)} {t_{E}}^{6}}\\right)}}{{\\sigma_i}^{2}}</script></html>"
      ],
      "text/plain": [
       "2*((t0 - ti)^2*(sqrt(umin^2 + (t0 - ti)^2/tE^2) + 2)/(sqrt(umin^2 + (t0 - ti)^2/tE^2 + 4)*(umin^2 + (t0 - ti)^2/tE^2)^(3/2)*tE^3) + (t0 - ti)^2*(sqrt(umin^2 + (t0 - ti)^2/tE^2) + 2)/((umin^2 + (t0 - ti)^2/tE^2 + 4)^(3/2)*sqrt(umin^2 + (t0 - ti)^2/tE^2)*tE^3) - (t0 - ti)^2/(sqrt(umin^2 + (t0 - ti)^2/tE^2 + 4)*(umin^2 + (t0 - ti)^2/tE^2)*tE^3))^2/sig_i^2 + 2*(Ai - (sqrt(umin^2 + (t0 - ti)^2/tE^2) + 2)/(sqrt(umin^2 + (t0 - ti)^2/tE^2 + 4)*sqrt(umin^2 + (t0 - ti)^2/tE^2)))*(3*(t0 - ti)^2*(sqrt(umin^2 + (t0 - ti)^2/tE^2) + 2)/(sqrt(umin^2 + (t0 - ti)^2/tE^2 + 4)*(umin^2 + (t0 - ti)^2/tE^2)^(3/2)*tE^4) + 3*(t0 - ti)^2*(sqrt(umin^2 + (t0 - ti)^2/tE^2) + 2)/((umin^2 + (t0 - ti)^2/tE^2 + 4)^(3/2)*sqrt(umin^2 + (t0 - ti)^2/tE^2)*tE^4) - 3*(t0 - ti)^2/(sqrt(umin^2 + (t0 - ti)^2/tE^2 + 4)*(umin^2 + (t0 - ti)^2/tE^2)*tE^4) - 3*(t0 - ti)^4*(sqrt(umin^2 + (t0 - ti)^2/tE^2) + 2)/(sqrt(umin^2 + (t0 - ti)^2/tE^2 + 4)*(umin^2 + (t0 - ti)^2/tE^2)^(5/2)*tE^6) - 2*(t0 - ti)^4*(sqrt(umin^2 + (t0 - ti)^2/tE^2) + 2)/((umin^2 + (t0 - ti)^2/tE^2 + 4)^(3/2)*(umin^2 + (t0 - ti)^2/tE^2)^(3/2)*tE^6) - 3*(t0 - ti)^4*(sqrt(umin^2 + (t0 - ti)^2/tE^2) + 2)/((umin^2 + (t0 - ti)^2/tE^2 + 4)^(5/2)*sqrt(umin^2 + (t0 - ti)^2/tE^2)*tE^6) + 3*(t0 - ti)^4/(sqrt(umin^2 + (t0 - ti)^2/tE^2 + 4)*(umin^2 + (t0 - ti)^2/tE^2)^2*tE^6) + 2*(t0 - ti)^4/((umin^2 + (t0 - ti)^2/tE^2 + 4)^(3/2)*(umin^2 + (t0 - ti)^2/tE^2)*tE^6))/sig_i^2"
      ]
     },
     "execution_count": 81,
     "metadata": {},
     "output_type": "execute_result"
    }
   ],
   "source": [
    "dZ2_tE2(t0,t_E,umin) = diff(Z(t0,tE,umin),tE,2)\n",
    "dZ2_tE2(t0,t_E,umin)"
   ]
  },
  {
   "cell_type": "code",
   "execution_count": 82,
   "metadata": {},
   "outputs": [
    {
     "data": {
      "text/html": [
       "<html><script type=\"math/tex; mode=display\">\\newcommand{\\Bold}[1]{\\mathbf{#1}}\\frac{2 \\, {\\left(\\frac{{u_{min}} {\\left(\\sqrt{{u_{min}}^{2} + \\frac{{\\left({t_{0}} - {t_i}\\right)}^{2}}{{t_{E}}^{2}}} + 2\\right)}}{\\sqrt{{u_{min}}^{2} + \\frac{{\\left({t_{0}} - {t_i}\\right)}^{2}}{{t_{E}}^{2}} + 4} {\\left({u_{min}}^{2} + \\frac{{\\left({t_{0}} - {t_i}\\right)}^{2}}{{t_{E}}^{2}}\\right)}^{\\frac{3}{2}}} + \\frac{{u_{min}} {\\left(\\sqrt{{u_{min}}^{2} + \\frac{{\\left({t_{0}} - {t_i}\\right)}^{2}}{{t_{E}}^{2}}} + 2\\right)}}{{\\left({u_{min}}^{2} + \\frac{{\\left({t_{0}} - {t_i}\\right)}^{2}}{{t_{E}}^{2}} + 4\\right)}^{\\frac{3}{2}} \\sqrt{{u_{min}}^{2} + \\frac{{\\left({t_{0}} - {t_i}\\right)}^{2}}{{t_{E}}^{2}}}} - \\frac{{u_{min}}}{\\sqrt{{u_{min}}^{2} + \\frac{{\\left({t_{0}} - {t_i}\\right)}^{2}}{{t_{E}}^{2}} + 4} {\\left({u_{min}}^{2} + \\frac{{\\left({t_{0}} - {t_i}\\right)}^{2}}{{t_{E}}^{2}}\\right)}}\\right)}^{2}}{{\\sigma_i}^{2}} - \\frac{2 \\, {\\left({A_i} - \\frac{\\sqrt{{u_{min}}^{2} + \\frac{{\\left({t_{0}} - {t_i}\\right)}^{2}}{{t_{E}}^{2}}} + 2}{\\sqrt{{u_{min}}^{2} + \\frac{{\\left({t_{0}} - {t_i}\\right)}^{2}}{{t_{E}}^{2}} + 4} \\sqrt{{u_{min}}^{2} + \\frac{{\\left({t_{0}} - {t_i}\\right)}^{2}}{{t_{E}}^{2}}}}\\right)} {\\left(\\frac{3 \\, {u_{min}}^{2} {\\left(\\sqrt{{u_{min}}^{2} + \\frac{{\\left({t_{0}} - {t_i}\\right)}^{2}}{{t_{E}}^{2}}} + 2\\right)}}{\\sqrt{{u_{min}}^{2} + \\frac{{\\left({t_{0}} - {t_i}\\right)}^{2}}{{t_{E}}^{2}} + 4} {\\left({u_{min}}^{2} + \\frac{{\\left({t_{0}} - {t_i}\\right)}^{2}}{{t_{E}}^{2}}\\right)}^{\\frac{5}{2}}} + \\frac{2 \\, {u_{min}}^{2} {\\left(\\sqrt{{u_{min}}^{2} + \\frac{{\\left({t_{0}} - {t_i}\\right)}^{2}}{{t_{E}}^{2}}} + 2\\right)}}{{\\left({u_{min}}^{2} + \\frac{{\\left({t_{0}} - {t_i}\\right)}^{2}}{{t_{E}}^{2}} + 4\\right)}^{\\frac{3}{2}} {\\left({u_{min}}^{2} + \\frac{{\\left({t_{0}} - {t_i}\\right)}^{2}}{{t_{E}}^{2}}\\right)}^{\\frac{3}{2}}} + \\frac{3 \\, {u_{min}}^{2} {\\left(\\sqrt{{u_{min}}^{2} + \\frac{{\\left({t_{0}} - {t_i}\\right)}^{2}}{{t_{E}}^{2}}} + 2\\right)}}{{\\left({u_{min}}^{2} + \\frac{{\\left({t_{0}} - {t_i}\\right)}^{2}}{{t_{E}}^{2}} + 4\\right)}^{\\frac{5}{2}} \\sqrt{{u_{min}}^{2} + \\frac{{\\left({t_{0}} - {t_i}\\right)}^{2}}{{t_{E}}^{2}}}} - \\frac{3 \\, {u_{min}}^{2}}{\\sqrt{{u_{min}}^{2} + \\frac{{\\left({t_{0}} - {t_i}\\right)}^{2}}{{t_{E}}^{2}} + 4} {\\left({u_{min}}^{2} + \\frac{{\\left({t_{0}} - {t_i}\\right)}^{2}}{{t_{E}}^{2}}\\right)}^{2}} - \\frac{2 \\, {u_{min}}^{2}}{{\\left({u_{min}}^{2} + \\frac{{\\left({t_{0}} - {t_i}\\right)}^{2}}{{t_{E}}^{2}} + 4\\right)}^{\\frac{3}{2}} {\\left({u_{min}}^{2} + \\frac{{\\left({t_{0}} - {t_i}\\right)}^{2}}{{t_{E}}^{2}}\\right)}} - \\frac{\\sqrt{{u_{min}}^{2} + \\frac{{\\left({t_{0}} - {t_i}\\right)}^{2}}{{t_{E}}^{2}}} + 2}{\\sqrt{{u_{min}}^{2} + \\frac{{\\left({t_{0}} - {t_i}\\right)}^{2}}{{t_{E}}^{2}} + 4} {\\left({u_{min}}^{2} + \\frac{{\\left({t_{0}} - {t_i}\\right)}^{2}}{{t_{E}}^{2}}\\right)}^{\\frac{3}{2}}} - \\frac{\\sqrt{{u_{min}}^{2} + \\frac{{\\left({t_{0}} - {t_i}\\right)}^{2}}{{t_{E}}^{2}}} + 2}{{\\left({u_{min}}^{2} + \\frac{{\\left({t_{0}} - {t_i}\\right)}^{2}}{{t_{E}}^{2}} + 4\\right)}^{\\frac{3}{2}} \\sqrt{{u_{min}}^{2} + \\frac{{\\left({t_{0}} - {t_i}\\right)}^{2}}{{t_{E}}^{2}}}} + \\frac{1}{\\sqrt{{u_{min}}^{2} + \\frac{{\\left({t_{0}} - {t_i}\\right)}^{2}}{{t_{E}}^{2}} + 4} {\\left({u_{min}}^{2} + \\frac{{\\left({t_{0}} - {t_i}\\right)}^{2}}{{t_{E}}^{2}}\\right)}}\\right)}}{{\\sigma_i}^{2}}</script></html>"
      ],
      "text/plain": [
       "2*(umin*(sqrt(umin^2 + (t0 - ti)^2/tE^2) + 2)/(sqrt(umin^2 + (t0 - ti)^2/tE^2 + 4)*(umin^2 + (t0 - ti)^2/tE^2)^(3/2)) + umin*(sqrt(umin^2 + (t0 - ti)^2/tE^2) + 2)/((umin^2 + (t0 - ti)^2/tE^2 + 4)^(3/2)*sqrt(umin^2 + (t0 - ti)^2/tE^2)) - umin/(sqrt(umin^2 + (t0 - ti)^2/tE^2 + 4)*(umin^2 + (t0 - ti)^2/tE^2)))^2/sig_i^2 - 2*(Ai - (sqrt(umin^2 + (t0 - ti)^2/tE^2) + 2)/(sqrt(umin^2 + (t0 - ti)^2/tE^2 + 4)*sqrt(umin^2 + (t0 - ti)^2/tE^2)))*(3*umin^2*(sqrt(umin^2 + (t0 - ti)^2/tE^2) + 2)/(sqrt(umin^2 + (t0 - ti)^2/tE^2 + 4)*(umin^2 + (t0 - ti)^2/tE^2)^(5/2)) + 2*umin^2*(sqrt(umin^2 + (t0 - ti)^2/tE^2) + 2)/((umin^2 + (t0 - ti)^2/tE^2 + 4)^(3/2)*(umin^2 + (t0 - ti)^2/tE^2)^(3/2)) + 3*umin^2*(sqrt(umin^2 + (t0 - ti)^2/tE^2) + 2)/((umin^2 + (t0 - ti)^2/tE^2 + 4)^(5/2)*sqrt(umin^2 + (t0 - ti)^2/tE^2)) - 3*umin^2/(sqrt(umin^2 + (t0 - ti)^2/tE^2 + 4)*(umin^2 + (t0 - ti)^2/tE^2)^2) - 2*umin^2/((umin^2 + (t0 - ti)^2/tE^2 + 4)^(3/2)*(umin^2 + (t0 - ti)^2/tE^2)) - (sqrt(umin^2 + (t0 - ti)^2/tE^2) + 2)/(sqrt(umin^2 + (t0 - ti)^2/tE^2 + 4)*(umin^2 + (t0 - ti)^2/tE^2)^(3/2)) - (sqrt(umin^2 + (t0 - ti)^2/tE^2) + 2)/((umin^2 + (t0 - ti)^2/tE^2 + 4)^(3/2)*sqrt(umin^2 + (t0 - ti)^2/tE^2)) + 1/(sqrt(umin^2 + (t0 - ti)^2/tE^2 + 4)*(umin^2 + (t0 - ti)^2/tE^2)))/sig_i^2"
      ]
     },
     "execution_count": 82,
     "metadata": {},
     "output_type": "execute_result"
    }
   ],
   "source": [
    "dZ2_tumin2(t0,t_E,umin) = diff(Z(t0,tE,umin),umin,2)\n",
    "dZ2_tumin2(t0,t_E,umin)"
   ]
  },
  {
   "cell_type": "code",
   "execution_count": null,
   "metadata": {},
   "outputs": [],
   "source": []
  }
 ],
 "metadata": {
  "kernelspec": {
   "display_name": "SageMath 9.1",
   "language": "sage",
   "name": "sagemath"
  },
  "language_info": {
   "codemirror_mode": {
    "name": "ipython",
    "version": 3
   },
   "file_extension": ".py",
   "mimetype": "text/x-python",
   "name": "python",
   "nbconvert_exporter": "python",
   "pygments_lexer": "ipython3",
   "version": "3.7.3"
  }
 },
 "nbformat": 4,
 "nbformat_minor": 2
}
