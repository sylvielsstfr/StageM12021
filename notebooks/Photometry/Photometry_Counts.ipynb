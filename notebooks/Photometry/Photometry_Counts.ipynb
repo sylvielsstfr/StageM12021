{
 "cells": [
  {
   "cell_type": "markdown",
   "metadata": {},
   "source": [
    "# Comptage photometrique\n",
    "\n",
    "- auteur : Sylvie Dagoret-Campagne\n",
    "- date de creation : 8 juin 2021\n",
    "- affiliation : IJCLab/IN2P3/CNRS\n"
   ]
  },
  {
   "cell_type": "markdown",
   "metadata": {},
   "source": [
    "## Import\n"
   ]
  },
  {
   "cell_type": "code",
   "execution_count": 151,
   "metadata": {},
   "outputs": [],
   "source": [
    "import os\n",
    "from astropy import constants as const"
   ]
  },
  {
   "cell_type": "code",
   "execution_count": 152,
   "metadata": {},
   "outputs": [],
   "source": [
    "#from astropy import physical_constants, astronomical_constants"
   ]
  },
  {
   "cell_type": "code",
   "execution_count": 153,
   "metadata": {},
   "outputs": [],
   "source": [
    "from astropy import units as u"
   ]
  },
  {
   "cell_type": "code",
   "execution_count": 154,
   "metadata": {},
   "outputs": [],
   "source": [
    "import numpy as np\n",
    "import pandas as pd\n",
    "import matplotlib.pyplot as plt\n",
    "%matplotlib inline"
   ]
  },
  {
   "cell_type": "code",
   "execution_count": 155,
   "metadata": {},
   "outputs": [],
   "source": [
    "import pysynphot as S"
   ]
  },
  {
   "cell_type": "code",
   "execution_count": 156,
   "metadata": {},
   "outputs": [
    {
     "name": "stdout",
     "output_type": "stream",
     "text": [
      "graphtable: /Users/dagoret/MacOSX/External/PySynPhotData/grp/hst/cdbs/mtab/14l1632sm_tmg.fits\n",
      " comptable: /Users/dagoret/MacOSX/External/PySynPhotData/grp/hst/cdbs/mtab/16n1832tm_tmc.fits\n",
      "thermtable: /Users/dagoret/MacOSX/External/PySynPhotData/grp/hst/cdbs/mtab/tae17277m_tmt.fits\n",
      "      area: 324015.4546769212\n",
      "   waveset: Min: 3000.0, Max: 11000.0, Num: None, Delta: 1.0, Log: False\n"
     ]
    }
   ],
   "source": [
    "NBBANDS = 6\n",
    "band_to_number = {'u':0,'g':1,'r':2,'i':3,'z':4,'y4':5}\n",
    "band_to_number_2 = {'u':0,'g':1,'r':2,'i':3,'z':4,'y':5}\n",
    "number_to_band = {0:'u',1:'g',2:'r',3:'i',4:'z',5:'y4'}\n",
    "number_to_band_2 = {0:'u',1:'g',2:'r',3:'i',4:'z',5:'y'}\n",
    "filtercolor = ['blue','green','red','orange','grey','black']\n",
    "NBCOLORS=NBBANDS-1\n",
    "number_to_color = {0:'U-G',1:'G-R',2:'R-I',3:'I-Z',4:'Z-Y'}\n",
    "color_to_number = {'U-G':0,'G-R':1,'R-I':2,'I-Z':3,'Z-Y':4}\n",
    "mpl_colors_col = ['b','g','r','y','grey','k']\n",
    "\n",
    "WLMIN = 3000. # Minimum wavelength : PySynPhot works with Angstrom\n",
    "WLMAX = 11000. # Minimum wavelength : PySynPhot works with Angstrom\n",
    "\n",
    "NBINS = int(WLMAX-WLMIN) # Number of bins between WLMIN and WLMAX\n",
    "BinWidth = (WLMAX-WLMIN)/float(NBINS) # Bin width in Angstrom\n",
    "WL = np.linspace(WLMIN,WLMAX,NBINS)   # Array of wavelength in Angstrom\n",
    "\n",
    "# LSST collectif surface\n",
    "Deff = 642.3 # effective radius in cm\n",
    "Seff = np.pi*Deff**2/4  # in cm2\n",
    "S.refs.setref(area = Seff, waveset=None) # set by default to 6.4230 m2\n",
    "S.refs.set_default_waveset(minwave = WLMIN, maxwave = WLMAX, num = NBINS, delta = BinWidth, log = False)\n",
    "S.refs.showref()\n",
    "\n",
    "EXPOSURE=30.0 # seconds\n",
    "gel=1  # phe/ADU\n",
    "\n",
    "pysynphot_root_path = os.environ['PYSYN_CDBS']\n",
    "path_sed_calspec = os.path.join(pysynphot_root_path,'calspec')\n",
    "\n",
    "#flatsp = S.FlatSpectrum(10, fluxunits='photlam')\n",
    "#flatsp.convert('photlam')\n",
    "#flatsp_norm = flatsp.renorm(10, 'vegamag', S.ObsBandpass('johnson,v'))\n",
    "#nbr_filters = 7"
   ]
  },
  {
   "cell_type": "markdown",
   "metadata": {},
   "source": [
    "# Flux\n",
    "\n",
    "\n",
    "Par définition le flux de réference donnant une magnitude AB nulle est\n",
    "$$\n",
    "F_{ref} = 3631.1 Jy \n",
    "$$\n",
    "\n",
    "avec\n",
    "$$\n",
    "1 Jy = 10^{-26} W.Hz^{-1}.m^{-2} = 10^{-23}.erg.cm^{-2} s^{-1} . Hz^{-1}\n",
    "$$"
   ]
  },
  {
   "cell_type": "markdown",
   "metadata": {},
   "source": [
    "## Flux de référence"
   ]
  },
  {
   "cell_type": "code",
   "execution_count": 157,
   "metadata": {},
   "outputs": [
    {
     "data": {
      "text/plain": [
       "3.6311e-33"
      ]
     },
     "execution_count": 157,
     "metadata": {},
     "output_type": "execute_result"
    }
   ],
   "source": [
    "# Conversion de 1Jy en W/Hz/m2 et on divise par 1O^0.4*25 (unite de 25 mag)\n",
    "# Calcul dans le SI\n",
    "K0=3631.1*1e-26*np.power(10,-10.)\n",
    "K0 # W/Hz/m2"
   ]
  },
  {
   "cell_type": "code",
   "execution_count": 158,
   "metadata": {},
   "outputs": [
    {
     "data": {
      "text/plain": [
       "5455.375228093965"
      ]
     },
     "execution_count": 158,
     "metadata": {},
     "output_type": "execute_result"
    }
   ],
   "source": [
    "# Pour une surface collectrice correspondant à D=6.5 m et Delta t = 30 sec\n",
    "# K1 est le terme de photoelectrons produits par le CCD pendant Delta T= 30 secondes\n",
    "# Calcul dans le SI\n",
    "K1=K0*np.pi*6.5**2/4*30./6.626e-34\n",
    "K1 # photoelectrons dans une exposition de 30 seconde dans le telescope de Diametre effectif de 6.5 m"
   ]
  },
  {
   "cell_type": "markdown",
   "metadata": {},
   "source": [
    "# Paths"
   ]
  },
  {
   "cell_type": "code",
   "execution_count": 159,
   "metadata": {},
   "outputs": [],
   "source": [
    "path_atmosphere=\"../../atmosphere/RT_MPL_pp_us_sa_rtvis_z12_wv40_oz30_cld0000.OUT\"\n",
    "path_throughtput=\"../../throughput/lsst_throughput.csv\""
   ]
  },
  {
   "cell_type": "markdown",
   "metadata": {},
   "source": [
    "# Charge configuration"
   ]
  },
  {
   "cell_type": "markdown",
   "metadata": {},
   "source": [
    "##  Bruit de fond de ciel"
   ]
  },
  {
   "cell_type": "code",
   "execution_count": 160,
   "metadata": {},
   "outputs": [],
   "source": [
    "sky_background_mag=[22.92,22.27,21.20,20.47,19.59,18.64]\n",
    "fwhm_seeing_arcsec=[.77,.73,.7,0.67,0.65,0.63]"
   ]
  },
  {
   "cell_type": "markdown",
   "metadata": {},
   "source": [
    "## Atmosphere"
   ]
  },
  {
   "cell_type": "code",
   "execution_count": 161,
   "metadata": {},
   "outputs": [],
   "source": [
    "data_atm=np.loadtxt(path_atmosphere)"
   ]
  },
  {
   "cell_type": "code",
   "execution_count": 162,
   "metadata": {},
   "outputs": [],
   "source": [
    "wl=data_atm[:,0]\n",
    "trans=data_atm[:,1]\n",
    "bp_atm = S.ArrayBandpass(wl*10, trans, name = \"atmosphere\")"
   ]
  },
  {
   "cell_type": "code",
   "execution_count": 163,
   "metadata": {},
   "outputs": [
    {
     "data": {
      "text/plain": [
       "[<matplotlib.lines.Line2D at 0x7fcc56933550>]"
      ]
     },
     "execution_count": 163,
     "metadata": {},
     "output_type": "execute_result"
    },
    {
     "data": {
      "image/png": "[encoded data removed]",
      "text/plain": [
       "<Figure size 432x288 with 1 Axes>"
      ]
     },
     "metadata": {
      "needs_background": "light"
     },
     "output_type": "display_data"
    }
   ],
   "source": [
    "fig,ax= plt.subplots()\n",
    "wl=bp_atm.wave\n",
    "tr=bp_atm.throughput\n",
    "ax.plot(wl,tr,color=filtercolor[index])"
   ]
  },
  {
   "cell_type": "markdown",
   "metadata": {},
   "source": [
    "## Filtres"
   ]
  },
  {
   "cell_type": "code",
   "execution_count": 164,
   "metadata": {},
   "outputs": [
    {
     "data": {
      "text/html": [
       "<div>\n",
       "<style scoped>\n",
       "    .dataframe tbody tr th:only-of-type {\n",
       "        vertical-align: middle;\n",
       "    }\n",
       "\n",
       "    .dataframe tbody tr th {\n",
       "        vertical-align: top;\n",
       "    }\n",
       "\n",
       "    .dataframe thead th {\n",
       "        text-align: right;\n",
       "    }\n",
       "</style>\n",
       "<table border=\"1\" class=\"dataframe\">\n",
       "  <thead>\n",
       "    <tr style=\"text-align: right;\">\n",
       "      <th></th>\n",
       "      <th>wl</th>\n",
       "      <th>u</th>\n",
       "      <th>g</th>\n",
       "      <th>r</th>\n",
       "      <th>i</th>\n",
       "      <th>z</th>\n",
       "      <th>y</th>\n",
       "    </tr>\n",
       "  </thead>\n",
       "  <tbody>\n",
       "    <tr>\n",
       "      <th>0</th>\n",
       "      <td>300</td>\n",
       "      <td>0.000711</td>\n",
       "      <td>0.000000</td>\n",
       "      <td>0.000000</td>\n",
       "      <td>0.000034</td>\n",
       "      <td>0.000000</td>\n",
       "      <td>0.000000</td>\n",
       "    </tr>\n",
       "    <tr>\n",
       "      <th>1</th>\n",
       "      <td>301</td>\n",
       "      <td>0.000440</td>\n",
       "      <td>0.000000</td>\n",
       "      <td>0.000000</td>\n",
       "      <td>0.000155</td>\n",
       "      <td>0.000000</td>\n",
       "      <td>0.000000</td>\n",
       "    </tr>\n",
       "    <tr>\n",
       "      <th>2</th>\n",
       "      <td>302</td>\n",
       "      <td>0.000591</td>\n",
       "      <td>0.000000</td>\n",
       "      <td>0.000000</td>\n",
       "      <td>0.000072</td>\n",
       "      <td>0.000000</td>\n",
       "      <td>0.000000</td>\n",
       "    </tr>\n",
       "    <tr>\n",
       "      <th>3</th>\n",
       "      <td>303</td>\n",
       "      <td>0.000022</td>\n",
       "      <td>0.000000</td>\n",
       "      <td>0.000000</td>\n",
       "      <td>0.000034</td>\n",
       "      <td>0.000000</td>\n",
       "      <td>0.000000</td>\n",
       "    </tr>\n",
       "    <tr>\n",
       "      <th>4</th>\n",
       "      <td>304</td>\n",
       "      <td>0.000229</td>\n",
       "      <td>0.000000</td>\n",
       "      <td>0.000000</td>\n",
       "      <td>0.000034</td>\n",
       "      <td>0.000000</td>\n",
       "      <td>0.000000</td>\n",
       "    </tr>\n",
       "    <tr>\n",
       "      <th>...</th>\n",
       "      <td>...</td>\n",
       "      <td>...</td>\n",
       "      <td>...</td>\n",
       "      <td>...</td>\n",
       "      <td>...</td>\n",
       "      <td>...</td>\n",
       "      <td>...</td>\n",
       "    </tr>\n",
       "    <tr>\n",
       "      <th>896</th>\n",
       "      <td>1196</td>\n",
       "      <td>0.000029</td>\n",
       "      <td>0.000298</td>\n",
       "      <td>0.000088</td>\n",
       "      <td>0.000121</td>\n",
       "      <td>0.000560</td>\n",
       "      <td>0.016426</td>\n",
       "    </tr>\n",
       "    <tr>\n",
       "      <th>897</th>\n",
       "      <td>1197</td>\n",
       "      <td>0.000024</td>\n",
       "      <td>0.000357</td>\n",
       "      <td>0.000084</td>\n",
       "      <td>0.000150</td>\n",
       "      <td>0.000630</td>\n",
       "      <td>0.016413</td>\n",
       "    </tr>\n",
       "    <tr>\n",
       "      <th>898</th>\n",
       "      <td>1198</td>\n",
       "      <td>0.000016</td>\n",
       "      <td>0.000427</td>\n",
       "      <td>0.000080</td>\n",
       "      <td>0.000187</td>\n",
       "      <td>0.000711</td>\n",
       "      <td>0.016397</td>\n",
       "    </tr>\n",
       "    <tr>\n",
       "      <th>899</th>\n",
       "      <td>1199</td>\n",
       "      <td>0.000012</td>\n",
       "      <td>0.000501</td>\n",
       "      <td>0.000076</td>\n",
       "      <td>0.000235</td>\n",
       "      <td>0.000802</td>\n",
       "      <td>0.016303</td>\n",
       "    </tr>\n",
       "    <tr>\n",
       "      <th>900</th>\n",
       "      <td>1200</td>\n",
       "      <td>0.000010</td>\n",
       "      <td>0.000583</td>\n",
       "      <td>0.000074</td>\n",
       "      <td>0.000301</td>\n",
       "      <td>0.000912</td>\n",
       "      <td>0.016276</td>\n",
       "    </tr>\n",
       "  </tbody>\n",
       "</table>\n",
       "<p>901 rows × 7 columns</p>\n",
       "</div>"
      ],
      "text/plain": [
       "       wl         u         g         r         i         z         y\n",
       "0     300  0.000711  0.000000  0.000000  0.000034  0.000000  0.000000\n",
       "1     301  0.000440  0.000000  0.000000  0.000155  0.000000  0.000000\n",
       "2     302  0.000591  0.000000  0.000000  0.000072  0.000000  0.000000\n",
       "3     303  0.000022  0.000000  0.000000  0.000034  0.000000  0.000000\n",
       "4     304  0.000229  0.000000  0.000000  0.000034  0.000000  0.000000\n",
       "..    ...       ...       ...       ...       ...       ...       ...\n",
       "896  1196  0.000029  0.000298  0.000088  0.000121  0.000560  0.016426\n",
       "897  1197  0.000024  0.000357  0.000084  0.000150  0.000630  0.016413\n",
       "898  1198  0.000016  0.000427  0.000080  0.000187  0.000711  0.016397\n",
       "899  1199  0.000012  0.000501  0.000076  0.000235  0.000802  0.016303\n",
       "900  1200  0.000010  0.000583  0.000074  0.000301  0.000912  0.016276\n",
       "\n",
       "[901 rows x 7 columns]"
      ]
     },
     "execution_count": 164,
     "metadata": {},
     "output_type": "execute_result"
    }
   ],
   "source": [
    "df_lsst = pd.read_csv(path_throughtput, index_col=0)\n",
    "df_lsst"
   ]
  },
  {
   "cell_type": "code",
   "execution_count": 165,
   "metadata": {},
   "outputs": [],
   "source": [
    "bp_filter = []\n",
    "\n",
    "for index in np.arange(6) :\n",
    "    filter_name=number_to_band_2[index]\n",
    "    bp = S.ArrayBandpass(df_lsst[\"wl\"].values*10, df_lsst[filter_name].values, name = filter_name)                      \n",
    "    bp_filter.append(bp)\n",
    "    "
   ]
  },
  {
   "cell_type": "code",
   "execution_count": 166,
   "metadata": {},
   "outputs": [
    {
     "data": {
      "image/png": "[encoded data removed]",
      "text/plain": [
       "<Figure size 432x288 with 1 Axes>"
      ]
     },
     "metadata": {
      "needs_background": "light"
     },
     "output_type": "display_data"
    }
   ],
   "source": [
    "fig,ax=fig, ax = plt.subplots()\n",
    "for index in np.arange(6) :\n",
    "    wl=bp_filter[index].wave\n",
    "    tr=bp_filter[index].throughput\n",
    "    ax.plot(wl,tr,color=filtercolor[index])"
   ]
  },
  {
   "cell_type": "code",
   "execution_count": 167,
   "metadata": {},
   "outputs": [],
   "source": [
    "bp_atm_filter = []\n",
    "\n",
    "for index in np.arange(6) :\n",
    "    bp=bp_filter[index]*bp_atm\n",
    "    bp_atm_filter.append(bp)"
   ]
  },
  {
   "cell_type": "code",
   "execution_count": 168,
   "metadata": {},
   "outputs": [
    {
     "data": {
      "image/png": "[encoded data removed]",
      "text/plain": [
       "<Figure size 432x288 with 1 Axes>"
      ]
     },
     "metadata": {
      "needs_background": "light"
     },
     "output_type": "display_data"
    }
   ],
   "source": [
    "fig,ax=fig, ax = plt.subplots()\n",
    "for index in np.arange(6) :\n",
    "    wl=bp_atm_filter[index].wave\n",
    "    tr=bp_atm_filter[index].throughput\n",
    "    ax.plot(wl,tr,color=filtercolor[index])"
   ]
  },
  {
   "cell_type": "markdown",
   "metadata": {},
   "source": [
    "# Tables de LSST"
   ]
  },
  {
   "cell_type": "markdown",
   "metadata": {},
   "source": [
    "## $T_b$"
   ]
  },
  {
   "cell_type": "code",
   "execution_count": 169,
   "metadata": {},
   "outputs": [
    {
     "data": {
      "text/plain": [
       "[0.041773818421693934,\n",
       " 0.14235168919627506,\n",
       " 0.13704642378129755,\n",
       " 0.12438447622919174,\n",
       " 0.08658012175563427,\n",
       " 0.043967059336345926]"
      ]
     },
     "execution_count": 169,
     "metadata": {},
     "output_type": "execute_result"
    }
   ],
   "source": [
    "all_Tb = []\n",
    "for index in np.arange(6) :\n",
    "    wl=bp_atm_filter[index].wave\n",
    "    tr=bp_atm_filter[index].throughput\n",
    "    \n",
    "    Tb=np.trapz(tr/wl,x=wl)\n",
    "    all_Tb.append(Tb)\n",
    "all_Tb"
   ]
  },
  {
   "cell_type": "markdown",
   "metadata": {},
   "source": [
    "## $\\Sigma_b$"
   ]
  },
  {
   "cell_type": "code",
   "execution_count": 170,
   "metadata": {},
   "outputs": [
    {
     "data": {
      "text/plain": [
       "[0.06519157490141832,\n",
       " 0.17009085002267596,\n",
       " 0.1501499334793502,\n",
       " 0.13221588235448126,\n",
       " 0.09018652398454385,\n",
       " 0.049794460496103685]"
      ]
     },
     "execution_count": 170,
     "metadata": {},
     "output_type": "execute_result"
    }
   ],
   "source": [
    "all_Sigmab = []\n",
    "for index in np.arange(6) :\n",
    "    wl=bp_filter[index].wave\n",
    "    tr=bp_filter[index].throughput\n",
    "    \n",
    "    Sigmab=np.trapz(tr/wl,x=wl)\n",
    "    all_Sigmab.append(Sigmab)\n",
    "all_Sigmab"
   ]
  },
  {
   "cell_type": "markdown",
   "metadata": {},
   "source": [
    "## $k_batm$"
   ]
  },
  {
   "cell_type": "code",
   "execution_count": 171,
   "metadata": {},
   "outputs": [
    {
     "data": {
      "text/plain": [
       "[0.48321824554111936,\n",
       " 0.19329581628624737,\n",
       " 0.09914359249248905,\n",
       " 0.06629361479642462,\n",
       " 0.04430864057714159,\n",
       " 0.13513402947853664]"
      ]
     },
     "execution_count": 171,
     "metadata": {},
     "output_type": "execute_result"
    }
   ],
   "source": [
    "kb_atm = []\n",
    "for index in np.arange(6):\n",
    "    Tb=all_Tb[index]\n",
    "    Sb=all_Sigmab[index]\n",
    "    kbatm = -2.5*np.log10(Tb/Sb)\n",
    "    kb_atm.append(kbatm)\n",
    "kb_atm"
   ]
  },
  {
   "cell_type": "markdown",
   "metadata": {},
   "source": [
    "## $\\lambda_{eff}$"
   ]
  },
  {
   "cell_type": "code",
   "execution_count": 172,
   "metadata": {},
   "outputs": [
    {
     "data": {
      "text/plain": [
       "[3716.7491938466355,\n",
       " 4782.948637112553,\n",
       " 6217.153549377707,\n",
       " 7540.571056491716,\n",
       " 8685.833465407366,\n",
       " 9786.031472947054]"
      ]
     },
     "execution_count": 172,
     "metadata": {},
     "output_type": "execute_result"
    }
   ],
   "source": [
    "all_lambda_eff = []\n",
    "\n",
    "for index in np.arange(6):\n",
    "    wl=bp_filter[index].wave\n",
    "    Ssyst=bp_filter[index].throughput\n",
    "    Ssyst_wl = Ssyst*wl\n",
    "    \n",
    "    numerator=np.trapz(Ssyst_wl,x=wl)\n",
    "    denominator=np.trapz(Ssyst,x=wl)\n",
    "    lambda_eff= numerator/denominator\n",
    "    \n",
    "    all_lambda_eff.append(lambda_eff)\n",
    "    \n",
    "all_lambda_eff    "
   ]
  },
  {
   "cell_type": "markdown",
   "metadata": {},
   "source": [
    "## $A_b$"
   ]
  },
  {
   "cell_type": "code",
   "execution_count": 173,
   "metadata": {},
   "outputs": [
    {
     "data": {
      "text/plain": [
       "[0.2774047183908046,\n",
       " 0.47158079824561405,\n",
       " 0.5596892349397591,\n",
       " 0.5988297259036144,\n",
       " 0.5394048827586208,\n",
       " 0.24537507575757575]"
      ]
     },
     "execution_count": 173,
     "metadata": {},
     "output_type": "execute_result"
    }
   ],
   "source": [
    "all_Ab = []\n",
    "\n",
    "for index in np.arange(6):\n",
    "    wl=bp_filter[index].wave\n",
    "    Ssyst=bp_filter[index].throughput\n",
    "    Ssyst_max=np.max(Ssyst)  \n",
    "    indexes=np.where(Ssyst>0.05*Ssyst_max)[0]\n",
    "    lambda_B=wl[indexes[0]]\n",
    "    lambda_R=wl[indexes[-1]]\n",
    "    D_Lambda=lambda_R-lambda_B\n",
    "    Sum=np.trapz(Ssyst,x=wl)\n",
    "    Ab=Sum/D_Lambda\n",
    "    all_Ab.append(Ab)\n",
    "all_Ab    "
   ]
  },
  {
   "cell_type": "markdown",
   "metadata": {},
   "source": [
    "## Nombre de photoelectrons de Bruit de fond de ciel \n",
    "\n",
    "- On calcule par pixel. Or une source est typiquement sur 5 x 5 pixels."
   ]
  },
  {
   "cell_type": "code",
   "execution_count": 174,
   "metadata": {},
   "outputs": [],
   "source": [
    "picScale = 0.2 # arcsec per pixel"
   ]
  },
  {
   "cell_type": "code",
   "execution_count": 175,
   "metadata": {},
   "outputs": [
    {
     "data": {
      "text/plain": [
       "array([  31448.79195701,  149311.56454233,  353132.45916208,\n",
       "        609110.5508724 ,  934445.85754036, 1237637.68841431])"
      ]
     },
     "execution_count": 175,
     "metadata": {},
     "output_type": "execute_result"
    }
   ],
   "source": [
    "all_Bb = []\n",
    "dt=1.0\n",
    "for index in np.arange(6): \n",
    "    mb_sky = sky_background_mag[index]\n",
    "    Sigmab = all_Sigmab[index]\n",
    "    # nombre d'ADU donc nombre de photo-electrons\n",
    "    Bb=K1/gel*(Deff/6.5)**2*dt/EXPOSURE*(picScale/1.0)**2*np.power(10,0.4*(25.0-mb_sky))*Sigmab     \n",
    "    all_Bb.append(Bb)\n",
    "all_Bb=np.array(all_Bb)\n",
    "all_Bb # electrons par pixel par seconde"
   ]
  },
  {
   "cell_type": "markdown",
   "metadata": {},
   "source": [
    "## Source Count de magnitude 25"
   ]
  },
  {
   "cell_type": "code",
   "execution_count": 176,
   "metadata": {},
   "outputs": [
    {
     "data": {
      "text/plain": [
       "array([ 74174.85021479, 252763.94696234, 243343.75789719, 220860.82244648,\n",
       "       153734.27197805,  78069.23484315])"
      ]
     },
     "execution_count": 176,
     "metadata": {},
     "output_type": "execute_result"
    }
   ],
   "source": [
    "all_Cb = []\n",
    "mb=25\n",
    "dt=1.0\n",
    "for index in np.arange(6): \n",
    "    Tb = all_Tb[index]\n",
    "    # nombre d'ADU donc nombre de photo-electrons\n",
    "    Cb=K1/gel*(Deff/6.5)**2*dt/EXPOSURE*np.power(10,0.4*(25.0-mb))*Tb     \n",
    "    all_Cb.append(Cb)\n",
    "all_Cb=np.array(all_Cb)\n",
    "all_Cb  #  electrons par seconde"
   ]
  },
  {
   "cell_type": "markdown",
   "metadata": {},
   "source": [
    "## Signal sur bruit "
   ]
  },
  {
   "cell_type": "code",
   "execution_count": null,
   "metadata": {},
   "outputs": [],
   "source": []
  }
 ],
 "metadata": {
  "kernelspec": {
   "display_name": "Python 3",
   "language": "python",
   "name": "python3"
  },
  "language_info": {
   "codemirror_mode": {
    "name": "ipython",
    "version": 3
   },
   "file_extension": ".py",
   "mimetype": "text/x-python",
   "name": "python",
   "nbconvert_exporter": "python",
   "pygments_lexer": "ipython3",
   "version": "3.7.7"
  },
  "toc": {
   "base_numbering": 1,
   "nav_menu": {},
   "number_sections": true,
   "sideBar": true,
   "skip_h1_title": false,
   "title_cell": "Table of Contents",
   "title_sidebar": "Contents",
   "toc_cell": false,
   "toc_position": {},
   "toc_section_display": true,
   "toc_window_display": false
  }
 },
 "nbformat": 4,
 "nbformat_minor": 4
}
