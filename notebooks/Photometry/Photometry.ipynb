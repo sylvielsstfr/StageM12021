{
 "cells": [
  {
   "cell_type": "markdown",
   "metadata": {},
   "source": [
    "# Infos sur la photométrie \n",
    "\n",
    "- auteur : Sylvie Dagoret-Campagne\n",
    "- date de creation : 3 février 2021\n",
    "- affiliation : IJCLab/IN2P3/CNRS\n",
    "\n",
    "- https://docs.astropy.org/en/stable/units/\n",
    "\n",
    "- https://docs.astropy.org/en/stable/constants/\n",
    "\n",
    "- https://docs.astropy.org/en/stable/units/equivalencies.html\n",
    "\n",
    "- https://learn.astropy.org/tutorials.html\n",
    "\n",
    "- https://learn.astropy.org/rst-tutorials/UVES.html?highlight=filtertutorials\n",
    "\n",
    "- https://docs.astropy.org/en/stable/cosmology/"
   ]
  },
  {
   "cell_type": "markdown",
   "metadata": {},
   "source": [
    "## Import\n"
   ]
  },
  {
   "cell_type": "code",
   "execution_count": 48,
   "metadata": {},
   "outputs": [],
   "source": [
    "from astropy import constants as const"
   ]
  },
  {
   "cell_type": "code",
   "execution_count": 49,
   "metadata": {},
   "outputs": [],
   "source": [
    "#from astropy import physical_constants, astronomical_constants"
   ]
  },
  {
   "cell_type": "code",
   "execution_count": 50,
   "metadata": {},
   "outputs": [],
   "source": [
    "from astropy import units as u"
   ]
  },
  {
   "cell_type": "code",
   "execution_count": 51,
   "metadata": {},
   "outputs": [],
   "source": [
    "import numpy as np\n",
    "import matplotlib.pyplot as plt\n",
    "%matplotlib inline"
   ]
  },
  {
   "cell_type": "markdown",
   "metadata": {},
   "source": [
    "# Flux\n",
    "\n",
    "\n",
    "Par définition le flux de réference donnant une magnitude AB nulle est\n",
    "$$\n",
    "F_{ref} = 3631.1 Jy \n",
    "$$\n",
    "\n",
    "avec\n",
    "$$\n",
    "1 Jy = 10^{-26} W.Hz^{-1}.m^{-2} = 10^{-23}.erg.cm^{-2} s^{-1} . Hz^{-1}\n",
    "$$"
   ]
  },
  {
   "cell_type": "markdown",
   "metadata": {},
   "source": [
    "## Flux de référence"
   ]
  },
  {
   "cell_type": "code",
   "execution_count": 52,
   "metadata": {},
   "outputs": [],
   "source": [
    "Fref=3631.1 * u.Jy"
   ]
  },
  {
   "cell_type": "code",
   "execution_count": 53,
   "metadata": {},
   "outputs": [],
   "source": [
    "target_flux = Fref"
   ]
  },
  {
   "cell_type": "code",
   "execution_count": 54,
   "metadata": {},
   "outputs": [],
   "source": [
    "zero_point_star_equiv = u.zero_point_flux(3631.1 * u.Jy)"
   ]
  },
  {
   "cell_type": "code",
   "execution_count": 55,
   "metadata": {},
   "outputs": [
    {
     "data": {
      "text/plain": [
       "[(Unit(\"mgy\"), Unit(\"3631.1 Jy\"))]"
      ]
     },
     "execution_count": 55,
     "metadata": {},
     "output_type": "execute_result"
    }
   ],
   "source": [
    "zero_point_star_equiv"
   ]
  },
  {
   "cell_type": "markdown",
   "metadata": {},
   "source": [
    "https://docs.astropy.org/en/stable/units/equivalencies.html"
   ]
  },
  {
   "cell_type": "code",
   "execution_count": 56,
   "metadata": {},
   "outputs": [
    {
     "data": {
      "text/latex": [
       "$3.6311 \\times 10^{-23} \\; \\mathrm{\\frac{W}{Hz\\,m^{2}}}$"
      ],
      "text/plain": [
       "<Quantity 3.6311e-23 W / (Hz m2)>"
      ]
     },
     "execution_count": 56,
     "metadata": {},
     "output_type": "execute_result"
    }
   ],
   "source": [
    "Fref.to(u.W / (u.m)**2 / u.Hz,equivalencies=u.spectral_density(550 * u.nm))  "
   ]
  },
  {
   "cell_type": "code",
   "execution_count": 57,
   "metadata": {},
   "outputs": [
    {
     "data": {
      "text/latex": [
       "$3.6311 \\times 10^{-23} \\; \\mathrm{\\frac{W}{Hz\\,m^{2}}}$"
      ],
      "text/plain": [
       "<Quantity 3.6311e-23 W / (Hz m2)>"
      ]
     },
     "execution_count": 57,
     "metadata": {},
     "output_type": "execute_result"
    }
   ],
   "source": [
    "Fref.to(u.W / (u.m)**2 / u.Hz,equivalencies=u.spectral_density(800 * u.nm))  "
   ]
  },
  {
   "cell_type": "code",
   "execution_count": 58,
   "metadata": {},
   "outputs": [
    {
     "data": {
      "text/latex": [
       "$-9.5523721 \\times 10^{-5} \\; \\mathrm{mag}$$\\mathrm{\\left( \\mathrm{AB} \\right)}$"
      ],
      "text/plain": [
       "<Magnitude -9.55237213e-05 mag(AB)>"
      ]
     },
     "execution_count": 58,
     "metadata": {},
     "output_type": "execute_result"
    }
   ],
   "source": [
    "# so zero magnitude by definition\n",
    "u.Magnitude(target_flux.to(u.AB, zero_point_star_equiv))  "
   ]
  },
  {
   "cell_type": "code",
   "execution_count": 59,
   "metadata": {},
   "outputs": [
    {
     "data": {
      "text/latex": [
       "$-9.5523721 \\times 10^{-5} \\; \\mathrm{mag}$$\\mathrm{\\left( \\mathrm{AB} \\right)}$"
      ],
      "text/plain": [
       "<Magnitude -9.55237213e-05 mag(AB)>"
      ]
     },
     "execution_count": 59,
     "metadata": {},
     "output_type": "execute_result"
    }
   ],
   "source": [
    "u.Magnitude(target_flux.to(u.AB, Fref))  "
   ]
  },
  {
   "cell_type": "markdown",
   "metadata": {},
   "source": [
    "# Flux"
   ]
  },
  {
   "cell_type": "markdown",
   "metadata": {},
   "source": [
    "$$\n",
    "C_b = \\frac{S_{coll}.\\Delta T}{g_{el} h} \\int_0^\\infty F_\\nu(\\lambda).S^{atm}(\\lambda).S^{syst}_b(\\lambda) \\frac{d\\lambda}{\\lambda}\n",
    "$$\n",
    "\n",
    "- $C_b$ : taux ADU par seconde\n",
    "- $S_{coll}$ : surface collectrice du telescope\n",
    "- $\\Delta T$ : temps d'exposition de l'observation\n",
    "- $F_\\nu(\\lambda)$ : flux spécifique en $W/Hz/m^2$ de la source au dessus de l'atmosphère\n",
    "- $S^{atm}(\\lambda)$ : transmission de l'atmosphère, variable dans le temps et selon l'inclaison de l'observation\n",
    "- $S^{syst}_b(\\lambda)$ : transmission du télescope (transmission des mirroirs, transmission des lentilles correctrices, efficacité quantique du CCD (du photon au photoelectron) dans une bande passante $b$ à support limité en fréquence\n",
    "\n",
    "\n",
    "Notons que le flux est souvent exprimé en Jansky, une unité non SI:\n",
    "\n",
    "$\n",
    "1 Jy = 10^{-26} W/Hz/m^2 = 10^{-23} erg/cm^2/s/Hz\n",
    "$"
   ]
  },
  {
   "cell_type": "markdown",
   "metadata": {},
   "source": [
    "## Constantes"
   ]
  },
  {
   "cell_type": "markdown",
   "metadata": {},
   "source": [
    "En unités ADU/s\n",
    "\n",
    "$$\n",
    "C = \\frac{\\pi D^2 \\Delta t}{4 g_{el} h}\n",
    "$$"
   ]
  },
  {
   "cell_type": "code",
   "execution_count": 60,
   "metadata": {},
   "outputs": [],
   "source": [
    "D=6.5*u.m # diametre du telescope\n",
    "Dt=30*u.s # durée de l'exposition par image\n",
    "gel=1.    # nombre de photoelectron par ADU"
   ]
  },
  {
   "cell_type": "code",
   "execution_count": 61,
   "metadata": {},
   "outputs": [],
   "source": [
    "C = np.pi*D**2*Dt/4/const.h/gel"
   ]
  },
  {
   "cell_type": "code",
   "execution_count": 62,
   "metadata": {},
   "outputs": [
    {
     "data": {
      "text/latex": [
       "$1.502387 \\times 10^{36} \\; \\mathrm{\\frac{m^{2}}{J}}$"
      ],
      "text/plain": [
       "<Quantity 1.50238701e+36 m2 / J>"
      ]
     },
     "execution_count": 62,
     "metadata": {},
     "output_type": "execute_result"
    }
   ],
   "source": [
    "C"
   ]
  },
  {
   "cell_type": "code",
   "execution_count": 63,
   "metadata": {},
   "outputs": [
    {
     "data": {
      "text/latex": [
       "$1.502387 \\times 10^{36} \\; \\mathrm{\\frac{s^{2}}{kg}}$"
      ],
      "text/plain": [
       "<Quantity 1.50238701e+36 s2 / kg>"
      ]
     },
     "execution_count": 63,
     "metadata": {},
     "output_type": "execute_result"
    }
   ],
   "source": [
    "C.decompose()"
   ]
  },
  {
   "cell_type": "markdown",
   "metadata": {},
   "source": [
    "## Définition  du flux de référence pour la magnitude AB\n",
    "$$\n",
    "F_\\nu(\\lambda) = F_0 . f_\\nu(\\lambda)\n",
    "$$\n",
    "\n",
    "avec\n",
    "\n",
    "- $F_0$ : en W/Hz/$m^2$,\n",
    "\n",
    "- $f_\\nu(\\lambda)$ : sans dimension\n",
    "\n",
    "\n",
    "\n",
    "$$\n",
    "m_{0}^{AB} = -2.5 \\log_{10} \\left( \\frac{F_0}{3631 Jy}\\right)\n",
    "$$"
   ]
  },
  {
   "cell_type": "markdown",
   "metadata": {},
   "source": [
    "$$\n",
    "F_\\nu(\\lambda) = 3631 Jy \\cdot 10^{-0.4 m_0^{AB}} \\cdot f_\\nu(\\lambda)\n",
    "$$\n",
    "\n",
    "Pour une source de magnitude caractéristique de 25 mag:\n",
    "\n",
    "$$\n",
    "F_\\nu(\\lambda) =  3.63 10^{-13}{\\rm W/Hz/m^2}\\cdot 10^{0.4 (25-m_0^{AB})} \\cdot f_\\nu(\\lambda)\n",
    "$$\n"
   ]
  },
  {
   "cell_type": "markdown",
   "metadata": {},
   "source": [
    "### Vérification dans s'embarrasser avec les unités:\n",
    "\n",
    "- on se place dans le SI"
   ]
  },
  {
   "cell_type": "code",
   "execution_count": 64,
   "metadata": {},
   "outputs": [
    {
     "data": {
      "text/plain": [
       "3.6311e-33"
      ]
     },
     "execution_count": 64,
     "metadata": {},
     "output_type": "execute_result"
    }
   ],
   "source": [
    "# Conversion de 1Jy en W/Hz/m2 et on divise par 1O^0.4*25\n",
    "# Calcul dans le SI\n",
    "K0=3631.1*1e-26*np.power(10,-10.)\n",
    "K0"
   ]
  },
  {
   "cell_type": "code",
   "execution_count": 65,
   "metadata": {},
   "outputs": [
    {
     "data": {
      "text/plain": [
       "5455.375228093965"
      ]
     },
     "execution_count": 65,
     "metadata": {},
     "output_type": "execute_result"
    }
   ],
   "source": [
    "# Pour une surface collectrice correspondant à D=6.5 m et Delta t = 30 sec\n",
    "# K1 est le terme de photoelectrons produits par le CCD pendant Delta T= 30 secondes\n",
    "# Calcul dans le SI\n",
    "K1=K0*np.pi*6.5**2/4*30./6.626e-34\n",
    "K1"
   ]
  },
  {
   "cell_type": "markdown",
   "metadata": {},
   "source": [
    "### Vérification avec le SI"
   ]
  },
  {
   "cell_type": "code",
   "execution_count": 66,
   "metadata": {},
   "outputs": [
    {
     "data": {
      "text/latex": [
       "$5.4553175 \\times 10^{39} \\; \\mathrm{\\frac{m^{2}\\,Jy}{J}}$"
      ],
      "text/plain": [
       "<Quantity 5.45531747e+39 Jy m2 / J>"
      ]
     },
     "execution_count": 66,
     "metadata": {},
     "output_type": "execute_result"
    }
   ],
   "source": [
    "Cb0=C*Fref\n",
    "Cb0"
   ]
  },
  {
   "cell_type": "code",
   "execution_count": 67,
   "metadata": {},
   "outputs": [
    {
     "data": {
      "text/latex": [
       "$5.4553175 \\times 10^{13} \\; \\mathrm{}$"
      ],
      "text/plain": [
       "<Quantity 5.45531747e+13>"
      ]
     },
     "execution_count": 67,
     "metadata": {},
     "output_type": "execute_result"
    }
   ],
   "source": [
    "Cb0.decompose()"
   ]
  },
  {
   "cell_type": "code",
   "execution_count": 68,
   "metadata": {},
   "outputs": [],
   "source": [
    "C0=np.power(10,0.4*25)"
   ]
  },
  {
   "cell_type": "code",
   "execution_count": 69,
   "metadata": {},
   "outputs": [
    {
     "data": {
      "text/latex": [
       "$5455.3175 \\; \\mathrm{}$"
      ],
      "text/plain": [
       "<Quantity 5455.3174722>"
      ]
     },
     "execution_count": 69,
     "metadata": {},
     "output_type": "execute_result"
    }
   ],
   "source": [
    "Cb0.decompose()/C0"
   ]
  },
  {
   "cell_type": "markdown",
   "metadata": {},
   "source": [
    "## Comptage dans l'instrument\n",
    "\n",
    "- $C_b$ : nombre d'ADU (unités d'ADC)\n",
    "- $N_{pe} = C_b . g_{el}$ : nombre de photoelectrons produits dans le CCD "
   ]
  },
  {
   "cell_type": "markdown",
   "metadata": {},
   "source": [
    "$$\n",
    "C_b = \\frac{5455}{g_{el}}. 10^{0.4(25-m_{AB})}. \\left( \\frac{D}{6.5m} \\right)^2 \\left( \\frac{\\Delta t}{30 sec}\\right) \\int_0^\\infty f_\\nu(\\lambda).S^{atm}(\\lambda).S^{syst}_b(\\lambda)\\frac{d\\lambda}{\\lambda}\n",
    "$$"
   ]
  },
  {
   "cell_type": "code",
   "execution_count": null,
   "metadata": {},
   "outputs": [],
   "source": []
  },
  {
   "cell_type": "code",
   "execution_count": null,
   "metadata": {},
   "outputs": [],
   "source": []
  }
 ],
 "metadata": {
  "kernelspec": {
   "display_name": "Python 3",
   "language": "python",
   "name": "python3"
  },
  "language_info": {
   "codemirror_mode": {
    "name": "ipython",
    "version": 3
   },
   "file_extension": ".py",
   "mimetype": "text/x-python",
   "name": "python",
   "nbconvert_exporter": "python",
   "pygments_lexer": "ipython3",
   "version": "3.8.5"
  },
  "toc": {
   "base_numbering": 1,
   "nav_menu": {},
   "number_sections": true,
   "sideBar": true,
   "skip_h1_title": false,
   "title_cell": "Table of Contents",
   "title_sidebar": "Contents",
   "toc_cell": false,
   "toc_position": {},
   "toc_section_display": true,
   "toc_window_display": false
  }
 },
 "nbformat": 4,
 "nbformat_minor": 4
}
