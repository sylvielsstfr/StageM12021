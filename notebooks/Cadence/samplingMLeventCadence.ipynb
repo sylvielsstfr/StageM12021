{
 "cells": [
  {
   "cell_type": "markdown",
   "metadata": {},
   "source": [
    "# Exemple d'évenement de microlensing\n",
    "\n",
    "auteur : Sylvie Dagoret-Campagne\n",
    "\n",
    "date de creation : 26 mars 2021\n",
    "\n",
    "affiliation : IJCLab/IN2P3/CNRS\n",
    "\n"
   ]
  },
  {
   "cell_type": "code",
   "execution_count": 151,
   "metadata": {},
   "outputs": [],
   "source": [
    "from astropy import constants as const\n",
    "from astropy import units as u\n",
    "import numpy as np\n",
    "import matplotlib.pyplot as plt\n",
    "import pandas as pd\n",
    "%matplotlib inline\n",
    "\n",
    "plt.rcParams[\"figure.figsize\"] = (12,6)\n",
    "plt.rcParams[\"axes.labelsize\"] = 'xx-large'\n",
    "plt.rcParams['axes.titlesize'] = 'xx-large'\n",
    "plt.rcParams['xtick.labelsize']= 'xx-large'\n",
    "plt.rcParams['ytick.labelsize']= 'xx-large'"
   ]
  },
  {
   "cell_type": "code",
   "execution_count": 152,
   "metadata": {},
   "outputs": [],
   "source": [
    "from scipy.stats import stats"
   ]
  },
  {
   "cell_type": "code",
   "execution_count": 154,
   "metadata": {},
   "outputs": [],
   "source": [
    "df =pd.read_csv(\"cadence_lmc_baseline2018a.csv\",index_col=0)"
   ]
  },
  {
   "cell_type": "code",
   "execution_count": 155,
   "metadata": {},
   "outputs": [
    {
     "data": {
      "text/html": [
       "<div>\n",
       "<style scoped>\n",
       "    .dataframe tbody tr th:only-of-type {\n",
       "        vertical-align: middle;\n",
       "    }\n",
       "\n",
       "    .dataframe tbody tr th {\n",
       "        vertical-align: top;\n",
       "    }\n",
       "\n",
       "    .dataframe thead th {\n",
       "        text-align: right;\n",
       "    }\n",
       "</style>\n",
       "<table border=\"1\" class=\"dataframe\">\n",
       "  <thead>\n",
       "    <tr style=\"text-align: right;\">\n",
       "      <th></th>\n",
       "      <th>observationId</th>\n",
       "      <th>night</th>\n",
       "      <th>observationStartMJD</th>\n",
       "      <th>fiveSigmaDepth</th>\n",
       "      <th>filter</th>\n",
       "      <th>airmass</th>\n",
       "      <th>skyBrightness</th>\n",
       "      <th>seeingFwhmEff</th>\n",
       "      <th>fieldId</th>\n",
       "      <th>fieldRA</th>\n",
       "      <th>fieldDec</th>\n",
       "    </tr>\n",
       "  </thead>\n",
       "  <tbody>\n",
       "    <tr>\n",
       "      <th>0</th>\n",
       "      <td>8476</td>\n",
       "      <td>11</td>\n",
       "      <td>59863.363137</td>\n",
       "      <td>22.906131</td>\n",
       "      <td>z</td>\n",
       "      <td>1.231287</td>\n",
       "      <td>18.659079</td>\n",
       "      <td>0.757448</td>\n",
       "      <td>236</td>\n",
       "      <td>79.825808</td>\n",
       "      <td>-65.928086</td>\n",
       "    </tr>\n",
       "    <tr>\n",
       "      <th>1</th>\n",
       "      <td>10032</td>\n",
       "      <td>13</td>\n",
       "      <td>59865.306991</td>\n",
       "      <td>21.987304</td>\n",
       "      <td>y</td>\n",
       "      <td>1.386800</td>\n",
       "      <td>17.826026</td>\n",
       "      <td>0.751198</td>\n",
       "      <td>116</td>\n",
       "      <td>77.606893</td>\n",
       "      <td>-73.293777</td>\n",
       "    </tr>\n",
       "    <tr>\n",
       "      <th>2</th>\n",
       "      <td>10160</td>\n",
       "      <td>13</td>\n",
       "      <td>59865.365718</td>\n",
       "      <td>21.894638</td>\n",
       "      <td>y</td>\n",
       "      <td>1.315613</td>\n",
       "      <td>17.861954</td>\n",
       "      <td>0.841153</td>\n",
       "      <td>150</td>\n",
       "      <td>81.777206</td>\n",
       "      <td>-70.757749</td>\n",
       "    </tr>\n",
       "    <tr>\n",
       "      <th>3</th>\n",
       "      <td>10161</td>\n",
       "      <td>13</td>\n",
       "      <td>59865.366169</td>\n",
       "      <td>21.944466</td>\n",
       "      <td>y</td>\n",
       "      <td>1.267955</td>\n",
       "      <td>17.897698</td>\n",
       "      <td>0.822736</td>\n",
       "      <td>190</td>\n",
       "      <td>84.972540</td>\n",
       "      <td>-68.155026</td>\n",
       "    </tr>\n",
       "    <tr>\n",
       "      <th>4</th>\n",
       "      <td>10165</td>\n",
       "      <td>13</td>\n",
       "      <td>59865.367986</td>\n",
       "      <td>21.959869</td>\n",
       "      <td>y</td>\n",
       "      <td>1.232333</td>\n",
       "      <td>17.922088</td>\n",
       "      <td>0.824816</td>\n",
       "      <td>236</td>\n",
       "      <td>79.825808</td>\n",
       "      <td>-65.928086</td>\n",
       "    </tr>\n",
       "    <tr>\n",
       "      <th>...</th>\n",
       "      <td>...</td>\n",
       "      <td>...</td>\n",
       "      <td>...</td>\n",
       "      <td>...</td>\n",
       "      <td>...</td>\n",
       "      <td>...</td>\n",
       "      <td>...</td>\n",
       "      <td>...</td>\n",
       "      <td>...</td>\n",
       "      <td>...</td>\n",
       "      <td>...</td>\n",
       "    </tr>\n",
       "    <tr>\n",
       "      <th>753</th>\n",
       "      <td>2372036</td>\n",
       "      <td>3648</td>\n",
       "      <td>63500.371725</td>\n",
       "      <td>23.393553</td>\n",
       "      <td>r</td>\n",
       "      <td>1.375268</td>\n",
       "      <td>20.153390</td>\n",
       "      <td>1.243669</td>\n",
       "      <td>116</td>\n",
       "      <td>77.606893</td>\n",
       "      <td>-73.293777</td>\n",
       "    </tr>\n",
       "    <tr>\n",
       "      <th>754</th>\n",
       "      <td>2372039</td>\n",
       "      <td>3648</td>\n",
       "      <td>63500.373102</td>\n",
       "      <td>23.480260</td>\n",
       "      <td>r</td>\n",
       "      <td>1.278194</td>\n",
       "      <td>20.210373</td>\n",
       "      <td>1.190228</td>\n",
       "      <td>178</td>\n",
       "      <td>76.364237</td>\n",
       "      <td>-68.470535</td>\n",
       "    </tr>\n",
       "    <tr>\n",
       "      <th>755</th>\n",
       "      <td>2372040</td>\n",
       "      <td>3648</td>\n",
       "      <td>63500.373553</td>\n",
       "      <td>23.375525</td>\n",
       "      <td>r</td>\n",
       "      <td>1.328889</td>\n",
       "      <td>20.176793</td>\n",
       "      <td>1.284311</td>\n",
       "      <td>150</td>\n",
       "      <td>81.777206</td>\n",
       "      <td>-70.757749</td>\n",
       "    </tr>\n",
       "    <tr>\n",
       "      <th>756</th>\n",
       "      <td>2372049</td>\n",
       "      <td>3648</td>\n",
       "      <td>63500.377604</td>\n",
       "      <td>23.414925</td>\n",
       "      <td>r</td>\n",
       "      <td>1.285710</td>\n",
       "      <td>20.198968</td>\n",
       "      <td>1.256791</td>\n",
       "      <td>190</td>\n",
       "      <td>84.972540</td>\n",
       "      <td>-68.155026</td>\n",
       "    </tr>\n",
       "    <tr>\n",
       "      <th>757</th>\n",
       "      <td>2372056</td>\n",
       "      <td>3648</td>\n",
       "      <td>63500.380810</td>\n",
       "      <td>23.475807</td>\n",
       "      <td>r</td>\n",
       "      <td>1.237497</td>\n",
       "      <td>20.233602</td>\n",
       "      <td>1.212888</td>\n",
       "      <td>236</td>\n",
       "      <td>79.825808</td>\n",
       "      <td>-65.928086</td>\n",
       "    </tr>\n",
       "  </tbody>\n",
       "</table>\n",
       "<p>758 rows × 11 columns</p>\n",
       "</div>"
      ],
      "text/plain": [
       "     observationId  night  observationStartMJD  fiveSigmaDepth filter  \\\n",
       "0             8476     11         59863.363137       22.906131      z   \n",
       "1            10032     13         59865.306991       21.987304      y   \n",
       "2            10160     13         59865.365718       21.894638      y   \n",
       "3            10161     13         59865.366169       21.944466      y   \n",
       "4            10165     13         59865.367986       21.959869      y   \n",
       "..             ...    ...                  ...             ...    ...   \n",
       "753        2372036   3648         63500.371725       23.393553      r   \n",
       "754        2372039   3648         63500.373102       23.480260      r   \n",
       "755        2372040   3648         63500.373553       23.375525      r   \n",
       "756        2372049   3648         63500.377604       23.414925      r   \n",
       "757        2372056   3648         63500.380810       23.475807      r   \n",
       "\n",
       "      airmass  skyBrightness  seeingFwhmEff  fieldId    fieldRA   fieldDec  \n",
       "0    1.231287      18.659079       0.757448      236  79.825808 -65.928086  \n",
       "1    1.386800      17.826026       0.751198      116  77.606893 -73.293777  \n",
       "2    1.315613      17.861954       0.841153      150  81.777206 -70.757749  \n",
       "3    1.267955      17.897698       0.822736      190  84.972540 -68.155026  \n",
       "4    1.232333      17.922088       0.824816      236  79.825808 -65.928086  \n",
       "..        ...            ...            ...      ...        ...        ...  \n",
       "753  1.375268      20.153390       1.243669      116  77.606893 -73.293777  \n",
       "754  1.278194      20.210373       1.190228      178  76.364237 -68.470535  \n",
       "755  1.328889      20.176793       1.284311      150  81.777206 -70.757749  \n",
       "756  1.285710      20.198968       1.256791      190  84.972540 -68.155026  \n",
       "757  1.237497      20.233602       1.212888      236  79.825808 -65.928086  \n",
       "\n",
       "[758 rows x 11 columns]"
      ]
     },
     "execution_count": 155,
     "metadata": {},
     "output_type": "execute_result"
    }
   ],
   "source": [
    "df"
   ]
  },
  {
   "cell_type": "code",
   "execution_count": 156,
   "metadata": {},
   "outputs": [],
   "source": [
    "t0 = (df[\"observationStartMJD\"][0] + df[\"observationStartMJD\"][len(df)-1])/2"
   ]
  },
  {
   "cell_type": "code",
   "execution_count": 157,
   "metadata": {},
   "outputs": [
    {
     "data": {
      "text/plain": [
       "61681.871973379624"
      ]
     },
     "execution_count": 157,
     "metadata": {},
     "output_type": "execute_result"
    }
   ],
   "source": [
    "t0"
   ]
  },
  {
   "cell_type": "code",
   "execution_count": 158,
   "metadata": {},
   "outputs": [],
   "source": [
    "u0=0.5"
   ]
  },
  {
   "cell_type": "code",
   "execution_count": 159,
   "metadata": {},
   "outputs": [],
   "source": [
    "tE=100"
   ]
  },
  {
   "cell_type": "code",
   "execution_count": 160,
   "metadata": {},
   "outputs": [],
   "source": [
    "def u(t):\n",
    "    u= np.sqrt(u0**2+ ((t-t0)/tE)**2)\n",
    "    return u"
   ]
  },
  {
   "cell_type": "code",
   "execution_count": 161,
   "metadata": {},
   "outputs": [],
   "source": [
    "def A(u):\n",
    "    a = (u**2+2)/u/np.sqrt(u**2+4)\n",
    "    return a"
   ]
  },
  {
   "cell_type": "code",
   "execution_count": 162,
   "metadata": {},
   "outputs": [],
   "source": [
    "tmin=t0-5.*tE\n",
    "tmax=t0+5.*tE"
   ]
  },
  {
   "cell_type": "code",
   "execution_count": 163,
   "metadata": {},
   "outputs": [],
   "source": [
    "ti=np.linspace(tmin,tmax,100)"
   ]
  },
  {
   "cell_type": "code",
   "execution_count": 164,
   "metadata": {},
   "outputs": [],
   "source": [
    "df_event=df[(df[\"observationStartMJD\"] >= tmin) & (df[\"observationStartMJD\"] <= tmax)] "
   ]
  },
  {
   "cell_type": "code",
   "execution_count": 165,
   "metadata": {},
   "outputs": [],
   "source": [
    "df_event_times=df_event[\"observationStartMJD\"].values"
   ]
  },
  {
   "cell_type": "code",
   "execution_count": 168,
   "metadata": {},
   "outputs": [
    {
     "data": {
      "text/plain": [
       "Text(0.5, 1.0, 'Example of simulation of a micro-lensing event $t_E = 100$ days')"
      ]
     },
     "execution_count": 168,
     "metadata": {},
     "output_type": "execute_result"
    },
    {
     "data": {
      "image/png": "[encoded data removed]",
      "text/plain": [
       "<Figure size 864x432 with 1 Axes>"
      ]
     },
     "metadata": {
      "needs_background": "light"
     },
     "output_type": "display_data"
    }
   ],
   "source": [
    "plt.plot(ti,A(u(ti)),\"-.\",color=\"r\",label=\"underlying ML event\")\n",
    "plt.scatter(df_event_times,A(u(df_event_times)),marker=\"o\",s=20,color=\"k\",label=\"cadence datapoints\")\n",
    "plt.xlabel(\"day of observation (MJD)\")\n",
    "plt.ylabel(\"$A(t)$\")\n",
    "plt.title(\"Example of simulation of a micro-lensing event $t_E = 100$ days\")"
   ]
  },
  {
   "cell_type": "code",
   "execution_count": null,
   "metadata": {},
   "outputs": [],
   "source": []
  }
 ],
 "metadata": {
  "kernelspec": {
   "display_name": "Python 3",
   "language": "python",
   "name": "python3"
  },
  "language_info": {
   "codemirror_mode": {
    "name": "ipython",
    "version": 3
   },
   "file_extension": ".py",
   "mimetype": "text/x-python",
   "name": "python",
   "nbconvert_exporter": "python",
   "pygments_lexer": "ipython3",
   "version": "3.8.5"
  }
 },
 "nbformat": 4,
 "nbformat_minor": 4
}
