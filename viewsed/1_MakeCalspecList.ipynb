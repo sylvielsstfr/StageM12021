{
 "cells": [
  {
   "cell_type": "markdown",
   "metadata": {},
   "source": [
    "# Build a list of Calspec Star for AuxTel\n",
    "\n",
    "- author : Sylvie Dagoret-Campagne\n",
    "- affliliation : CNRS\n",
    "- creation date : 25/09/2019\n",
    "- Update : October 8th 2019\n",
    "- Update : April 20th 2020 for package PhotomCorrectAuxTel\n",
    "\n",
    "\n",
    "From Pysynphot, il get all CALSPEC filenames. It extract HD type stars, get their Ra Dec and filename and make a summary file of all the CALSPEC available"
   ]
  },
  {
   "cell_type": "code",
   "execution_count": null,
   "metadata": {},
   "outputs": [],
   "source": [
    "import os\n",
    "import re\n",
    "import numpy as np\n",
    "from math import ceil,floor"
   ]
  },
  {
   "cell_type": "code",
   "execution_count": null,
   "metadata": {},
   "outputs": [],
   "source": [
    "import pysynphot as S"
   ]
  },
  {
   "cell_type": "code",
   "execution_count": null,
   "metadata": {},
   "outputs": [],
   "source": [
    "import locale\n",
    "locale.setlocale(locale.LC_ALL,'en_US.UTF-8') # vary depending on your lang/locale"
   ]
  },
  {
   "cell_type": "code",
   "execution_count": null,
   "metadata": {},
   "outputs": [],
   "source": [
    "import matplotlib\n",
    "import matplotlib.pyplot as plt\n",
    "%matplotlib inline"
   ]
  },
  {
   "cell_type": "code",
   "execution_count": null,
   "metadata": {},
   "outputs": [],
   "source": [
    "import time\n",
    "from datetime import datetime,date\n",
    "import dateutil.parser\n",
    "import astropy.units as u\n",
    "from astropy.time import Time\n",
    "from astropy.coordinates import SkyCoord, EarthLocation, AltAz\n",
    "from astropy.coordinates import Angle\n",
    "from astropy import units as u\n",
    "import astropy.coordinates as coord"
   ]
  },
  {
   "cell_type": "code",
   "execution_count": null,
   "metadata": {},
   "outputs": [],
   "source": [
    "from astropy.io import fits\n",
    "from astropy.table import Table\n",
    "from astropy.time import Time\n",
    "import astropy\n",
    "from astropy.visualization.mpl_normalize import (ImageNormalize,MinMaxInterval,PercentileInterval,SqrtStretch,LogStretch)\n",
    "from astropy.visualization.wcsaxes import SphericalCircle"
   ]
  },
  {
   "cell_type": "code",
   "execution_count": null,
   "metadata": {},
   "outputs": [],
   "source": [
    "from astroquery.simbad import Simbad"
   ]
  },
  {
   "cell_type": "code",
   "execution_count": null,
   "metadata": {},
   "outputs": [],
   "source": [
    "pysynphot_root_path=os.environ['PYSYN_CDBS']"
   ]
  },
  {
   "cell_type": "code",
   "execution_count": null,
   "metadata": {},
   "outputs": [],
   "source": [
    "pysynphot_root_path"
   ]
  },
  {
   "cell_type": "code",
   "execution_count": null,
   "metadata": {},
   "outputs": [],
   "source": [
    "path_sed_calspec=os.path.join(pysynphot_root_path,'calspec')"
   ]
  },
  {
   "cell_type": "code",
   "execution_count": null,
   "metadata": {},
   "outputs": [],
   "source": [
    "def GetListOfFiles(thedir,tag):\n",
    "    \"\"\"\n",
    "    - thedir : directory where are the files\n",
    "    - tage  = the re expression to file the filename with regular expression\n",
    "    \"\"\"\n",
    "    all_files=os.listdir(thedir)\n",
    "    sorted_files=sorted(all_files)\n",
    "    selected_files=[]\n",
    "    for sfile in sorted_files:\n",
    "        if re.search(tag,sfile):\n",
    "            selected_files.append(sfile)\n",
    "    return selected_files"
   ]
  },
  {
   "cell_type": "code",
   "execution_count": null,
   "metadata": {},
   "outputs": [],
   "source": [
    "def FilterListOfFiles(listOfFiles):\n",
    "    \"\"\"\n",
    "    Filter list of files   \n",
    "    \"\"\"\n",
    "    \n",
    "    all_selected_files=[]\n",
    "    \n",
    "    current_root_fn=None  # root of filename ex hd000000\n",
    "    current_fn=None    # filename of calspec ex hd000000_stis.fits\n",
    "    \n",
    "    for fn in listOfFiles:\n",
    "        \n",
    "        root_fn=fn.split(\"_\")[0]\n",
    "        \n",
    "        if current_root_fn==None:\n",
    "            current_root_fn=root_fn\n",
    "            current_fn=fn\n",
    "            continue\n",
    "            \n",
    "        if root_fn != current_root_fn:\n",
    "            all_selected_files.append(current_fn)\n",
    "            \n",
    "        current_fn=fn\n",
    "        current_root_fn=root_fn\n",
    "\n",
    "    return all_selected_files"
   ]
  },
  {
   "cell_type": "code",
   "execution_count": null,
   "metadata": {},
   "outputs": [],
   "source": [
    "# the tag to find the good filename\n",
    "RETAGFNNAME=\".*fits$\"\n",
    "#RETAGFNNAME=\"^hd.*_stis_[0-9][0-9][0-9].fits$\"\n",
    "#RETAGDRNAME=\"(^T1M_.*_HD116405_Filtre_None)_bin1x1.*_red.fit$\""
   ]
  },
  {
   "cell_type": "code",
   "execution_count": null,
   "metadata": {},
   "outputs": [],
   "source": [
    "all_files=os.listdir(path_sed_calspec)"
   ]
  },
  {
   "cell_type": "code",
   "execution_count": null,
   "metadata": {},
   "outputs": [],
   "source": [
    "all_files=sorted(all_files)"
   ]
  },
  {
   "cell_type": "code",
   "execution_count": null,
   "metadata": {},
   "outputs": [],
   "source": [
    "print(all_files)"
   ]
  },
  {
   "cell_type": "code",
   "execution_count": null,
   "metadata": {},
   "outputs": [],
   "source": [
    "all_calspec=GetListOfFiles(path_sed_calspec,RETAGFNNAME)"
   ]
  },
  {
   "cell_type": "code",
   "execution_count": null,
   "metadata": {},
   "outputs": [],
   "source": [
    "print(all_calspec)"
   ]
  },
  {
   "cell_type": "code",
   "execution_count": null,
   "metadata": {},
   "outputs": [],
   "source": [
    "all_selected_calspec=FilterListOfFiles(all_calspec)"
   ]
  },
  {
   "cell_type": "code",
   "execution_count": null,
   "metadata": {},
   "outputs": [],
   "source": [
    "print(all_selected_calspec)"
   ]
  },
  {
   "cell_type": "code",
   "execution_count": null,
   "metadata": {},
   "outputs": [],
   "source": [
    "Simbad.list_votable_fields()"
   ]
  },
  {
   "cell_type": "code",
   "execution_count": null,
   "metadata": {},
   "outputs": [],
   "source": [
    "Simbad.add_votable_fields('sptype')\n",
    "Simbad.add_votable_fields('flux(U)') # add the Vega unit Magnitude \n",
    "Simbad.add_votable_fields('flux(B)') # add the Vega unit Magnitude \n",
    "Simbad.add_votable_fields('flux(V)') # add the Vega unit Magnitude \n",
    "Simbad.add_votable_fields('flux(R)') # add the Vega unit Magnitude \n",
    "Simbad.add_votable_fields('flux(I)') # add the Vega unit Magnitude \n",
    "#Simbad.add_votable_fields('flux_unit(V)')\n",
    "#Simbad.add_votable_fields('flux_unit(I)')\n",
    "#Simbad.add_votable_fields('flux_system(V)')\n",
    "#Simbad.add_votable_fields('flux_system(I)')\n",
    "#Simbad.add_votable_fields('ubv')  # Johnson UBV system"
   ]
  },
  {
   "cell_type": "code",
   "execution_count": null,
   "metadata": {},
   "outputs": [],
   "source": [
    "Simbad.get_field_description(\"otype\")"
   ]
  },
  {
   "cell_type": "code",
   "execution_count": null,
   "metadata": {},
   "outputs": [],
   "source": [
    "Simbad.get_field_description(\"ubv\")"
   ]
  },
  {
   "cell_type": "code",
   "execution_count": null,
   "metadata": {},
   "outputs": [],
   "source": [
    "Simbad.get_field_description(\"uvby\")"
   ]
  },
  {
   "cell_type": "code",
   "execution_count": null,
   "metadata": {},
   "outputs": [],
   "source": [
    "all_tables=[]\n",
    "all_objnames=[]\n",
    "all_ra=[]\n",
    "all_dec=[]\n",
    "all_sp_type=[]\n",
    "all_sp_qual=[]\n",
    "all_mag_U=[]\n",
    "all_mag_B=[]\n",
    "all_mag_V=[]\n",
    "all_mag_R=[]\n",
    "all_mag_I=[]\n",
    "\n",
    "all_goodcalspecfile=[]\n",
    "\n",
    "for file in all_selected_calspec:\n",
    "    fullfilename=os.path.join(path_sed_calspec,file)\n",
    "    \n",
    "    hdu = fits.open(fullfilename)\n",
    "    img=hdu[0].data\n",
    "    hd=hdu[0].header\n",
    "    \n",
    "    print(file)\n",
    "    \n",
    "    if file in [\"WDcovar_001.fits\"]:\n",
    "        print(\">>>>> SKIP file {} \".format(file))\n",
    "        continue\n",
    "    \n",
    "    OBJNAME=hd[\"TARGETID\"]\n",
    "    print(\"==============\",OBJNAME,\"===========================\")\n",
    "    \n",
    "    if OBJNAME in [\"1732526\",\"1740346\",\"1743045\",\"1757132\",\"1802271\",\"1805292\",\"1808347\",\"1812095\",\"1812524\",\"2M0036+18\",\"2M0559-14\",\"AGK+81D266\",\n",
    "                   \"BD02D3375\",\"BD17D4708\",\"BD21D0607\",\"BD26D2606\",\"BD29D2091\",\"BD54D1216\",\"BD60D1753\",\"BD75\",\"C26202\",\"ETAUMA\",\"GJ7541A\",\"GRW+70D5824\",\"HS2027\",\"KF01T5\",\n",
    "                  \"KF06T1\",\"KF06T2\",\"KF08T3\",\"KSI2CETI\",\"LAMLEP\",\"MUCOL\",\"P041C\",\"P177D\",\"P330E\",\"SF1615001A\",\"SF1615+001A\",\"SNAP-1\",\"SNAP-2\",\"SUN_REFERENCE\",\"WD0947_857\",\"WD1026_453\",\n",
    "                   \"HZ43B\",\"WD0320-539\",\"VB8\"]:\n",
    "        print(\">>>>> SKIP TARGET {} \".format(OBJNAME))\n",
    "        continue\n",
    "        \n",
    "    result_table = Simbad.query_object(OBJNAME)\n",
    "    \n",
    "    \n",
    "    if len(result_table)==0:\n",
    "        print(\">>>>> TARGET {} not found in Simbad\".format(OBJNAME))\n",
    "        continue\n",
    "        \n",
    "    \n",
    "           \n",
    "    result_table.pprint(show_unit=True, max_width=80)\n",
    "    \n",
    "    ra = coord.Angle(result_table[\"RA\"], unit=u.hour) # create an Angle object\n",
    "    dec = coord.Angle(result_table[\"DEC\"], unit=u.deg) # create an Angle object\n",
    "    skycoord=SkyCoord(ra=ra,dec=dec)[0]\n",
    "    \n",
    "    thetype=result_table[\"SP_TYPE\"][0]\n",
    "    thequal=result_table[\"SP_QUAL\"][0]\n",
    "    #mag_V_vega=result_table[\"FLUX_V_2\"][0]\n",
    "    mag_U_vega=result_table[\"FLUX_U\"][0]\n",
    "    mag_B_vega=result_table[\"FLUX_B\"][0]\n",
    "    mag_V_vega=result_table[\"FLUX_V\"][0]\n",
    "    mag_R_vega=result_table[\"FLUX_R\"][0]\n",
    "    mag_I_vega=result_table[\"FLUX_I\"][0]\n",
    "        \n",
    "    all_objnames.append(OBJNAME)\n",
    "    all_tables.append(result_table)\n",
    "    all_ra.append(skycoord.ra.degree)\n",
    "    all_dec.append(skycoord.dec.degree)\n",
    "    all_sp_type.append(thetype)\n",
    "    all_sp_qual.append(thequal)\n",
    "    all_mag_U.append(mag_U_vega)\n",
    "    all_mag_B.append(mag_B_vega)\n",
    "    all_mag_V.append(mag_V_vega)\n",
    "    all_mag_R.append(mag_R_vega)\n",
    "    all_mag_I.append(mag_I_vega)\n",
    "    all_goodcalspecfile.append(file)"
   ]
  },
  {
   "cell_type": "markdown",
   "metadata": {},
   "source": [
    "# Create an astropy table to save good calspec"
   ]
  },
  {
   "cell_type": "code",
   "execution_count": null,
   "metadata": {},
   "outputs": [],
   "source": [
    "t = Table()"
   ]
  },
  {
   "cell_type": "code",
   "execution_count": null,
   "metadata": {},
   "outputs": [],
   "source": [
    "t[\"OBJNAME\"]=all_objnames\n",
    "t[\"RA\"]=all_ra\n",
    "t[\"DEC\"]=all_dec\n",
    "t[\"SP_TYPE\"]=all_sp_type\n",
    "t[\"SP_QUAL\"]=all_sp_qual\n",
    "t[\"magU\"]=all_mag_U\n",
    "t[\"magB\"]=all_mag_B\n",
    "t[\"magV\"]=all_mag_V\n",
    "t[\"magR\"]=all_mag_R\n",
    "t[\"magI\"]=all_mag_I\n",
    "t[\"FILES\"]=all_goodcalspecfile\n"
   ]
  },
  {
   "cell_type": "code",
   "execution_count": null,
   "metadata": {},
   "outputs": [],
   "source": [
    "t[\"RA\"].info.format ='5.3f'\n",
    "t[\"DEC\"].info.format ='5.3f'\n",
    "t[\"magU\"].info.format ='5.3f'\n",
    "t[\"magB\"].info.format ='5.3f'\n",
    "t[\"magV\"].info.format ='5.3f'\n",
    "t[\"magR\"].info.format ='5.3f'\n",
    "t[\"magI\"].info.format ='5.3f'"
   ]
  },
  {
   "cell_type": "code",
   "execution_count": null,
   "metadata": {},
   "outputs": [],
   "source": [
    "t.show_in_notebook()  "
   ]
  },
  {
   "cell_type": "code",
   "execution_count": null,
   "metadata": {},
   "outputs": [],
   "source": [
    "t.write('table_summary_allcalspec.fits', overwrite=True)  "
   ]
  },
  {
   "cell_type": "code",
   "execution_count": null,
   "metadata": {},
   "outputs": [],
   "source": []
  }
 ],
 "metadata": {
  "kernelspec": {
   "display_name": "Python 3",
   "language": "python",
   "name": "python3"
  },
  "language_info": {
   "codemirror_mode": {
    "name": "ipython",
    "version": 3
   },
   "file_extension": ".py",
   "mimetype": "text/x-python",
   "name": "python",
   "nbconvert_exporter": "python",
   "pygments_lexer": "ipython3",
   "version": "3.7.7"
  },
  "toc": {
   "base_numbering": 1,
   "nav_menu": {},
   "number_sections": true,
   "sideBar": true,
   "skip_h1_title": false,
   "title_cell": "Table of Contents",
   "title_sidebar": "Contents",
   "toc_cell": false,
   "toc_position": {},
   "toc_section_display": "block",
   "toc_window_display": false
  }
 },
 "nbformat": 4,
 "nbformat_minor": 4
}
