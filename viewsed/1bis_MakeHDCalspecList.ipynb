{
 "cells": [
  {
   "cell_type": "markdown",
   "metadata": {},
   "source": [
    "# Build a list of Calspec Star for AuxTel\n",
    "\n",
    "- author : Sylvie Dagoret-Campagne\n",
    "- creation date : 25/09/2019\n",
    "- Update : April 20th 2020 for package PhotomCorrectAuxTel\n",
    "\n",
    "\n",
    "From Pysynphot, il get all CALSPEC filenames. It extract **HD type stars**, get their Ra Dec and filename and make a summary file of all the CALSPEC available"
   ]
  },
  {
   "cell_type": "code",
   "execution_count": 1,
   "metadata": {},
   "outputs": [],
   "source": [
    "import os\n",
    "import re\n",
    "import numpy as np\n",
    "from math import ceil,floor"
   ]
  },
  {
   "cell_type": "code",
   "execution_count": 2,
   "metadata": {},
   "outputs": [],
   "source": [
    "import pysynphot as S"
   ]
  },
  {
   "cell_type": "code",
   "execution_count": 3,
   "metadata": {},
   "outputs": [
    {
     "data": {
      "text/plain": [
       "'en_US.UTF-8'"
      ]
     },
     "execution_count": 3,
     "metadata": {},
     "output_type": "execute_result"
    }
   ],
   "source": [
    "import locale\n",
    "locale.setlocale(locale.LC_ALL, 'en_US.UTF-8') # vary depending on your lang/locale"
   ]
  },
  {
   "cell_type": "code",
   "execution_count": 4,
   "metadata": {},
   "outputs": [],
   "source": [
    "import matplotlib\n",
    "import matplotlib.pyplot as plt\n",
    "%matplotlib inline"
   ]
  },
  {
   "cell_type": "code",
   "execution_count": 5,
   "metadata": {},
   "outputs": [],
   "source": [
    "import time\n",
    "from datetime import datetime,date\n",
    "import dateutil.parser\n",
    "import astropy.units as u\n",
    "from astropy.time import Time\n",
    "from astropy.coordinates import SkyCoord, EarthLocation, AltAz\n",
    "from astropy.coordinates import Angle\n",
    "from astropy import units as u\n",
    "import astropy.coordinates as coord"
   ]
  },
  {
   "cell_type": "code",
   "execution_count": 6,
   "metadata": {},
   "outputs": [],
   "source": [
    "from astropy.io import fits\n",
    "from astropy.table import Table\n",
    "from astropy.time import Time\n",
    "import astropy\n",
    "from astropy.visualization.mpl_normalize import (ImageNormalize,MinMaxInterval,PercentileInterval,SqrtStretch,LogStretch)\n",
    "from astropy.visualization.wcsaxes import SphericalCircle"
   ]
  },
  {
   "cell_type": "code",
   "execution_count": 7,
   "metadata": {},
   "outputs": [],
   "source": [
    "from astroquery.simbad import Simbad"
   ]
  },
  {
   "cell_type": "code",
   "execution_count": 8,
   "metadata": {},
   "outputs": [],
   "source": [
    "pysynphot_root_path=os.environ['PYSYN_CDBS']"
   ]
  },
  {
   "cell_type": "code",
   "execution_count": 9,
   "metadata": {},
   "outputs": [
    {
     "data": {
      "text/plain": [
       "'/Users/dagoret/MacOSX/External/PySynPhotData/grp/hst/cdbs'"
      ]
     },
     "execution_count": 9,
     "metadata": {},
     "output_type": "execute_result"
    }
   ],
   "source": [
    "pysynphot_root_path"
   ]
  },
  {
   "cell_type": "code",
   "execution_count": 10,
   "metadata": {},
   "outputs": [],
   "source": [
    "path_sed_calspec=os.path.join(pysynphot_root_path,'calspec')"
   ]
  },
  {
   "cell_type": "code",
   "execution_count": 11,
   "metadata": {},
   "outputs": [],
   "source": [
    "def GetListOfFiles(thedir,tag):\n",
    "    \"\"\"\n",
    "    - thedir : directory where are the files\n",
    "    - tage  = the re expression to file the filename with regular expression\n",
    "    \"\"\"\n",
    "    all_files=os.listdir(thedir)\n",
    "    sorted_files=sorted(all_files)\n",
    "    selected_files=[]\n",
    "    for sfile in sorted_files:\n",
    "        if re.search(tag,sfile):\n",
    "            selected_files.append(sfile)\n",
    "    return selected_files"
   ]
  },
  {
   "cell_type": "code",
   "execution_count": 12,
   "metadata": {},
   "outputs": [],
   "source": [
    "def FilterListOfFiles(listOfFiles):\n",
    "    \"\"\"\n",
    "    Filter list of files   \n",
    "    \"\"\"\n",
    "    \n",
    "    all_selected_files=[]\n",
    "    \n",
    "    current_root_fn=None  # root of filename ex hd000000\n",
    "    current_fn=None    # filename of calspec ex hd000000_stis.fits\n",
    "    \n",
    "    for fn in listOfFiles:\n",
    "        \n",
    "        root_fn=fn.split(\"_\")[0]\n",
    "        \n",
    "        if current_root_fn==None:\n",
    "            current_root_fn=root_fn\n",
    "            current_fn=fn\n",
    "            continue\n",
    "            \n",
    "        if root_fn != current_root_fn:\n",
    "            all_selected_files.append(current_fn)\n",
    "            \n",
    "        current_fn=fn\n",
    "        current_root_fn=root_fn\n",
    "\n",
    "    return all_selected_files"
   ]
  },
  {
   "cell_type": "code",
   "execution_count": 13,
   "metadata": {},
   "outputs": [],
   "source": [
    "# the tag to find the good filename\n",
    "RETAGFNNAME=\"^hd.*_stis_[0-9][0-9][0-9].fits$\"\n",
    "#RETAGDRNAME=\"(^T1M_.*_HD116405_Filtre_None)_bin1x1.*_red.fit$\""
   ]
  },
  {
   "cell_type": "code",
   "execution_count": 14,
   "metadata": {},
   "outputs": [],
   "source": [
    "all_files=os.listdir(path_sed_calspec)"
   ]
  },
  {
   "cell_type": "code",
   "execution_count": 15,
   "metadata": {},
   "outputs": [],
   "source": [
    "all_files=sorted(all_files)"
   ]
  },
  {
   "cell_type": "code",
   "execution_count": 16,
   "metadata": {},
   "outputs": [
    {
     "name": "stdout",
     "output_type": "stream",
     "text": [
      "['10lac_mod_001.fits', '10lac_stis_001.fits', '10lac_stis_002.fits', '10lac_stis_003.fits', '10lac_stis_004.fits', '1732526_mod_001.fits', '1732526_nic_002.fits', '1732526_stisnic_001.fits', '1732526_stisnic_002.fits', '1732526_stisnic_003.fits', '1732526_stisnic_004.fits', '1740346_nic_001.fits', '1740346_nic_002.fits', '1740346_stisnic_001.fits', '1740346_stisnic_002.fits', '1740346_stisnic_003.fits', '1743045_mod_001.fits', '1743045_nic_001.fits', '1743045_nic_002.fits', '1743045_stisnic_001.fits', '1743045_stisnic_002.fits', '1743045_stisnic_003.fits', '1743045_stisnic_004.fits', '1757132_mod_001.fits', '1757132_stis_001.fits', '1757132_stis_002.fits', '1757132_stis_003.fits', '1757132_stis_004.fits', '1802271_mod_001.fits', '1802271_nic_002.fits', '1802271_stisnic_001.fits', '1802271_stisnic_002.fits', '1802271_stisnic_003.fits', '1802271_stisnic_004.fits', '1805292_mod_001.fits', '1805292_nic_001.fits', '1805292_nic_002.fits', '1805292_stisnic_001.fits', '1805292_stisnic_002.fits', '1805292_stisnic_003.fits', '1805292_stisnic_004.fits', '1808347_mod_001.fits', '1808347_stis_001.fits', '1808347_stis_002.fits', '1808347_stis_003.fits', '1808347_stis_004.fits', '1812095_mod_001.fits', '1812095_nic_001.fits', '1812095_nic_002.fits', '1812095_stisnic_001.fits', '1812095_stisnic_002.fits', '1812095_stisnic_003.fits', '1812095_stisnic_004.fits', '1812524_nic_002.fits', '1812524_nic_003.fits', '1812524_nic_004.fits', '2m003618_stisnic_001.fits', '2m003618_stisnic_002.fits', '2m003618_stisnic_003.fits', '2m003618_stisnic_004.fits', '2m003618_stisnic_005.fits', '2m003618_stisnic_006.fits', '2m055914_stisnic_001.fits', '2m055914_stisnic_002.fits', '2m055914_stisnic_003.fits', '2m055914_stisnic_004.fits', '2m055914_stisnic_005.fits', '2m055914_stisnic_006.fits', 'README', 'WDcovar_001.fits', 'agk_81d266_005.fits', 'agk_81d266_stis_001.fits', 'agk_81d266_stisnic_002.fits', 'agk_81d266_stisnic_003.fits', 'agk_81d266_stisnic_004.fits', 'agk_81d266_stisnic_005.fits', 'agk_81d266_stisnic_006.fits', 'alpha_lyr_004.fits', 'alpha_lyr_005.fits', 'alpha_lyr_mod_001.fits', 'alpha_lyr_mod_002.fits', 'alpha_lyr_stis_002.fits', 'alpha_lyr_stis_003.fits', 'alpha_lyr_stis_004.fits', 'alpha_lyr_stis_005.fits', 'alpha_lyr_stis_006.fits', 'alpha_lyr_stis_007.fits', 'alpha_lyr_stis_008.fits', 'bd02d3375_stis_001.fits', 'bd02d3375_stis_002.fits', 'bd02d3375_stis_003.fits', 'bd17d4708_stis_001.fits', 'bd17d4708_stisnic_001.fits', 'bd21d0607_stis_001.fits', 'bd21d0607_stis_002.fits', 'bd21d0607_stis_003.fits', 'bd26d2606_stis_001.fits', 'bd26d2606_stis_002.fits', 'bd26d2606_stis_003.fits', 'bd29d2091_stis_001.fits', 'bd29d2091_stis_002.fits', 'bd29d2091_stis_003.fits', 'bd54d1216_stis_001.fits', 'bd54d1216_stis_002.fits', 'bd54d1216_stis_003.fits', 'bd60d1753_mod_001.fits', 'bd60d1753_stis_001.fits', 'bd60d1753_stis_002.fits', 'bd60d1753_stis_003.fits', 'bd60d1753_stis_004.fits', 'bd_17d4708_stisnic_002.fits', 'bd_17d4708_stisnic_003.fits', 'bd_17d4708_stisnic_004.fits', 'bd_17d4708_stisnic_005.fits', 'bd_17d4708_stisnic_006.fits', 'bd_25d4655_002.fits', 'bd_28d4211_005.fits', 'bd_28d4211_fos_003.fits', 'bd_28d4211_stis_001.fits', 'bd_28d4211_stis_002.fits', 'bd_28d4211_stis_003.fits', 'bd_28d4211_stis_004.fits', 'bd_33d2642_004.fits', 'bd_33d2642_fos_003.fits', 'bd_75d325_005.fits', 'bd_75d325_fos_003.fits', 'bd_75d325_stis_001.fits', 'bd_75d325_stis_002.fits', 'bd_75d325_stis_003.fits', 'bd_75d325_stis_004.fits', 'c26202_mod_001.fits', 'c26202_stisnic_001.fits', 'c26202_stisnic_002.fits', 'c26202_stisnic_003.fits', 'c26202_stisnic_004.fits', 'c26202_stisnic_005.fits', 'c26202_stisnic_006.fits', 'c26202_stisnic_007.fits', 'calspec-09jan.html', 'etauma_stis_001.fits', 'etauma_stis_002.fits', 'etauma_stis_003.fits', 'feige110_005.fits', 'feige110_stis_001.fits', 'feige110_stisnic_002.fits', 'feige110_stisnic_003.fits', 'feige110_stisnic_004.fits', 'feige110_stisnic_005.fits', 'feige110_stisnic_006.fits', 'feige34_005.fits', 'feige34_stis_001.fits', 'feige34_stis_002.fits', 'feige34_stis_003.fits', 'feige34_stis_004.fits', 'feige66_002.fits', 'feige67_002.fits', 'g191b2b_005.fits', 'g191b2b_fos_003.fits', 'g191b2b_mod_004.fits', 'g191b2b_mod_005.fits', 'g191b2b_mod_007.fits', 'g191b2b_mod_008.fits', 'g191b2b_mod_009.fits', 'g191b2b_mod_010.fits', 'g191b2b_nic_001.fits', 'g191b2b_stis_001.fits', 'g191b2b_stisfuse_001.fits', 'g191b2b_stisnic_001.fits', 'g191b2b_stisnic_002.fits', 'g191b2b_stisnic_003.fits', 'g191b2b_stisnic_004.fits', 'g191b2b_stisnic_005.fits', 'g191b2b_stisnic_006.fits', 'g93_48_004.fits', 'gd108_005.fits', 'gd153_fos_003.fits', 'gd153_mod_004.fits', 'gd153_mod_005.fits', 'gd153_mod_007.fits', 'gd153_mod_008.fits', 'gd153_mod_009.fits', 'gd153_mod_010.fits', 'gd153_stis_001.fits', 'gd153_stisnic_001.fits', 'gd153_stisnic_002.fits', 'gd153_stisnic_003.fits', 'gd153_stisnic_004.fits', 'gd153_stisnic_005.fits', 'gd153_stisnic_006.fits', 'gd50_004.fits', 'gd71_fos_003.fits', 'gd71_mod_005.fits', 'gd71_mod_006.fits', 'gd71_mod_007.fits', 'gd71_mod_008.fits', 'gd71_mod_009.fits', 'gd71_mod_010.fits', 'gd71_stis_001.fits', 'gd71_stisnic_001.fits', 'gd71_stisnic_002.fits', 'gd71_stisnic_003.fits', 'gd71_stisnic_004.fits', 'gd71_stisnic_005.fits', 'gd71_stisnic_006.fits', 'gj7541a_stis_001.fits', 'gj7541a_stis_002.fits', 'gj7541a_stis_003.fits', 'grw_70d5824_005.fits', 'grw_70d5824_stis_001.fits', 'grw_70d5824_stisnic_002.fits', 'grw_70d5824_stisnic_003.fits', 'grw_70d5824_stisnic_004.fits', 'grw_70d5824_stisnic_005.fits', 'grw_70d5824_stisnic_006.fits', 'hd009051_stis_001.fits', 'hd009051_stis_002.fits', 'hd009051_stis_003.fits', 'hd031128_stis_001.fits', 'hd031128_stis_002.fits', 'hd031128_stis_003.fits', 'hd074000_stis_001.fits', 'hd074000_stis_002.fits', 'hd074000_stis_003.fits', 'hd106252_mod_001.fits', 'hd106252_stis_001.fits', 'hd106252_stis_002.fits', 'hd106252_stis_003.fits', 'hd106252_stis_004.fits', 'hd111980_stis_001.fits', 'hd111980_stis_002.fits', 'hd111980_stis_003.fits', 'hd116405_mod_001.fits', 'hd116405_stis_001.fits', 'hd116405_stis_002.fits', 'hd116405_stis_003.fits', 'hd116405_stis_004.fits', 'hd14943_mod_001.fits', 'hd14943_stis_001.fits', 'hd14943_stis_002.fits', 'hd14943_stis_003.fits', 'hd14943_stis_004.fits', 'hd158485_mod_001.fits', 'hd158485_stis_001.fits', 'hd158485_stis_002.fits', 'hd158485_stis_003.fits', 'hd158485_stis_004.fits', 'hd159222_mod_001.fits', 'hd159222_stis_001.fits', 'hd159222_stis_002.fits', 'hd159222_stis_003.fits', 'hd159222_stis_004.fits', 'hd160617_stis_001.fits', 'hd160617_stis_002.fits', 'hd160617_stis_003.fits', 'hd163466_mod_001.fits', 'hd163466_stis_001.fits', 'hd163466_stis_002.fits', 'hd163466_stis_003.fits', 'hd163466_stis_004.fits', 'hd165459_mod_001.fits', 'hd165459_nic_002.fits', 'hd165459_stisnic_001.fits', 'hd165459_stisnic_002.fits', 'hd165459_stisnic_003.fits', 'hd165459_stisnic_004.fits', 'hd180609_mod_001.fits', 'hd180609_stis_001.fits', 'hd180609_stis_002.fits', 'hd180609_stis_003.fits', 'hd180609_stis_004.fits', 'hd185975_stis_001.fits', 'hd185975_stis_002.fits', 'hd185975_stis_003.fits', 'hd200654_stis_001.fits', 'hd200654_stis_002.fits', 'hd200654_stis_003.fits', 'hd205905_mod_001.fits', 'hd205905_stis_001.fits', 'hd205905_stis_002.fits', 'hd205905_stis_003.fits', 'hd205905_stis_004.fits', 'hd209458_mod_001.fits', 'hd209458_stisnic_002.fits', 'hd209458_stisnic_003.fits', 'hd209458_stisnic_004.fits', 'hd209458_stisnic_005.fits', 'hd209458_stisnic_006.fits', 'hd209458_stisnic_007.fits', 'hd37725_mod_001.fits', 'hd37725_stis_001.fits', 'hd37725_stis_002.fits', 'hd37725_stis_003.fits', 'hd37725_stis_004.fits', 'hd37962_mod_001.fits', 'hd37962_stis_001.fits', 'hd37962_stis_002.fits', 'hd37962_stis_003.fits', 'hd37962_stis_004.fits', 'hd38949_mod_001.fits', 'hd38949_stis_001.fits', 'hd38949_stis_002.fits', 'hd38949_stis_003.fits', 'hd38949_stis_004.fits', 'hd60753_stis_001.fits', 'hd60753_stis_002.fits', 'hd60753_stis_003.fits', 'hd93521_005.fits', 'hd93521_stis_001.fits', 'hd93521_stis_002.fits', 'hd93521_stis_003.fits', 'hd93521_stis_004.fits', 'hs2027_stis_001.fits', 'hs2027_stis_002.fits', 'hs2027_stis_003.fits', 'hs2027_stis_004.fits', 'hz21_005.fits', 'hz21_stis_001.fits', 'hz21_stis_002.fits', 'hz21_stis_003.fits', 'hz21_stis_004.fits', 'hz2_005.fits', 'hz43_fos_003.fits', 'hz43_mod_004.fits', 'hz43_mod_005.fits', 'hz43_mod_008.fits', 'hz43_mod_009.fits', 'hz43_mod_010.fits', 'hz43_stis_001.fits', 'hz43_stis_002.fits', 'hz43_stis_003.fits', 'hz43_stis_004.fits', 'hz43b_stis_001.fits', 'hz43b_stis_002.fits', 'hz43b_stis_003.fits', 'hz43b_stis_004.fits', 'hz44_005.fits', 'hz44_fos_003.fits', 'hz44_stis_001.fits', 'hz44_stis_002.fits', 'hz44_stis_003.fits', 'hz44_stis_004.fits', 'hz4_004.fits', 'hz4_stis_001.fits', 'hz4_stis_002.fits', 'hz4_stis_003.fits', 'hz4_stis_004.fits', 'hz4_stis_005.fits', 'kf01t5_nic_001.fits', 'kf01t5_nic_002.fits', 'kf01t5_nic_003.fits', 'kf06t1_nic_001.fits', 'kf06t1_nic_002.fits', 'kf06t1_nic_003.fits', 'kf06t2_mod_001.fits', 'kf06t2_nic_001.fits', 'kf06t2_stisnic_001.fits', 'kf06t2_stisnic_002.fits', 'kf06t2_stisnic_003.fits', 'kf06t2_stisnic_004.fits', 'kf08t3_nic_001.fits', 'kf08t3_nic_002.fits', 'kf08t3_nic_003.fits', 'ksi2ceti_mod_001.fits', 'ksi2ceti_stis_001.fits', 'ksi2ceti_stis_002.fits', 'ksi2ceti_stis_003.fits', 'ksi2ceti_stis_004.fits', 'lamlep_mod_001.fits', 'lamlep_stis_001.fits', 'lamlep_stis_002.fits', 'lamlep_stis_003.fits', 'lamlep_stis_004.fits', 'lb227_004.fits', 'lds749b_005.fits', 'lds749b_mod_001.fits', 'lds749b_mod_002.fits', 'lds749b_mod_003.fits', 'lds749b_mod_004.fits', 'lds749b_mod_005.fits', 'lds749b_stis_001.fits', 'lds749b_stisnic_001.fits', 'lds749b_stisnic_002.fits', 'lds749b_stisnic_003.fits', 'lds749b_stisnic_004.fits', 'lds749b_stisnic_005.fits', 'lds749b_stisnic_006.fits', 'ltt9491_002.fits', 'mucol_mod_001.fits', 'mucol_stis_001.fits', 'mucol_stis_002.fits', 'mucol_stis_003.fits', 'mucol_stis_004.fits', 'names2', 'ngc7293_005.fits', 'p041c_001.fits', 'p041c_mod_001.fits', 'p041c_stis_001.fits', 'p041c_stisnic_001.fits', 'p041c_stisnic_002.fits', 'p041c_stisnic_003.fits', 'p041c_stisnic_004.fits', 'p041c_stisnic_005.fits', 'p041c_stisnic_006.fits', 'p041c_stisnic_007.fits', 'p177d_001.fits', 'p177d_mod_001.fits', 'p177d_stis_001.fits', 'p177d_stisnic_001.fits', 'p177d_stisnic_002.fits', 'p177d_stisnic_003.fits', 'p177d_stisnic_004.fits', 'p177d_stisnic_005.fits', 'p177d_stisnic_006.fits', 'p177d_stisnic_007.fits', 'p330e_001.fits', 'p330e_mod_001.fits', 'p330e_stis_001.fits', 'p330e_stisnic_001.fits', 'p330e_stisnic_002.fits', 'p330e_stisnic_003.fits', 'p330e_stisnic_004.fits', 'p330e_stisnic_005.fits', 'p330e_stisnic_006.fits', 'p330e_stisnic_007.fits', 'p330e_stisnic_008.fits', 'sf1615001a_stisnic_001.fits', 'sf1615_001a_mod_001.fits', 'sf1615_001a_stisnic_002.fits', 'sf1615_001a_stisnic_003.fits', 'sf1615_001a_stisnic_004.fits', 'sf1615_001a_stisnic_005.fits', 'sf1615_001a_stisnic_006.fits', 'sf1615_001a_stisnic_007.fits', 'sirius_mod_001.fits', 'sirius_mod_002.fits', 'sirius_stis_001.fits', 'sirius_stis_002.fits', 'snap1_stisnic_001.fits', 'snap1_stisnic_002.fits', 'snap1_stisnic_003.fits', 'snap1_stisnic_004.fits', 'snap1_stisnic_005.fits', 'snap1_stisnic_006.fits', 'snap2_mod_001.fits', 'snap2_stisnic_001.fits', 'snap2_stisnic_002.fits', 'snap2_stisnic_003.fits', 'snap2_stisnic_004.fits', 'snap2_stisnic_005.fits', 'snap2_stisnic_006.fits', 'snap2_stisnic_007.fits', 'sun_reference_001.fits', 'sun_reference_stis_001.fits', 'sun_reference_stis_002.fits', 'vb8_stisnic_001.fits', 'vb8_stisnic_002.fits', 'vb8_stisnic_003.fits', 'vb8_stisnic_004.fits', 'vb8_stisnic_005.fits', 'vb8_stisnic_006.fits', 'wd0308_565_mod_001.fits', 'wd0308_565_mod_002.fits', 'wd0308_565_mod_003.fits', 'wd0308_565_stis_001.fits', 'wd0308_565_stis_002.fits', 'wd0308_565_stis_003.fits', 'wd0308_565_stis_004.fits', 'wd0320_539_stis_001.fits', 'wd0320_539_stis_002.fits', 'wd0320_539_stis_003.fits', 'wd0320_539_stis_004.fits', 'wd0947_857_stis_001.fits', 'wd0947_857_stis_002.fits', 'wd0947_857_stis_003.fits', 'wd0947_857_stis_004.fits', 'wd1026_453_stis_001.fits', 'wd1026_453_stis_002.fits', 'wd1026_453_stis_003.fits', 'wd1026_453_stis_004.fits', 'wd1057_719_mod_001.fits', 'wd1057_719_mod_002.fits', 'wd1057_719_mod_003.fits', 'wd1057_719_mod_004.fits', 'wd1057_719_mod_005.fits', 'wd1057_719_stisnic_001.fits', 'wd1057_719_stisnic_002.fits', 'wd1057_719_stisnic_003.fits', 'wd1057_719_stisnic_004.fits', 'wd1057_719_stisnic_005.fits', 'wd1057_719_stisnic_006.fits', 'wd1657_343_mod_001.fits', 'wd1657_343_mod_002.fits', 'wd1657_343_mod_003.fits', 'wd1657_343_mod_004.fits', 'wd1657_343_mod_005.fits', 'wd1657_343_stisnic_001.fits', 'wd1657_343_stisnic_002.fits', 'wd1657_343_stisnic_003.fits', 'wd1657_343_stisnic_004.fits', 'wd1657_343_stisnic_005.fits', 'wd1657_343_stisnic_006.fits']\n"
     ]
    }
   ],
   "source": [
    "print(all_files)"
   ]
  },
  {
   "cell_type": "code",
   "execution_count": 17,
   "metadata": {},
   "outputs": [],
   "source": [
    "all_hdcalspec=GetListOfFiles(path_sed_calspec,RETAGFNNAME)"
   ]
  },
  {
   "cell_type": "code",
   "execution_count": 18,
   "metadata": {},
   "outputs": [
    {
     "name": "stdout",
     "output_type": "stream",
     "text": [
      "['hd009051_stis_001.fits', 'hd009051_stis_002.fits', 'hd009051_stis_003.fits', 'hd031128_stis_001.fits', 'hd031128_stis_002.fits', 'hd031128_stis_003.fits', 'hd074000_stis_001.fits', 'hd074000_stis_002.fits', 'hd074000_stis_003.fits', 'hd106252_stis_001.fits', 'hd106252_stis_002.fits', 'hd106252_stis_003.fits', 'hd106252_stis_004.fits', 'hd111980_stis_001.fits', 'hd111980_stis_002.fits', 'hd111980_stis_003.fits', 'hd116405_stis_001.fits', 'hd116405_stis_002.fits', 'hd116405_stis_003.fits', 'hd116405_stis_004.fits', 'hd14943_stis_001.fits', 'hd14943_stis_002.fits', 'hd14943_stis_003.fits', 'hd14943_stis_004.fits', 'hd158485_stis_001.fits', 'hd158485_stis_002.fits', 'hd158485_stis_003.fits', 'hd158485_stis_004.fits', 'hd159222_stis_001.fits', 'hd159222_stis_002.fits', 'hd159222_stis_003.fits', 'hd159222_stis_004.fits', 'hd160617_stis_001.fits', 'hd160617_stis_002.fits', 'hd160617_stis_003.fits', 'hd163466_stis_001.fits', 'hd163466_stis_002.fits', 'hd163466_stis_003.fits', 'hd163466_stis_004.fits', 'hd180609_stis_001.fits', 'hd180609_stis_002.fits', 'hd180609_stis_003.fits', 'hd180609_stis_004.fits', 'hd185975_stis_001.fits', 'hd185975_stis_002.fits', 'hd185975_stis_003.fits', 'hd200654_stis_001.fits', 'hd200654_stis_002.fits', 'hd200654_stis_003.fits', 'hd205905_stis_001.fits', 'hd205905_stis_002.fits', 'hd205905_stis_003.fits', 'hd205905_stis_004.fits', 'hd37725_stis_001.fits', 'hd37725_stis_002.fits', 'hd37725_stis_003.fits', 'hd37725_stis_004.fits', 'hd37962_stis_001.fits', 'hd37962_stis_002.fits', 'hd37962_stis_003.fits', 'hd37962_stis_004.fits', 'hd38949_stis_001.fits', 'hd38949_stis_002.fits', 'hd38949_stis_003.fits', 'hd38949_stis_004.fits', 'hd60753_stis_001.fits', 'hd60753_stis_002.fits', 'hd60753_stis_003.fits', 'hd93521_stis_001.fits', 'hd93521_stis_002.fits', 'hd93521_stis_003.fits', 'hd93521_stis_004.fits']\n"
     ]
    }
   ],
   "source": [
    "print(all_hdcalspec)"
   ]
  },
  {
   "cell_type": "code",
   "execution_count": 19,
   "metadata": {},
   "outputs": [],
   "source": [
    "all_selected_calspec=FilterListOfFiles(all_hdcalspec)"
   ]
  },
  {
   "cell_type": "code",
   "execution_count": 20,
   "metadata": {},
   "outputs": [
    {
     "name": "stdout",
     "output_type": "stream",
     "text": [
      "['hd009051_stis_003.fits', 'hd031128_stis_003.fits', 'hd074000_stis_003.fits', 'hd106252_stis_004.fits', 'hd111980_stis_003.fits', 'hd116405_stis_004.fits', 'hd14943_stis_004.fits', 'hd158485_stis_004.fits', 'hd159222_stis_004.fits', 'hd160617_stis_003.fits', 'hd163466_stis_004.fits', 'hd180609_stis_004.fits', 'hd185975_stis_003.fits', 'hd200654_stis_003.fits', 'hd205905_stis_004.fits', 'hd37725_stis_004.fits', 'hd37962_stis_004.fits', 'hd38949_stis_004.fits', 'hd60753_stis_003.fits']\n"
     ]
    }
   ],
   "source": [
    "print(all_selected_calspec)"
   ]
  },
  {
   "cell_type": "code",
   "execution_count": 21,
   "metadata": {},
   "outputs": [
    {
     "name": "stdout",
     "output_type": "stream",
     "text": [
      "--NOTES--\n",
      "\n",
      "1. The parameter filtername must correspond to an existing filter. Filters include: B,V,R,I,J,K.  They are checked by SIMBAD but not astroquery.simbad\n",
      "\n",
      "2. Fields beginning with rvz display the data as it is in the database. Fields beginning with rv force the display as a radial velocity. Fields beginning with z force the display as a redshift\n",
      "\n",
      "3. For each measurement catalog, the VOTable contains all fields of the first measurement. When applicable, the first measurement is the mean one. \n",
      "\n",
      "Available VOTABLE fields:\n",
      "\n",
      "bibcodelist(y1-y2)\n",
      "biblio\n",
      "cel\n",
      "cl.g\n",
      "coo(opt)\n",
      "coo_bibcode\n",
      "coo_err_angle\n",
      "coo_err_maja\n",
      "coo_err_mina\n",
      "coo_qual\n",
      "coo_wavelength\n",
      "coordinates\n",
      "dec(opt)\n",
      "dec_prec\n",
      "diameter\n",
      "dim\n",
      "dim_angle\n",
      "dim_bibcode\n",
      "dim_incl\n",
      "dim_majaxis\n",
      "dim_minaxis\n",
      "dim_qual\n",
      "dim_wavelength\n",
      "dimensions\n",
      "distance\n",
      "distance_result\n",
      "einstein\n",
      "fe_h\n",
      "flux(filtername)\n",
      "flux_bibcode(filtername)\n",
      "flux_error(filtername)\n",
      "flux_name(filtername)\n",
      "flux_qual(filtername)\n",
      "flux_system(filtername)\n",
      "flux_unit(filtername)\n",
      "fluxdata(filtername)\n",
      "gcrv\n",
      "gen\n",
      "gj\n",
      "hbet\n",
      "hbet1\n",
      "hgam\n",
      "id(opt)\n",
      "ids\n",
      "iras\n",
      "irc\n",
      "iso\n",
      "iue\n",
      "jp11\n",
      "link_bibcode\n",
      "main_id\n",
      "measurements\n",
      "membership\n",
      "mesplx\n",
      "mespm\n",
      "mk\n",
      "morphtype\n",
      "mt\n",
      "mt_bibcode\n",
      "mt_qual\n",
      "otype\n",
      "otype(opt)\n",
      "otypes\n",
      "parallax\n",
      "plx\n",
      "plx_bibcode\n",
      "plx_error\n",
      "plx_prec\n",
      "plx_qual\n",
      "pm\n",
      "pm_bibcode\n",
      "pm_err_angle\n",
      "pm_err_maja\n",
      "pm_err_mina\n",
      "pm_qual\n",
      "pmdec\n",
      "pmdec_prec\n",
      "pmra\n",
      "pmra_prec\n",
      "pos\n",
      "posa\n",
      "propermotions\n",
      "ra(opt)\n",
      "ra_prec\n",
      "rot\n",
      "rv_value\n",
      "rvz_bibcode\n",
      "rvz_error\n",
      "rvz_qual\n",
      "rvz_radvel\n",
      "rvz_type\n",
      "rvz_wavelength\n",
      "sao\n",
      "sp\n",
      "sp_bibcode\n",
      "sp_nature\n",
      "sp_qual\n",
      "sptype\n",
      "td1\n",
      "typed_id\n",
      "ubv\n",
      "uvby\n",
      "uvby1\n",
      "v*\n",
      "velocity\n",
      "xmm\n",
      "z_value\n",
      "For more information on a field:\n",
      "Simbad.get_field_description ('field_name') \n",
      "Currently active VOTABLE fields:\n",
      " ['main_id', 'coordinates']\n"
     ]
    }
   ],
   "source": [
    "Simbad.list_votable_fields()"
   ]
  },
  {
   "cell_type": "code",
   "execution_count": 22,
   "metadata": {},
   "outputs": [],
   "source": [
    "Simbad.add_votable_fields('sptype')\n",
    "Simbad.add_votable_fields('flux(V)') # add the Vega unit Magnitude \n",
    "Simbad.add_votable_fields('flux_unit(V)')\n",
    "Simbad.add_votable_fields('flux_system(V)')\n",
    "#Simbad.add_votable_fields('ubv')  # Johnson UBV system"
   ]
  },
  {
   "cell_type": "code",
   "execution_count": 23,
   "metadata": {},
   "outputs": [
    {
     "name": "stdout",
     "output_type": "stream",
     "text": [
      "standard name of the object type\n"
     ]
    }
   ],
   "source": [
    "Simbad.get_field_description(\"otype\")"
   ]
  },
  {
   "cell_type": "code",
   "execution_count": 24,
   "metadata": {},
   "outputs": [
    {
     "name": "stdout",
     "output_type": "stream",
     "text": [
      "UBV data in Johnson's UBV system \n",
      "              compiled by J.-Cl. Mermilliod from Institut d Astronomie de Lausanne (1973A&AS...71..413M)\n"
     ]
    }
   ],
   "source": [
    "Simbad.get_field_description(\"ubv\")"
   ]
  },
  {
   "cell_type": "code",
   "execution_count": 25,
   "metadata": {},
   "outputs": [
    {
     "name": "stdout",
     "output_type": "stream",
     "text": [
      "The Strömgren uvby photometric system\n"
     ]
    }
   ],
   "source": [
    "Simbad.get_field_description(\"uvby\")"
   ]
  },
  {
   "cell_type": "code",
   "execution_count": 26,
   "metadata": {},
   "outputs": [
    {
     "name": "stdout",
     "output_type": "stream",
     "text": [
      "============== HD009051 ===========================\n",
      " MAIN_ID        RA           DEC      ... FLUX_V FLUX_UNIT_V FLUX_SYSTEM_V\n",
      "             \"h:m:s\"       \"d:m:s\"    ...  mag                            \n",
      "--------- ------------- ------------- ... ------ ----------- -------------\n",
      "HD   9051 01 28 46.5026 -24 20 25.443 ...   8.92           V          Vega\n",
      "============== HD031128 ===========================\n",
      " MAIN_ID        RA           DEC      ... FLUX_V FLUX_UNIT_V FLUX_SYSTEM_V\n",
      "             \"h:m:s\"       \"d:m:s\"    ...  mag                            \n",
      "--------- ------------- ------------- ... ------ ----------- -------------\n",
      "HD  31128 04 52 09.9097 -27 03 50.940 ...   9.14           V          Vega\n",
      "============== HD074000 ===========================\n",
      " MAIN_ID        RA           DEC      ... FLUX_V FLUX_UNIT_V FLUX_SYSTEM_V\n",
      "             \"h:m:s\"       \"d:m:s\"    ...  mag                            \n",
      "--------- ------------- ------------- ... ------ ----------- -------------\n",
      "HD  74000 08 40 50.8038 -16 20 42.513 ...   9.66           V          Vega\n",
      "============== HD106252 ===========================\n",
      " MAIN_ID        RA           DEC      ... FLUX_V FLUX_UNIT_V FLUX_SYSTEM_V\n",
      "             \"h:m:s\"       \"d:m:s\"    ...  mag                            \n",
      "--------- ------------- ------------- ... ------ ----------- -------------\n",
      "HD 106252 12 13 29.5100 +10 02 29.888 ...     --                          \n",
      "============== HD111980 ===========================\n",
      " MAIN_ID        RA           DEC      ... FLUX_V FLUX_UNIT_V FLUX_SYSTEM_V\n",
      "             \"h:m:s\"       \"d:m:s\"    ...  mag                            \n",
      "--------- ------------- ------------- ... ------ ----------- -------------\n",
      "HD 111980 12 53 15.0528 -18 31 20.009 ...   8.38           V          Vega\n",
      "============== HD116405 ===========================\n",
      " MAIN_ID        RA           DEC      ... FLUX_V FLUX_UNIT_V FLUX_SYSTEM_V\n",
      "             \"h:m:s\"       \"d:m:s\"    ...  mag                            \n",
      "--------- ------------- ------------- ... ------ ----------- -------------\n",
      "HD 116405 13 22 45.1237 +44 42 53.911 ...   8.34           V          Vega\n",
      "============== HD14943 ===========================\n",
      " MAIN_ID        RA           DEC      ... FLUX_V FLUX_UNIT_V FLUX_SYSTEM_V\n",
      "             \"h:m:s\"       \"d:m:s\"    ...  mag                            \n",
      "--------- ------------- ------------- ... ------ ----------- -------------\n",
      "HD  14943 02 22 54.6752 -51 05 31.659 ...  5.898           V          Vega\n",
      "============== HD158485 ===========================\n",
      " MAIN_ID        RA           DEC      ... FLUX_V FLUX_UNIT_V FLUX_SYSTEM_V\n",
      "             \"h:m:s\"       \"d:m:s\"    ...  mag                            \n",
      "--------- ------------- ------------- ... ------ ----------- -------------\n",
      "HD 158485 17 26 04.8370 +58 39 06.831 ...  6.494           V          Vega\n",
      "============== HD159222 ===========================\n",
      " MAIN_ID        RA           DEC      ... FLUX_V FLUX_UNIT_V FLUX_SYSTEM_V\n",
      "             \"h:m:s\"       \"d:m:s\"    ...  mag                            \n",
      "--------- ------------- ------------- ... ------ ----------- -------------\n",
      "HD 159222 17 32 00.9922 +34 16 16.130 ...     --                          \n",
      "============== HD160617 ===========================\n",
      " MAIN_ID        RA           DEC      ... FLUX_V FLUX_UNIT_V FLUX_SYSTEM_V\n",
      "             \"h:m:s\"       \"d:m:s\"    ...  mag                            \n",
      "--------- ------------- ------------- ... ------ ----------- -------------\n",
      "HD 160617 17 42 49.3235 -40 19 15.505 ...   8.73           V          Vega\n",
      "============== HD163466 ===========================\n",
      " MAIN_ID        RA           DEC      ... FLUX_V FLUX_UNIT_V FLUX_SYSTEM_V\n",
      "             \"h:m:s\"       \"d:m:s\"    ...  mag                            \n",
      "--------- ------------- ------------- ... ------ ----------- -------------\n",
      "HD 163466 17 52 25.3756 +60 23 46.940 ...   6.85           V          Vega\n",
      "============== HD180609 ===========================\n",
      " MAIN_ID        RA           DEC      ... FLUX_V FLUX_UNIT_V FLUX_SYSTEM_V\n",
      "             \"h:m:s\"       \"d:m:s\"    ...  mag                            \n",
      "--------- ------------- ------------- ... ------ ----------- -------------\n",
      "HD 180609 19 12 47.1995 +64 10 37.174 ...   9.42           V          Vega\n",
      "============== HD185975 ===========================\n",
      " MAIN_ID        RA           DEC      ... FLUX_V FLUX_UNIT_V FLUX_SYSTEM_V\n",
      "             \"h:m:s\"       \"d:m:s\"    ...  mag                            \n",
      "--------- ------------- ------------- ... ------ ----------- -------------\n",
      "HD 185975 20 28 18.7402 -87 28 19.938 ...    8.1           V          Vega\n",
      "============== HD200654 ===========================\n",
      " MAIN_ID        RA           DEC      ... FLUX_V FLUX_UNIT_V FLUX_SYSTEM_V\n",
      "             \"h:m:s\"       \"d:m:s\"    ...  mag                            \n",
      "--------- ------------- ------------- ... ------ ----------- -------------\n",
      "HD 200654 21 06 34.7513 -49 57 50.282 ...   9.11           V          Vega\n",
      "============== HD205905 ===========================\n",
      " MAIN_ID        RA           DEC      ... FLUX_V FLUX_UNIT_V FLUX_SYSTEM_V\n",
      "             \"h:m:s\"       \"d:m:s\"    ...  mag                            \n",
      "--------- ------------- ------------- ... ------ ----------- -------------\n",
      "HD 205905 21 39 10.1510 -27 18 23.666 ...   6.74           V          Vega\n",
      "============== HD37725 ===========================\n",
      " MAIN_ID        RA           DEC      ... FLUX_V FLUX_UNIT_V FLUX_SYSTEM_V\n",
      "             \"h:m:s\"       \"d:m:s\"    ...  mag                            \n",
      "--------- ------------- ------------- ... ------ ----------- -------------\n",
      "HD  37725 05 41 54.3696 +29 17 50.956 ...   8.31           V          Vega\n",
      "============== HD37962 ===========================\n",
      " MAIN_ID        RA           DEC      ... FLUX_V FLUX_UNIT_V FLUX_SYSTEM_V\n",
      "             \"h:m:s\"       \"d:m:s\"    ...  mag                            \n",
      "--------- ------------- ------------- ... ------ ----------- -------------\n",
      "HD  37962 05 40 51.9659 -31 21 03.985 ...   7.85           V          Vega\n",
      "============== HD38949 ===========================\n",
      " MAIN_ID        RA           DEC      ... FLUX_V FLUX_UNIT_V FLUX_SYSTEM_V\n",
      "             \"h:m:s\"       \"d:m:s\"    ...  mag                            \n",
      "--------- ------------- ------------- ... ------ ----------- -------------\n",
      "HD  38949 05 48 20.0588 -24 27 49.853 ...    7.8           V          Vega\n",
      "============== HD60753 ===========================\n",
      " MAIN_ID        RA           DEC      ... FLUX_V FLUX_UNIT_V FLUX_SYSTEM_V\n",
      "             \"h:m:s\"       \"d:m:s\"    ...  mag                            \n",
      "--------- ------------- ------------- ... ------ ----------- -------------\n",
      "HD  60753 07 33 27.3190 -50 35 03.311 ...   6.68           V          Vega\n"
     ]
    }
   ],
   "source": [
    "all_tables=[]\n",
    "all_objnames=[]\n",
    "all_ra=[]\n",
    "all_dec=[]\n",
    "all_sp_type=[]\n",
    "all_sp_qual=[]\n",
    "all_mag_V=[]\n",
    "\n",
    "for file in all_selected_calspec:\n",
    "    fullfilename=os.path.join(path_sed_calspec,file)\n",
    "    \n",
    "    hdu = fits.open(fullfilename)\n",
    "    img=hdu[0].data\n",
    "    hd=hdu[0].header\n",
    "    \n",
    "    OBJNAME=hd[\"TARGETID\"]\n",
    "    print(\"==============\",OBJNAME,\"===========================\")\n",
    "    \n",
    "    result_table = Simbad.query_object(OBJNAME)\n",
    "    result_table.pprint(show_unit=True, max_width=80)\n",
    "    \n",
    "    ra = coord.Angle(result_table[\"RA\"], unit=u.hour) # create an Angle object\n",
    "    dec = coord.Angle(result_table[\"DEC\"], unit=u.deg) # create an Angle object\n",
    "    skycoord=SkyCoord(ra=ra,dec=dec)[0]\n",
    "    \n",
    "    thetype=result_table[\"SP_TYPE\"][0]\n",
    "    thequal=result_table[\"SP_QUAL\"][0]\n",
    "    #mag_V_vega=result_table[\"FLUX_V_2\"][0]\n",
    "    mag_V_vega=result_table[\"FLUX_V\"][0]\n",
    "        \n",
    "    all_objnames.append(OBJNAME)\n",
    "    all_tables.append(result_table)\n",
    "    all_ra.append(skycoord.ra.degree)\n",
    "    all_dec.append(skycoord.dec.degree)\n",
    "    all_sp_type.append(thetype)\n",
    "    all_sp_qual.append(thequal)\n",
    "    all_mag_V.append(mag_V_vega)\n",
    "    "
   ]
  },
  {
   "cell_type": "code",
   "execution_count": 27,
   "metadata": {},
   "outputs": [
    {
     "data": {
      "text/html": [
       "<i>Table length=1</i>\n",
       "<table id=\"table140329478219792\" class=\"table-striped table-bordered table-condensed\">\n",
       "<thead><tr><th>MAIN_ID</th><th>RA</th><th>DEC</th><th>RA_PREC</th><th>DEC_PREC</th><th>COO_ERR_MAJA</th><th>COO_ERR_MINA</th><th>COO_ERR_ANGLE</th><th>COO_QUAL</th><th>COO_WAVELENGTH</th><th>COO_BIBCODE</th><th>SP_TYPE</th><th>SP_QUAL</th><th>SP_BIBCODE</th><th>FLUX_V</th><th>FLUX_UNIT_V</th><th>FLUX_SYSTEM_V</th></tr></thead>\n",
       "<thead><tr><th></th><th>&quot;h:m:s&quot;</th><th>&quot;d:m:s&quot;</th><th></th><th></th><th>mas</th><th>mas</th><th>deg</th><th></th><th></th><th></th><th></th><th></th><th></th><th>mag</th><th></th><th></th></tr></thead>\n",
       "<thead><tr><th>object</th><th>str13</th><th>str13</th><th>int16</th><th>int16</th><th>float32</th><th>float32</th><th>int16</th><th>str1</th><th>str1</th><th>object</th><th>object</th><th>str1</th><th>object</th><th>float32</th><th>str1</th><th>object</th></tr></thead>\n",
       "<tr><td>HD  60753</td><td>07 33 27.3190</td><td>-50 35 03.311</td><td>14</td><td>14</td><td>0.032</td><td>0.038</td><td>90</td><td>A</td><td>O</td><td>2018yCat.1345....0G</td><td>B3IV</td><td>C</td><td>1969MNRAS.144...31B</td><td>6.68</td><td>V</td><td>Vega</td></tr>\n",
       "</table>"
      ],
      "text/plain": [
       "<Table length=1>\n",
       " MAIN_ID        RA           DEC      ...  FLUX_V FLUX_UNIT_V FLUX_SYSTEM_V\n",
       "             \"h:m:s\"       \"d:m:s\"    ...   mag                            \n",
       "  object      str13         str13     ... float32     str1        object   \n",
       "--------- ------------- ------------- ... ------- ----------- -------------\n",
       "HD  60753 07 33 27.3190 -50 35 03.311 ...    6.68           V          Vega"
      ]
     },
     "execution_count": 27,
     "metadata": {},
     "output_type": "execute_result"
    }
   ],
   "source": [
    "result_table"
   ]
  },
  {
   "cell_type": "code",
   "execution_count": 28,
   "metadata": {},
   "outputs": [],
   "source": [
    "t = Table()"
   ]
  },
  {
   "cell_type": "code",
   "execution_count": 29,
   "metadata": {},
   "outputs": [],
   "source": [
    "t[\"OBJNAME\"]=all_objnames\n",
    "t[\"RA\"]=all_ra\n",
    "t[\"DEC\"]=all_dec\n",
    "t[\"SP_TYPE\"]=all_sp_type\n",
    "t[\"SP_QUAL\"]=all_sp_qual\n",
    "t[\"magV\"]=all_mag_V\n",
    "t[\"FILES\"]=all_selected_calspec\n"
   ]
  },
  {
   "cell_type": "code",
   "execution_count": 30,
   "metadata": {},
   "outputs": [
    {
     "data": {
      "text/html": [
       "<i>Table length=19</i>\n",
       "<table id=\"table140329472238672-276879\" class=\"table-striped table-bordered table-condensed\">\n",
       "<thead><tr><th>idx</th><th>OBJNAME</th><th>RA</th><th>DEC</th><th>SP_TYPE</th><th>SP_QUAL</th><th>magV</th><th>FILES</th></tr></thead>\n",
       "<tr><td>0</td><td>HD009051</td><td>22.193760833333332</td><td>-24.340400833333334</td><td>G6/8IIIwF5</td><td>D</td><td>8.920000076293945</td><td>hd009051_stis_003.fits</td></tr>\n",
       "<tr><td>1</td><td>HD031128</td><td>73.04129041666667</td><td>-27.06415</td><td>F3/5Vw</td><td>D</td><td>9.140000343322754</td><td>hd031128_stis_003.fits</td></tr>\n",
       "<tr><td>2</td><td>HD074000</td><td>130.2116825</td><td>-16.345142499999998</td><td>F2</td><td>D</td><td>9.65999984741211</td><td>hd074000_stis_003.fits</td></tr>\n",
       "<tr><td>3</td><td>HD106252</td><td>183.37295833333332</td><td>10.041635555555555</td><td>G0</td><td>E</td><td>--</td><td>hd106252_stis_004.fits</td></tr>\n",
       "<tr><td>4</td><td>HD111980</td><td>193.31271999999998</td><td>-18.522224722222223</td><td>F7V</td><td>C</td><td>8.380000114440918</td><td>hd111980_stis_003.fits</td></tr>\n",
       "<tr><td>5</td><td>HD116405</td><td>200.68801541666664</td><td>44.71497527777778</td><td>A0V</td><td>C</td><td>8.34000015258789</td><td>hd116405_stis_004.fits</td></tr>\n",
       "<tr><td>6</td><td>HD14943</td><td>35.72781333333333</td><td>-51.092127500000004</td><td>A5V</td><td>C</td><td>5.8979997634887695</td><td>hd14943_stis_004.fits</td></tr>\n",
       "<tr><td>7</td><td>HD158485</td><td>261.52015416666666</td><td>58.6518975</td><td>A4V</td><td>C</td><td>6.49399995803833</td><td>hd158485_stis_004.fits</td></tr>\n",
       "<tr><td>8</td><td>HD159222</td><td>263.00413416666663</td><td>34.27114722222222</td><td>G1V</td><td>C</td><td>--</td><td>hd159222_stis_004.fits</td></tr>\n",
       "<tr><td>9</td><td>HD160617</td><td>265.7055145833333</td><td>-40.320973611111114</td><td>G0</td><td>D</td><td>8.729999542236328</td><td>hd160617_stis_003.fits</td></tr>\n",
       "<tr><td>10</td><td>HD163466</td><td>268.10573166666666</td><td>60.39637222222222</td><td>A2</td><td>E</td><td>6.849999904632568</td><td>hd163466_stis_004.fits</td></tr>\n",
       "<tr><td>11</td><td>HD180609</td><td>288.1966645833333</td><td>64.17699277777778</td><td>A0V</td><td>C</td><td>9.420000076293945</td><td>hd180609_stis_004.fits</td></tr>\n",
       "<tr><td>12</td><td>HD185975</td><td>307.0780841666666</td><td>-87.472205</td><td>G3V</td><td>C</td><td>8.100000381469727</td><td>hd185975_stis_003.fits</td></tr>\n",
       "<tr><td>13</td><td>HD200654</td><td>316.64479708333334</td><td>-49.96396722222222</td><td>CEMP</td><td>C</td><td>9.109999656677246</td><td>hd200654_stis_003.fits</td></tr>\n",
       "<tr><td>14</td><td>HD205905</td><td>324.7922958333333</td><td>-27.306573888888888</td><td>G1.5IV-V</td><td>C</td><td>6.739999771118164</td><td>hd205905_stis_004.fits</td></tr>\n",
       "<tr><td>15</td><td>HD37725</td><td>85.47653999999999</td><td>29.29748777777778</td><td>A3V</td><td>C</td><td>8.3100004196167</td><td>hd37725_stis_004.fits</td></tr>\n",
       "<tr><td>16</td><td>HD37962</td><td>85.21652458333332</td><td>-31.351106944444446</td><td>G2V</td><td>C</td><td>7.849999904632568</td><td>hd37962_stis_004.fits</td></tr>\n",
       "<tr><td>17</td><td>HD38949</td><td>87.08357833333332</td><td>-24.463848055555555</td><td>G1V</td><td>C</td><td>7.800000190734863</td><td>hd38949_stis_004.fits</td></tr>\n",
       "<tr><td>18</td><td>HD60753</td><td>113.36382916666665</td><td>-50.58425305555556</td><td>B3IV</td><td>C</td><td>6.679999828338623</td><td>hd60753_stis_003.fits</td></tr>\n",
       "</table><style>table.dataTable {clear: both; width: auto !important; margin: 0 !important;}\n",
       ".dataTables_info, .dataTables_length, .dataTables_filter, .dataTables_paginate{\n",
       "display: inline-block; margin-right: 1em; }\n",
       ".paginate_button { margin-right: 5px; }\n",
       "</style>\n",
       "<script>\n",
       "\n",
       "var astropy_sort_num = function(a, b) {\n",
       "    var a_num = parseFloat(a);\n",
       "    var b_num = parseFloat(b);\n",
       "\n",
       "    if (isNaN(a_num) && isNaN(b_num))\n",
       "        return ((a < b) ? -1 : ((a > b) ? 1 : 0));\n",
       "    else if (!isNaN(a_num) && !isNaN(b_num))\n",
       "        return ((a_num < b_num) ? -1 : ((a_num > b_num) ? 1 : 0));\n",
       "    else\n",
       "        return isNaN(a_num) ? -1 : 1;\n",
       "}\n",
       "\n",
       "require.config({paths: {\n",
       "    datatables: 'https://cdn.datatables.net/1.10.12/js/jquery.dataTables.min'\n",
       "}});\n",
       "require([\"datatables\"], function(){\n",
       "    console.log(\"$('#table140329472238672-276879').dataTable()\");\n",
       "    \n",
       "jQuery.extend( jQuery.fn.dataTableExt.oSort, {\n",
       "    \"optionalnum-asc\": astropy_sort_num,\n",
       "    \"optionalnum-desc\": function (a,b) { return -astropy_sort_num(a, b); }\n",
       "});\n",
       "\n",
       "    $('#table140329472238672-276879').dataTable({\n",
       "        order: [],\n",
       "        pageLength: 50,\n",
       "        lengthMenu: [[10, 25, 50, 100, 500, 1000, -1], [10, 25, 50, 100, 500, 1000, 'All']],\n",
       "        pagingType: \"full_numbers\",\n",
       "        columnDefs: [{targets: [0, 2, 3, 6], type: \"optionalnum\"}]\n",
       "    });\n",
       "});\n",
       "</script>\n"
      ],
      "text/plain": [
       "<IPython.core.display.HTML object>"
      ]
     },
     "execution_count": 30,
     "metadata": {},
     "output_type": "execute_result"
    }
   ],
   "source": [
    "t.show_in_notebook()  "
   ]
  },
  {
   "cell_type": "code",
   "execution_count": 31,
   "metadata": {},
   "outputs": [],
   "source": [
    "t.write('table_summary_calspec_hd.fits', overwrite=True)  "
   ]
  },
  {
   "cell_type": "code",
   "execution_count": null,
   "metadata": {},
   "outputs": [],
   "source": []
  }
 ],
 "metadata": {
  "kernelspec": {
   "display_name": "Python 3",
   "language": "python",
   "name": "python3"
  },
  "language_info": {
   "codemirror_mode": {
    "name": "ipython",
    "version": 3
   },
   "file_extension": ".py",
   "mimetype": "text/x-python",
   "name": "python",
   "nbconvert_exporter": "python",
   "pygments_lexer": "ipython3",
   "version": "3.7.7"
  },
  "toc": {
   "base_numbering": 1,
   "nav_menu": {},
   "number_sections": true,
   "sideBar": true,
   "skip_h1_title": false,
   "title_cell": "Table of Contents",
   "title_sidebar": "Contents",
   "toc_cell": false,
   "toc_position": {},
   "toc_section_display": "block",
   "toc_window_display": false
  }
 },
 "nbformat": 4,
 "nbformat_minor": 4
}
