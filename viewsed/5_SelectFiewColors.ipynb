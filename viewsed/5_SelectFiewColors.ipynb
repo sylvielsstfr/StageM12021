{
 "cells": [
  {
   "cell_type": "markdown",
   "metadata": {},
   "source": [
    "# Select a fiew star with the color V-I\n",
    "- Author : Sylvie Dagoret-Campagne\n",
    "- Creation : April 27th 2020\n"
   ]
  },
  {
   "cell_type": "code",
   "execution_count": 31,
   "metadata": {},
   "outputs": [],
   "source": [
    "import os,sys\n",
    "import numpy as np"
   ]
  },
  {
   "cell_type": "code",
   "execution_count": 32,
   "metadata": {},
   "outputs": [],
   "source": [
    "from astropy.table import Table\n",
    "from astropy.io import fits"
   ]
  },
  {
   "cell_type": "code",
   "execution_count": 33,
   "metadata": {},
   "outputs": [],
   "source": [
    "import matplotlib as mpl\n",
    "import matplotlib.pyplot as plt\n",
    "%matplotlib inline\n",
    "\n",
    "import matplotlib.colors as colors\n",
    "import matplotlib.cm as cmx\n",
    "import matplotlib.dates as mdates\n",
    "from matplotlib import gridspec\n",
    "%matplotlib inline"
   ]
  },
  {
   "cell_type": "code",
   "execution_count": 34,
   "metadata": {},
   "outputs": [],
   "source": [
    "import pysynphot as S"
   ]
  },
  {
   "cell_type": "code",
   "execution_count": 35,
   "metadata": {},
   "outputs": [],
   "source": [
    "pysynphot_root_path=os.environ['PYSYN_CDBS']\n",
    "path_sed_calspec=os.path.join(pysynphot_root_path,'calspec')"
   ]
  },
  {
   "cell_type": "code",
   "execution_count": 36,
   "metadata": {},
   "outputs": [],
   "source": [
    "plt.rcParams[\"axes.labelsize\"]=\"large\"\n",
    "plt.rcParams[\"axes.linewidth\"]=2.0\n",
    "plt.rcParams[\"xtick.major.size\"]=8\n",
    "plt.rcParams[\"ytick.major.size\"]=8\n",
    "plt.rcParams[\"ytick.minor.size\"]=5\n",
    "plt.rcParams[\"xtick.labelsize\"]=\"large\"\n",
    "plt.rcParams[\"ytick.labelsize\"]=\"large\"\n",
    "\n",
    "plt.rcParams[\"figure.figsize\"]=(12,8)\n",
    "plt.rcParams['axes.titlesize'] = 16\n",
    "plt.rcParams['axes.titleweight'] = 'bold'\n",
    "#plt.rcParams['axes.facecolor'] = 'blue'\n",
    "plt.rcParams['xtick.direction'] = 'out'\n",
    "plt.rcParams['ytick.direction'] = 'out'\n",
    "plt.rcParams['lines.markeredgewidth'] = 0.3 # the line width around the marker symbol\n",
    "plt.rcParams['lines.markersize'] = 5  # markersize, in points\n",
    "plt.rcParams['grid.alpha'] = 0.75 # transparency, between 0.0 and 1.0\n",
    "plt.rcParams['grid.linestyle'] = '-' # simple line\n",
    "plt.rcParams['grid.linewidth'] = 0.4 # in points\n",
    "plt.rcParams['font.size'] = 13"
   ]
  },
  {
   "cell_type": "code",
   "execution_count": 37,
   "metadata": {},
   "outputs": [
    {
     "name": "stdout",
     "output_type": "stream",
     "text": [
      "1_MakeCalspecList.ipynb                all_viscalspec_relspectra_lin.png\r\n",
      "1bis_MakeHDCalspecList.ipynb           all_viscalspec_spectra_lin.pdf\r\n",
      "2_ViewCalspecSpectra.ipynb             all_viscalspec_spectra_lin_renorm.png\r\n",
      "3_ViewCalspecColors.ipynb              all_viscalspec_spectra_lin_renorm2.png\r\n",
      "4_ViewCalspecObsFlux.ipynb             all_viscalspec_spectra_log.pdf\r\n",
      "5_SelectFiewColors.ipynb               all_viscalspec_spectra_log.png\r\n",
      "README.md                              table_summary_allcalspec.fits\r\n",
      "all_viscalspec_relspectra_lin.pdf      table_summary_allcalspec_torenorm.fits\r\n"
     ]
    }
   ],
   "source": [
    "! ls"
   ]
  },
  {
   "cell_type": "markdown",
   "metadata": {},
   "source": [
    "# Read table with re-calculated magnitudes"
   ]
  },
  {
   "cell_type": "code",
   "execution_count": 38,
   "metadata": {},
   "outputs": [],
   "source": [
    "t=Table.read('table_summary_allcalspec_torenorm.fits')"
   ]
  },
  {
   "cell_type": "code",
   "execution_count": 39,
   "metadata": {},
   "outputs": [
    {
     "data": {
      "text/html": [
       "<i>Table length=47</i>\n",
       "<table id=\"table4925110480-281068\" class=\"table-striped table-bordered table-condensed\">\n",
       "<thead><tr><th>idx</th><th>OBJNAME</th><th>RA</th><th>DEC</th><th>SP_TYPE</th><th>SP_QUAL</th><th>magU</th><th>magB</th><th>magV</th><th>magR</th><th>magI</th><th>FILES</th><th>calcU</th><th>calcB</th><th>calcV</th><th>calcR</th><th>calcI</th><th>factor</th><th>VmI</th></tr></thead>\n",
       "<tr><td>0</td><td>NGC7293</td><td>337.411</td><td>-20.837</td><td>DAO.5</td><td>C</td><td>11.894</td><td>13.158</td><td>13.524</td><td>13.689</td><td>13.898</td><td>ngc7293_005.fits</td><td>11.896</td><td>13.163</td><td>13.529</td><td>13.733</td><td>14.238</td><td>25.807</td><td>-0.709</td></tr>\n",
       "<tr><td>1</td><td>FEIGE67</td><td>190.466</td><td>17.522</td><td>sdOpec</td><td>D</td><td>10.261</td><td>11.700</td><td>11.630</td><td>11.969</td><td>12.159</td><td>feige67_002.fits</td><td>10.235</td><td>11.461</td><td>11.803</td><td>11.987</td><td>12.467</td><td>5.2613</td><td>-0.664</td></tr>\n",
       "<tr><td>2</td><td>GD50</td><td>57.209</td><td>-0.976</td><td>DA1.2</td><td>C</td><td>12.596</td><td>13.787</td><td>14.063</td><td>14.210</td><td>14.388</td><td>gd50_004.fits</td><td>12.653</td><td>13.800</td><td>14.034</td><td>14.217</td><td>14.678</td><td>41.093</td><td>-0.643</td></tr>\n",
       "<tr><td>3</td><td>FEIGE66</td><td>189.348</td><td>25.067</td><td>sdB1(k)</td><td>C</td><td>9.117</td><td>10.260</td><td>10.590</td><td>10.642</td><td>10.809</td><td>feige66_002.fits</td><td>9.102</td><td>10.208</td><td>10.479</td><td>10.642</td><td>11.100</td><td>1.5539</td><td>-0.622</td></tr>\n",
       "<tr><td>4</td><td>GD108</td><td>150.197</td><td>-7.559</td><td>sdB</td><td>D</td><td>12.406</td><td>13.349</td><td>13.563</td><td>13.662</td><td>13.781</td><td>gd108_005.fits</td><td>12.391</td><td>13.331</td><td>13.549</td><td>13.658</td><td>14.077</td><td>26.281</td><td>-0.528</td></tr>\n",
       "<tr><td>5</td><td>G93-48</td><td>328.106</td><td>2.389</td><td>DA2.8</td><td>C</td><td>11.942</td><td>12.732</td><td>12.743</td><td>12.839</td><td>12.938</td><td>g93_48_004.fits</td><td>11.961</td><td>12.701</td><td>12.720</td><td>12.836</td><td>13.238</td><td>12.244</td><td>-0.519</td></tr>\n",
       "<tr><td>6</td><td>HZ2</td><td>63.181</td><td>11.864</td><td>DA2.3</td><td>C</td><td>12.903</td><td>13.787</td><td>13.877</td><td>13.984</td><td>14.094</td><td>hz2_005.fits</td><td>12.922</td><td>13.776</td><td>13.841</td><td>13.948</td><td>14.343</td><td>34.379</td><td>-0.503</td></tr>\n",
       "<tr><td>7</td><td>HZ44</td><td>200.897</td><td>36.133</td><td>sdBN0VIIHe28</td><td>B</td><td>10.186</td><td>11.420</td><td>11.650</td><td>12.000</td><td>11.995</td><td>hz44_stis_004.fits</td><td>10.191</td><td>11.372</td><td>11.644</td><td>11.825</td><td>12.114</td><td>4.5475</td><td>-0.470</td></tr>\n",
       "<tr><td>8</td><td>HZ21</td><td>183.484</td><td>32.942</td><td>DO1</td><td>C</td><td>13.125</td><td>14.361</td><td>14.688</td><td>14.837</td><td>15.038</td><td>hz21_stis_004.fits</td><td>13.113</td><td>14.339</td><td>14.669</td><td>14.848</td><td>15.136</td><td>73.723</td><td>-0.467</td></tr>\n",
       "<tr><td>9</td><td>HZ43</td><td>199.091</td><td>29.099</td><td>DAwk+M3.5Ve</td><td>D</td><td>100000000000000000000.000</td><td>12.520</td><td>12.660</td><td>100000000000000000000.000</td><td>100000000000000000000.000</td><td>hz43_stis_004.fits</td><td>11.413</td><td>12.605</td><td>12.896</td><td>13.080</td><td>13.356</td><td>14.402</td><td>-0.460</td></tr>\n",
       "<tr><td>10</td><td>G191B2B</td><td>76.378</td><td>52.831</td><td>DA.8</td><td>C</td><td>10.250</td><td>11.440</td><td>11.690</td><td>11.930</td><td>12.108</td><td>g191b2b_stisnic_006.fits</td><td>10.241</td><td>11.452</td><td>11.761</td><td>11.951</td><td>12.199</td><td>5.0637</td><td>-0.438</td></tr>\n",
       "<tr><td>11</td><td>LB227</td><td>62.370</td><td>17.132</td><td>DA3.2</td><td>C</td><td>14.660</td><td>15.378</td><td>15.323</td><td>15.408</td><td>15.515</td><td>lb227_004.fits</td><td>14.641</td><td>15.350</td><td>15.288</td><td>15.370</td><td>15.720</td><td>130.34</td><td>-0.432</td></tr>\n",
       "<tr><td>12</td><td>GD153</td><td>194.260</td><td>22.031</td><td>DA1.2</td><td>C</td><td>11.883</td><td>13.060</td><td>13.349</td><td>13.488</td><td>13.669</td><td>gd153_stisnic_006.fits</td><td>11.911</td><td>13.069</td><td>13.332</td><td>13.514</td><td>13.752</td><td>21.51</td><td>-0.420</td></tr>\n",
       "<tr><td>13</td><td>FEIGE110</td><td>349.993</td><td>-5.166</td><td>sdO8VIIIHe5</td><td>B</td><td>10.360</td><td>11.450</td><td>11.500</td><td>11.970</td><td>12.145</td><td>feige110_stisnic_006.fits</td><td>10.347</td><td>11.517</td><td>11.809</td><td>11.990</td><td>12.226</td><td>5.2895</td><td>-0.417</td></tr>\n",
       "<tr><td>14</td><td>WD1057+719</td><td>165.143</td><td>71.634</td><td>DA1.2</td><td>C</td><td>100000000000000000000.000</td><td>14.950</td><td>14.680</td><td>15.230</td><td>100000000000000000000.000</td><td>wd1057_719_stisnic_006.fits</td><td>13.286</td><td>14.452</td><td>14.704</td><td>14.784</td><td>15.111</td><td>76.163</td><td>-0.406</td></tr>\n",
       "<tr><td>15</td><td>GD71</td><td>88.115</td><td>15.887</td><td>DA1.5</td><td>C</td><td>11.675</td><td>12.783</td><td>13.032</td><td>13.169</td><td>13.337</td><td>gd71_stisnic_006.fits</td><td>11.668</td><td>12.783</td><td>13.013</td><td>13.189</td><td>13.418</td><td>16.037</td><td>-0.405</td></tr>\n",
       "<tr><td>16</td><td>FEIGE34</td><td>159.903</td><td>43.103</td><td>sdOp</td><td>D</td><td>9.613</td><td>10.910</td><td>11.140</td><td>11.319</td><td>11.464</td><td>feige34_stis_004.fits</td><td>9.588</td><td>10.818</td><td>11.159</td><td>11.324</td><td>11.551</td><td>2.9079</td><td>-0.392</td></tr>\n",
       "<tr><td>17</td><td>HD93521</td><td>162.098</td><td>37.570</td><td>O9.5IIInn</td><td>C</td><td>5.670</td><td>6.790</td><td>7.030</td><td>100000000000000000000.000</td><td>100000000000000000000.000</td><td>hd93521_stis_004.fits</td><td>5.642</td><td>6.709</td><td>6.975</td><td>7.117</td><td>7.352</td><td>0.061661</td><td>-0.377</td></tr>\n",
       "<tr><td>18</td><td>WD0308-565</td><td>47.450</td><td>-56.397</td><td>DB</td><td>D</td><td>100000000000000000000.000</td><td>13.990</td><td>14.140</td><td>14.420</td><td>100000000000000000000.000</td><td>wd0308_565_stis_004.fits</td><td>13.007</td><td>13.998</td><td>14.093</td><td>14.213</td><td>14.440</td><td>43.382</td><td>-0.347</td></tr>\n",
       "<tr><td>19</td><td>10LAC</td><td>339.815</td><td>39.050</td><td>O9V</td><td>C</td><td>3.650</td><td>4.670</td><td>4.880</td><td>4.980</td><td>5.190</td><td>10lac_stis_004.fits</td><td>3.601</td><td>4.644</td><td>4.846</td><td>4.956</td><td>5.120</td><td>0.0086766</td><td>-0.274</td></tr>\n",
       "<tr><td>20</td><td>HZ4</td><td>58.842</td><td>9.788</td><td>DA3.4</td><td>C</td><td>13.917</td><td>14.592</td><td>14.506</td><td>14.580</td><td>14.642</td><td>hz4_stis_005.fits</td><td>13.940</td><td>14.577</td><td>14.465</td><td>14.569</td><td>14.727</td><td>61.07</td><td>-0.262</td></tr>\n",
       "<tr><td>21</td><td>LTT9491</td><td>349.897</td><td>-17.091</td><td>DB3</td><td>C</td><td>13.279</td><td>14.132</td><td>14.111</td><td>14.070</td><td>14.049</td><td>ltt9491_002.fits</td><td>13.278</td><td>14.098</td><td>14.064</td><td>13.999</td><td>14.289</td><td>42.229</td><td>-0.225</td></tr>\n",
       "<tr><td>22</td><td>HD60753</td><td>113.364</td><td>-50.584</td><td>B3IV</td><td>C</td><td>6.020</td><td>6.587</td><td>6.680</td><td>100000000000000000000.000</td><td>100000000000000000000.000</td><td>hd60753_stis_003.fits</td><td>5.971</td><td>6.574</td><td>6.657</td><td>6.675</td><td>6.759</td><td>0.046011</td><td>-0.102</td></tr>\n",
       "<tr><td>23</td><td>LDS749B</td><td>323.068</td><td>0.254</td><td>DB4</td><td>C</td><td>13.717</td><td>14.634</td><td>14.674</td><td>14.675</td><td>14.676</td><td>lds749b_stisnic_006.fits</td><td>13.705</td><td>14.620</td><td>14.659</td><td>14.661</td><td>14.740</td><td>73.037</td><td>-0.081</td></tr>\n",
       "<tr><td>24</td><td>HD116405</td><td>200.688</td><td>44.715</td><td>A0V</td><td>C</td><td>100000000000000000000.000</td><td>8.270</td><td>8.340</td><td>100000000000000000000.000</td><td>100000000000000000000.000</td><td>hd116405_stis_004.fits</td><td>8.045</td><td>8.234</td><td>8.297</td><td>8.333</td><td>8.370</td><td>0.20836</td><td>-0.073</td></tr>\n",
       "<tr><td>25</td><td>SIRIUS</td><td>101.287</td><td>-16.716</td><td>A1V+DA</td><td>C</td><td>-1.510</td><td>-1.460</td><td>-1.460</td><td>-1.460</td><td>-1.430</td><td>sirius_stis_002.fits</td><td>-1.541</td><td>-1.487</td><td>-1.472</td><td>-1.455</td><td>-1.433</td><td>2.5771e-05</td><td>-0.039</td></tr>\n",
       "<tr><td>26</td><td>ALPHA_LYR</td><td>279.235</td><td>38.784</td><td>A0Va</td><td>C</td><td>0.030</td><td>0.030</td><td>0.030</td><td>0.070</td><td>0.100</td><td>alpha_lyr_stis_008.fits</td><td>0.000</td><td>0.000</td><td>0.000</td><td>0.000</td><td>0.000</td><td>0.0001</td><td>0.000</td></tr>\n",
       "<tr><td>27</td><td>HD165459</td><td>270.628</td><td>58.627</td><td>A1V</td><td>C</td><td>100000000000000000000.000</td><td>6.980</td><td>6.860</td><td>100000000000000000000.000</td><td>6.700</td><td>hd165459_stisnic_004.fits</td><td>7.038</td><td>6.963</td><td>6.831</td><td>6.756</td><td>6.706</td><td>0.054005</td><td>0.125</td></tr>\n",
       "<tr><td>28</td><td>HD180609</td><td>288.197</td><td>64.177</td><td>A0V</td><td>C</td><td>100000000000000000000.000</td><td>9.570</td><td>9.420</td><td>100000000000000000000.000</td><td>100000000000000000000.000</td><td>hd180609_stis_004.fits</td><td>9.612</td><td>9.525</td><td>9.405</td><td>9.327</td><td>9.256</td><td>0.57827</td><td>0.149</td></tr>\n",
       "<tr><td>29</td><td>HD158485</td><td>261.520</td><td>58.652</td><td>A4V</td><td>C</td><td>100000000000000000000.000</td><td>6.616</td><td>6.494</td><td>100000000000000000000.000</td><td>100000000000000000000.000</td><td>hd158485_stis_004.fits</td><td>6.684</td><td>6.605</td><td>6.465</td><td>6.374</td><td>6.300</td><td>0.038537</td><td>0.165</td></tr>\n",
       "<tr><td>30</td><td>HD37725</td><td>85.477</td><td>29.297</td><td>A3V</td><td>C</td><td>100000000000000000000.000</td><td>8.120</td><td>8.310</td><td>100000000000000000000.000</td><td>100000000000000000000.000</td><td>hd37725_stis_004.fits</td><td>8.548</td><td>8.475</td><td>8.298</td><td>8.184</td><td>8.101</td><td>0.20848</td><td>0.197</td></tr>\n",
       "<tr><td>31</td><td>HD14943</td><td>35.728</td><td>-51.092</td><td>A5V</td><td>C</td><td>100000000000000000000.000</td><td>6.101</td><td>5.898</td><td>100000000000000000000.000</td><td>100000000000000000000.000</td><td>hd14943_stis_004.fits</td><td>6.171</td><td>6.074</td><td>5.878</td><td>5.751</td><td>5.664</td><td>0.022457</td><td>0.214</td></tr>\n",
       "<tr><td>32</td><td>HD163466</td><td>268.106</td><td>60.396</td><td>A2</td><td>D</td><td>100000000000000000000.000</td><td>7.040</td><td>6.850</td><td>100000000000000000000.000</td><td>100000000000000000000.000</td><td>hd163466_stis_004.fits</td><td>7.139</td><td>7.019</td><td>6.831</td><td>6.694</td><td>6.593</td><td>0.053984</td><td>0.238</td></tr>\n",
       "<tr><td>33</td><td>HD074000</td><td>130.212</td><td>-16.345</td><td>F2</td><td>D</td><td>9.840</td><td>10.090</td><td>9.660</td><td>100000000000000000000.000</td><td>100000000000000000000.000</td><td>hd074000_stis_003.fits</td><td>9.831</td><td>10.048</td><td>9.636</td><td>9.268</td><td>8.991</td><td>0.71544</td><td>0.646</td></tr>\n",
       "<tr><td>34</td><td>HD209458</td><td>330.795</td><td>18.884</td><td>F9V</td><td>C</td><td>100000000000000000000.000</td><td>8.210</td><td>7.630</td><td>100000000000000000000.000</td><td>100000000000000000000.000</td><td>hd209458_stisnic_007.fits</td><td>8.220</td><td>8.175</td><td>7.623</td><td>7.223</td><td>6.953</td><td>0.11195</td><td>0.670</td></tr>\n",
       "<tr><td>35</td><td>HD38949</td><td>87.084</td><td>-24.464</td><td>G1V</td><td>C</td><td>100000000000000000000.000</td><td>8.370</td><td>7.800</td><td>100000000000000000000.000</td><td>100000000000000000000.000</td><td>hd38949_stis_004.fits</td><td>8.359</td><td>8.337</td><td>7.769</td><td>7.352</td><td>7.070</td><td>0.12817</td><td>0.699</td></tr>\n",
       "<tr><td>36</td><td>HD160617</td><td>265.706</td><td>-40.321</td><td>G0</td><td>D</td><td>100000000000000000000.000</td><td>9.180</td><td>8.730</td><td>8.394</td><td>8.065</td><td>hd160617_stis_003.fits</td><td>8.994</td><td>9.159</td><td>8.704</td><td>8.302</td><td>8.003</td><td>0.30304</td><td>0.701</td></tr>\n",
       "<tr><td>37</td><td>HD031128</td><td>73.041</td><td>-27.064</td><td>F3/5Vw</td><td>D</td><td>100000000000000000000.000</td><td>9.550</td><td>9.140</td><td>100000000000000000000.000</td><td>100000000000000000000.000</td><td>hd031128_stis_003.fits</td><td>9.394</td><td>9.589</td><td>9.109</td><td>8.702</td><td>8.401</td><td>0.43999</td><td>0.708</td></tr>\n",
       "<tr><td>38</td><td>HD205905</td><td>324.792</td><td>-27.307</td><td>G1.5IV-V</td><td>C</td><td>100000000000000000000.000</td><td>7.360</td><td>6.740</td><td>100000000000000000000.000</td><td>100000000000000000000.000</td><td>hd205905_stis_004.fits</td><td>7.476</td><td>7.337</td><td>6.716</td><td>6.277</td><td>5.980</td><td>0.048554</td><td>0.735</td></tr>\n",
       "<tr><td>39</td><td>HD106252</td><td>183.373</td><td>10.042</td><td>G0</td><td>E</td><td>100000000000000000000.000</td><td>8.000</td><td>100000000000000000000.000</td><td>7.000</td><td>100000000000000000000.000</td><td>hd106252_stis_004.fits</td><td>8.096</td><td>8.003</td><td>7.394</td><td>6.957</td><td>6.657</td><td>0.090739</td><td>0.738</td></tr>\n",
       "<tr><td>40</td><td>HD159222</td><td>263.004</td><td>34.271</td><td>G1V</td><td>C</td><td>7.380</td><td>7.210</td><td>100000000000000000000.000</td><td>6.100</td><td>100000000000000000000.000</td><td>hd159222_stis_004.fits</td><td>7.315</td><td>7.138</td><td>6.499</td><td>6.052</td><td>5.751</td><td>0.03976</td><td>0.747</td></tr>\n",
       "<tr><td>41</td><td>HD111980</td><td>193.313</td><td>-18.522</td><td>F7V</td><td>C</td><td>8.800</td><td>8.910</td><td>8.380</td><td>100000000000000000000.000</td><td>100000000000000000000.000</td><td>hd111980_stis_003.fits</td><td>8.773</td><td>8.875</td><td>8.350</td><td>7.920</td><td>7.602</td><td>0.21872</td><td>0.748</td></tr>\n",
       "<tr><td>42</td><td>HD37962</td><td>85.217</td><td>-31.351</td><td>G2V</td><td>C</td><td>100000000000000000000.000</td><td>8.500</td><td>7.850</td><td>100000000000000000000.000</td><td>100000000000000000000.000</td><td>hd37962_stis_004.fits</td><td>8.561</td><td>8.458</td><td>7.818</td><td>7.360</td><td>7.038</td><td>0.13404</td><td>0.780</td></tr>\n",
       "<tr><td>43</td><td>HD185975</td><td>307.078</td><td>-87.472</td><td>G3V</td><td>C</td><td>100000000000000000000.000</td><td>8.780</td><td>8.100</td><td>100000000000000000000.000</td><td>100000000000000000000.000</td><td>hd185975_stis_003.fits</td><td>8.992</td><td>8.759</td><td>8.077</td><td>7.599</td><td>7.272</td><td>0.17007</td><td>0.804</td></tr>\n",
       "<tr><td>44</td><td>HD200654</td><td>316.645</td><td>-49.964</td><td>(G)w</td><td>E</td><td>100000000000000000000.000</td><td>9.740</td><td>9.110</td><td>100000000000000000000.000</td><td>100000000000000000000.000</td><td>hd200654_stis_003.fits</td><td>9.583</td><td>9.679</td><td>9.071</td><td>8.541</td><td>8.129</td><td>0.42486</td><td>0.941</td></tr>\n",
       "<tr><td>45</td><td>FLAT</td><td>0.000</td><td>0.000</td><td>flat</td><td>0</td><td>9.709</td><td>10.361</td><td>10.000</td><td>9.509</td><td>9.014</td><td>flat</td><td>9.709</td><td>10.361</td><td>10.000</td><td>9.509</td><td>9.014</td><td>1</td><td>0.986</td></tr>\n",
       "<tr><td>46</td><td>HD009051</td><td>22.194</td><td>-24.340</td><td>G6/8IIIwF5</td><td>D</td><td>100000000000000000000.000</td><td>9.730</td><td>8.920</td><td>100000000000000000000.000</td><td>100000000000000000000.000</td><td>hd009051_stis_003.fits</td><td>9.978</td><td>9.727</td><td>8.914</td><td>8.300</td><td>7.833</td><td>0.36776</td><td>1.081</td></tr>\n",
       "</table><style>table.dataTable {clear: both; width: auto !important; margin: 0 !important;}\n",
       ".dataTables_info, .dataTables_length, .dataTables_filter, .dataTables_paginate{\n",
       "display: inline-block; margin-right: 1em; }\n",
       ".paginate_button { margin-right: 5px; }\n",
       "</style>\n",
       "<script>\n",
       "\n",
       "var astropy_sort_num = function(a, b) {\n",
       "    var a_num = parseFloat(a);\n",
       "    var b_num = parseFloat(b);\n",
       "\n",
       "    if (isNaN(a_num) && isNaN(b_num))\n",
       "        return ((a < b) ? -1 : ((a > b) ? 1 : 0));\n",
       "    else if (!isNaN(a_num) && !isNaN(b_num))\n",
       "        return ((a_num < b_num) ? -1 : ((a_num > b_num) ? 1 : 0));\n",
       "    else\n",
       "        return isNaN(a_num) ? -1 : 1;\n",
       "}\n",
       "\n",
       "require.config({paths: {\n",
       "    datatables: 'https://cdn.datatables.net/1.10.12/js/jquery.dataTables.min'\n",
       "}});\n",
       "require([\"datatables\"], function(){\n",
       "    console.log(\"$('#table4925110480-281068').dataTable()\");\n",
       "    \n",
       "jQuery.extend( jQuery.fn.dataTableExt.oSort, {\n",
       "    \"optionalnum-asc\": astropy_sort_num,\n",
       "    \"optionalnum-desc\": function (a,b) { return -astropy_sort_num(a, b); }\n",
       "});\n",
       "\n",
       "    $('#table4925110480-281068').dataTable({\n",
       "        order: [],\n",
       "        pageLength: 50,\n",
       "        lengthMenu: [[10, 25, 50, 100, 500, 1000, -1], [10, 25, 50, 100, 500, 1000, 'All']],\n",
       "        pagingType: \"full_numbers\",\n",
       "        columnDefs: [{targets: [0, 2, 3, 6, 7, 8, 9, 10, 12, 13, 14, 15, 16, 17, 18], type: \"optionalnum\"}]\n",
       "    });\n",
       "});\n",
       "</script>\n"
      ],
      "text/plain": [
       "<IPython.core.display.HTML object>"
      ]
     },
     "execution_count": 39,
     "metadata": {},
     "output_type": "execute_result"
    }
   ],
   "source": [
    "t.show_in_notebook()"
   ]
  },
  {
   "cell_type": "markdown",
   "metadata": {},
   "source": [
    "# Show the color V-I"
   ]
  },
  {
   "cell_type": "code",
   "execution_count": 40,
   "metadata": {},
   "outputs": [
    {
     "data": {
      "text/plain": [
       "Text(0, 0.5, 'color V - I')"
      ]
     },
     "execution_count": 40,
     "metadata": {},
     "output_type": "execute_result"
    },
    {
     "data": {
      "image/png": "[encoded data removed]",
      "text/plain": [
       "<Figure size 864x576 with 1 Axes>"
      ]
     },
     "metadata": {
      "needs_background": "light"
     },
     "output_type": "display_data"
    }
   ],
   "source": [
    "plt.plot(t[\"VmI\"],\"b-\")\n",
    "plt.grid()\n",
    "plt.title(\"V - I color\")\n",
    "plt.xlabel(\"file number\")\n",
    "plt.ylabel(\"color V - I\")"
   ]
  },
  {
   "cell_type": "markdown",
   "metadata": {},
   "source": [
    "# Select a few stars with target colors"
   ]
  },
  {
   "cell_type": "code",
   "execution_count": 41,
   "metadata": {},
   "outputs": [],
   "source": [
    "all_colors=t[\"VmI\"]"
   ]
  },
  {
   "cell_type": "code",
   "execution_count": 42,
   "metadata": {},
   "outputs": [],
   "source": [
    "def find_nearest(a, a0):\n",
    "    \"Element in nd array `a` closest to the scalar value `a0`\"\n",
    "    idx = np.abs(a - a0).argmin()\n",
    "    return a.flat[idx],int(idx)"
   ]
  },
  {
   "cell_type": "code",
   "execution_count": 43,
   "metadata": {},
   "outputs": [],
   "source": [
    "# list of target colors\n",
    "target_VmI=np.array([-0.75,-0.5,-0.25,0,0.25,0.5,0.75,1])\n",
    "NBVmItarget=len(target_VmI)"
   ]
  },
  {
   "cell_type": "code",
   "execution_count": 44,
   "metadata": {},
   "outputs": [],
   "source": [
    "filesselected_index=np.zeros(NBVmItarget)\n",
    "filesselected_VmI=np.zeros(NBVmItarget)"
   ]
  },
  {
   "cell_type": "code",
   "execution_count": 45,
   "metadata": {},
   "outputs": [
    {
     "name": "stdout",
     "output_type": "stream",
     "text": [
      "-0.7091116334565228 0\n",
      "-0.5027230111133143 6\n",
      "-0.26223308245042176 20\n",
      "0.0 26\n",
      "0.23810310766206388 32\n",
      "0.6455625390076491 33\n",
      "0.7480985189423031 41\n",
      "0.9862277306899365 45\n"
     ]
    }
   ],
   "source": [
    "idx=0\n",
    "for vmi in target_VmI:\n",
    "    thevmi,theidx=find_nearest(all_colors,vmi)\n",
    "    print(thevmi,theidx)\n",
    "    filesselected_index[idx]=int(theidx)\n",
    "    filesselected_VmI[idx]=thevmi\n",
    "    idx+=1  "
   ]
  },
  {
   "cell_type": "code",
   "execution_count": 46,
   "metadata": {},
   "outputs": [
    {
     "data": {
      "text/plain": [
       "array([ 0.,  6., 20., 26., 32., 33., 41., 45.])"
      ]
     },
     "execution_count": 46,
     "metadata": {},
     "output_type": "execute_result"
    }
   ],
   "source": [
    "filesselected_index"
   ]
  },
  {
   "cell_type": "code",
   "execution_count": 47,
   "metadata": {},
   "outputs": [
    {
     "data": {
      "text/plain": [
       "array([-0.70911163, -0.50272301, -0.26223308,  0.        ,  0.23810311,\n",
       "        0.64556254,  0.74809852,  0.98622773])"
      ]
     },
     "execution_count": 47,
     "metadata": {},
     "output_type": "execute_result"
    }
   ],
   "source": [
    "filesselected_VmI"
   ]
  },
  {
   "cell_type": "code",
   "execution_count": 48,
   "metadata": {},
   "outputs": [],
   "source": [
    "t_selected=Table(t[0])\n",
    "for idx in filesselected_index[1:]:\n",
    "    t_selected.add_row(t[int(idx)])"
   ]
  },
  {
   "cell_type": "code",
   "execution_count": 49,
   "metadata": {},
   "outputs": [
    {
     "data": {
      "text/html": [
       "<i>Table length=8</i>\n",
       "<table id=\"table4925612240-901257\" class=\"table-striped table-bordered table-condensed\">\n",
       "<thead><tr><th>idx</th><th>OBJNAME</th><th>RA</th><th>DEC</th><th>SP_TYPE</th><th>SP_QUAL</th><th>magU</th><th>magB</th><th>magV</th><th>magR</th><th>magI</th><th>FILES</th><th>calcU</th><th>calcB</th><th>calcV</th><th>calcR</th><th>calcI</th><th>factor</th><th>VmI</th></tr></thead>\n",
       "<tr><td>0</td><td>NGC7293</td><td>337.411</td><td>-20.837</td><td>DAO.5</td><td>C</td><td>11.894</td><td>13.158</td><td>13.524</td><td>13.689</td><td>13.898</td><td>ngc7293_005.fits</td><td>11.896</td><td>13.163</td><td>13.529</td><td>13.733</td><td>14.238</td><td>25.807</td><td>-0.709</td></tr>\n",
       "<tr><td>1</td><td>HZ2</td><td>63.181</td><td>11.864</td><td>DA2.3</td><td>C</td><td>12.903</td><td>13.787</td><td>13.877</td><td>13.984</td><td>14.094</td><td>hz2_005.fits</td><td>12.922</td><td>13.776</td><td>13.841</td><td>13.948</td><td>14.343</td><td>34.379</td><td>-0.503</td></tr>\n",
       "<tr><td>2</td><td>HZ4</td><td>58.842</td><td>9.788</td><td>DA3.4</td><td>C</td><td>13.917</td><td>14.592</td><td>14.506</td><td>14.580</td><td>14.642</td><td>hz4_stis_005.fits</td><td>13.940</td><td>14.577</td><td>14.465</td><td>14.569</td><td>14.727</td><td>61.07</td><td>-0.262</td></tr>\n",
       "<tr><td>3</td><td>ALPHA_LYR</td><td>279.235</td><td>38.784</td><td>A0Va</td><td>C</td><td>0.030</td><td>0.030</td><td>0.030</td><td>0.070</td><td>0.100</td><td>alpha_lyr_stis_008.fits</td><td>0.000</td><td>0.000</td><td>0.000</td><td>0.000</td><td>0.000</td><td>0.0001</td><td>0.000</td></tr>\n",
       "<tr><td>4</td><td>HD163466</td><td>268.106</td><td>60.396</td><td>A2</td><td>D</td><td>100000000000000000000.000</td><td>7.040</td><td>6.850</td><td>100000000000000000000.000</td><td>100000000000000000000.000</td><td>hd163466_stis_004.fits</td><td>7.139</td><td>7.019</td><td>6.831</td><td>6.694</td><td>6.593</td><td>0.053984</td><td>0.238</td></tr>\n",
       "<tr><td>5</td><td>HD074000</td><td>130.212</td><td>-16.345</td><td>F2</td><td>D</td><td>9.840</td><td>10.090</td><td>9.660</td><td>100000000000000000000.000</td><td>100000000000000000000.000</td><td>hd074000_stis_003.fits</td><td>9.831</td><td>10.048</td><td>9.636</td><td>9.268</td><td>8.991</td><td>0.71544</td><td>0.646</td></tr>\n",
       "<tr><td>6</td><td>HD111980</td><td>193.313</td><td>-18.522</td><td>F7V</td><td>C</td><td>8.800</td><td>8.910</td><td>8.380</td><td>100000000000000000000.000</td><td>100000000000000000000.000</td><td>hd111980_stis_003.fits</td><td>8.773</td><td>8.875</td><td>8.350</td><td>7.920</td><td>7.602</td><td>0.21872</td><td>0.748</td></tr>\n",
       "<tr><td>7</td><td>FLAT</td><td>0.000</td><td>0.000</td><td>flat</td><td>0</td><td>9.709</td><td>10.361</td><td>10.000</td><td>9.509</td><td>9.014</td><td>flat</td><td>9.709</td><td>10.361</td><td>10.000</td><td>9.509</td><td>9.014</td><td>1</td><td>0.986</td></tr>\n",
       "</table><style>table.dataTable {clear: both; width: auto !important; margin: 0 !important;}\n",
       ".dataTables_info, .dataTables_length, .dataTables_filter, .dataTables_paginate{\n",
       "display: inline-block; margin-right: 1em; }\n",
       ".paginate_button { margin-right: 5px; }\n",
       "</style>\n",
       "<script>\n",
       "\n",
       "var astropy_sort_num = function(a, b) {\n",
       "    var a_num = parseFloat(a);\n",
       "    var b_num = parseFloat(b);\n",
       "\n",
       "    if (isNaN(a_num) && isNaN(b_num))\n",
       "        return ((a < b) ? -1 : ((a > b) ? 1 : 0));\n",
       "    else if (!isNaN(a_num) && !isNaN(b_num))\n",
       "        return ((a_num < b_num) ? -1 : ((a_num > b_num) ? 1 : 0));\n",
       "    else\n",
       "        return isNaN(a_num) ? -1 : 1;\n",
       "}\n",
       "\n",
       "require.config({paths: {\n",
       "    datatables: 'https://cdn.datatables.net/1.10.12/js/jquery.dataTables.min'\n",
       "}});\n",
       "require([\"datatables\"], function(){\n",
       "    console.log(\"$('#table4925612240-901257').dataTable()\");\n",
       "    \n",
       "jQuery.extend( jQuery.fn.dataTableExt.oSort, {\n",
       "    \"optionalnum-asc\": astropy_sort_num,\n",
       "    \"optionalnum-desc\": function (a,b) { return -astropy_sort_num(a, b); }\n",
       "});\n",
       "\n",
       "    $('#table4925612240-901257').dataTable({\n",
       "        order: [],\n",
       "        pageLength: 50,\n",
       "        lengthMenu: [[10, 25, 50, 100, 500, 1000, -1], [10, 25, 50, 100, 500, 1000, 'All']],\n",
       "        pagingType: \"full_numbers\",\n",
       "        columnDefs: [{targets: [0, 2, 3, 6, 7, 8, 9, 10, 12, 13, 14, 15, 16, 17, 18], type: \"optionalnum\"}]\n",
       "    });\n",
       "});\n",
       "</script>\n"
      ],
      "text/plain": [
       "<IPython.core.display.HTML object>"
      ]
     },
     "execution_count": 49,
     "metadata": {},
     "output_type": "execute_result"
    }
   ],
   "source": [
    "t_selected.show_in_notebook()"
   ]
  },
  {
   "cell_type": "markdown",
   "metadata": {},
   "source": [
    "# Save selected stars sample"
   ]
  },
  {
   "cell_type": "code",
   "execution_count": 51,
   "metadata": {},
   "outputs": [],
   "source": [
    "t_selected.write('table_summary_selectedcalspec.fits', overwrite=True)  "
   ]
  },
  {
   "cell_type": "code",
   "execution_count": null,
   "metadata": {},
   "outputs": [],
   "source": []
  }
 ],
 "metadata": {
  "kernelspec": {
   "display_name": "Python 3",
   "language": "python",
   "name": "python3"
  },
  "language_info": {
   "codemirror_mode": {
    "name": "ipython",
    "version": 3
   },
   "file_extension": ".py",
   "mimetype": "text/x-python",
   "name": "python",
   "nbconvert_exporter": "python",
   "pygments_lexer": "ipython3",
   "version": "3.7.7"
  },
  "toc": {
   "nav_menu": {},
   "number_sections": true,
   "sideBar": true,
   "skip_h1_title": false,
   "toc_cell": false,
   "toc_position": {},
   "toc_section_display": "block",
   "toc_window_display": false
  }
 },
 "nbformat": 4,
 "nbformat_minor": 4
}
