{
 "cells": [
  {
   "cell_type": "code",
   "execution_count": 1,
   "metadata": {},
   "outputs": [],
   "source": [
    "from astropy import constants as const\n",
    "from scipy.stats import stats\n",
    "import scipy.integrate as integrate\n",
    "from scipy.stats import norm\n",
    "from scipy import interpolate\n",
    "from astropy.io import fits\n",
    "from iminuit import Minuit\n",
    "from scipy.optimize import curve_fit\n",
    "from iminuit.cost import LeastSquares\n",
    "import numpy as np\n",
    "import pysynphot as S\n",
    "import pandas as pd\n",
    "import os\n",
    "import matplotlib.pyplot as plt\n",
    "%matplotlib inline\n",
    "\n",
    "plt.rcParams[\"figure.figsize\"] = (12,6)\n",
    "plt.rcParams[\"axes.labelsize\"] = 'xx-large'\n",
    "plt.rcParams['axes.titlesize'] = 'xx-large'\n",
    "plt.rcParams['xtick.labelsize']= 'xx-large'\n",
    "plt.rcParams['ytick.labelsize']= 'xx-large'"
   ]
  },
  {
   "cell_type": "code",
   "execution_count": 2,
   "metadata": {},
   "outputs": [
    {
     "name": "stdout",
     "output_type": "stream",
     "text": [
      "graphtable: D:\\PYSYN_CDBS\\grp\\redcat\\trds\\mtab\\4cm1612bm_tmg.fits\n",
      " comptable: D:\\PYSYN_CDBS\\grp\\redcat\\trds\\mtab\\5182153pm_tmc.fits\n",
      "thermtable: D:\\PYSYN_CDBS\\grp\\redcat\\trds\\mtab\\3241637sm_tmt.fits\n",
      "      area: 324015.4546769212\n",
      "   waveset: Min: 3000.0, Max: 11000.0, Num: None, Delta: 1.0, Log: False\n"
     ]
    }
   ],
   "source": [
    "NBBANDS=6\n",
    "band_to_number={'u':0,'g':1,'r':2,'i':3,'z':4,'y4':5}\n",
    "band_to_number_2={'u':0,'g':1,'r':2,'i':3,'z':4,'y':5}\n",
    "number_to_band={0:'u',1:'g',2:'r',3:'i',4:'z',5:'y4'}\n",
    "filtercolor=['blue','green','red','orange','grey','black']\n",
    "NBCOLORS=NBBANDS-1\n",
    "number_to_color={0:'U-G',1:'G-R',2:'R-I',3:'I-Z',4:'Z-Y'}\n",
    "color_to_number={'U-G':0,'G-R':1,'R-I':2,'I-Z':3,'Z-Y':4}\n",
    "mpl_colors_col=['b','g','r','y','k']\n",
    "\n",
    "WLMIN=3000. # Minimum wavelength : PySynPhot works with Angstrom\n",
    "WLMAX=11000. # Minimum wavelength : PySynPhot works with Angstrom\n",
    "\n",
    "NBINS=int(WLMAX-WLMIN) # Number of bins between WLMIN and WLMAX\n",
    "BinWidth=(WLMAX-WLMIN)/float(NBINS) # Bin width in Angstrom\n",
    "WL=np.linspace(WLMIN,WLMAX,NBINS)   # Array of wavelength in Angstrom\n",
    "\n",
    "# LSST collectif surface\n",
    "Deff=642.3 # effective radius in cm\n",
    "Seff = np.pi*Deff**2/4  # in cm2\n",
    "S.refs.setref(area=Seff, waveset=None) # set by default to 6.4230 m2\n",
    "S.refs.set_default_waveset(minwave=WLMIN, maxwave=WLMAX, num=NBINS, delta=BinWidth, log=False)\n",
    "S.refs.showref()\n",
    "\n",
    "EXPOSURE=30.0    "
   ]
  },
  {
   "cell_type": "markdown",
   "metadata": {},
   "source": [
    "# Cadence LMC baseline v1"
   ]
  },
  {
   "cell_type": "code",
   "execution_count": 3,
   "metadata": {
    "scrolled": false
   },
   "outputs": [],
   "source": [
    "df = pd.read_csv(\"Downloads\\Cadences dobservation des nuages de Magellan/cadence_lmc_baseline2018a.csv\", index_col=0)\n"
   ]
  },
  {
   "cell_type": "markdown",
   "metadata": {},
   "source": [
    "# t0 distribution"
   ]
  },
  {
   "cell_type": "code",
   "execution_count": 5,
   "metadata": {},
   "outputs": [
    {
     "data": {
      "text/plain": [
       "Text(0.5, 1.0, 'Distribution des $t_0$')"
      ]
     },
     "execution_count": 5,
     "metadata": {},
     "output_type": "execute_result"
    },
    {
     "data": {
      "image/png": "[encoded data removed]",
      "text/plain": [
       "<Figure size 864x432 with 1 Axes>"
      ]
     },
     "metadata": {
      "needs_background": "light"
     },
     "output_type": "display_data"
    }
   ],
   "source": [
    "from scipy.stats import uniform\n",
    "\n",
    "NYEARS = 10\n",
    "NDAYS = NYEARS*365.25\n",
    "\n",
    "xmin = 0\n",
    "xmax = NDAYS\n",
    "N=10000 # le nombre de simulation peut être artibrairement tres grand. Ce qui compte c'est de calculer l'efficacité de detection de la courbe de lumière\n",
    "list_t0 = uniform.rvs(xmin,xmax,N) + df['observationStartMJD'][0]\n",
    "\n",
    "plt.hist(list_t0,bins=int(NDAYS));\n",
    "plt.xlabel(\"$t_0$ (jours)\")\n",
    "plt.title(\"Distribution des $t_0$\")"
   ]
  },
  {
   "cell_type": "markdown",
   "metadata": {},
   "source": [
    "# u0 distribution"
   ]
  },
  {
   "cell_type": "code",
   "execution_count": 6,
   "metadata": {
    "scrolled": true
   },
   "outputs": [
    {
     "data": {
      "text/plain": [
       "Text(0.5, 1.0, 'Densité de probabilité de $u_{min}$')"
      ]
     },
     "execution_count": 6,
     "metadata": {},
     "output_type": "execute_result"
    },
    {
     "data": {
      "image/png": "[encoded data removed]",
      "text/plain": [
       "<Figure size 864x432 with 1 Axes>"
      ]
     },
     "metadata": {
      "needs_background": "light"
     },
     "output_type": "display_data"
    }
   ],
   "source": [
    "N = 1000\n",
    "uminmin = 0\n",
    "uminmax = 2\n",
    "umin = uniform.rvs(uminmin,uminmax,N)\n",
    "\n",
    "plt.hist(umin,bins=100)\n",
    "plt.xlabel(\"$u_{min}$\")\n",
    "plt.ylabel(\"$p(u_{min})$\")\n",
    "plt.title(\"Densité de probabilité de $u_{min}$\")"
   ]
  },
  {
   "cell_type": "markdown",
   "metadata": {},
   "source": [
    "# Relative angular source-lens separation u(t)"
   ]
  },
  {
   "cell_type": "markdown",
   "metadata": {},
   "source": [
    "$$ \n",
    "   u(t) = \\sqrt{u_{0}^2 + (\\frac{t-t_0}{t_E})^2)}\n",
    "$$\n",
    "\n",
    "\n"
   ]
  },
  {
   "cell_type": "code",
   "execution_count": 7,
   "metadata": {},
   "outputs": [],
   "source": [
    "def u(t):\n",
    "    return np.sqrt(u0**2+ ((t-t0)/tE)**2)"
   ]
  },
  {
   "cell_type": "markdown",
   "metadata": {},
   "source": [
    "# Amplitude as a function of u(t)"
   ]
  },
  {
   "cell_type": "markdown",
   "metadata": {},
   "source": [
    "$$\n",
    "    A(u) = \\frac{u^2 + 2}{u\\sqrt{u^2 + 4}}\n",
    "$$"
   ]
  },
  {
   "cell_type": "code",
   "execution_count": 8,
   "metadata": {},
   "outputs": [],
   "source": [
    "def A(u):\n",
    "    return (u**2+2)/u/np.sqrt(u**2+4)"
   ]
  },
  {
   "cell_type": "markdown",
   "metadata": {},
   "source": [
    "# Amplitude as a function of u0, t0, tE"
   ]
  },
  {
   "cell_type": "markdown",
   "metadata": {},
   "source": [
    "$$\n",
    "    A(t, u_0, t_0, t_E) = \\frac{u_{0}^2 + (\\frac{t-t_0}{t_E})^2) + 2}{\\sqrt{u_{0}^2 + (\\frac{t-t_0}{t_E})^2)} \\sqrt{u_{0}^2 + (\\frac{t-t_0}{t_E})^2) + 4}}\n",
    "$$"
   ]
  },
  {
   "cell_type": "code",
   "execution_count": 9,
   "metadata": {},
   "outputs": [],
   "source": [
    "def Ab(t, u0, t0, tE) :\n",
    "    return ((np.sqrt(u0**2+ ((t-t0)/tE)**2))**2+2)/(np.sqrt(u0**2+ ((t-t0)/tE)**2))/np.sqrt((np.sqrt(u0**2+ ((t-t0)/tE)**2))**2+4) "
   ]
  },
  {
   "cell_type": "markdown",
   "metadata": {},
   "source": [
    "# Gaussian"
   ]
  },
  {
   "cell_type": "markdown",
   "metadata": {},
   "source": [
    "$$\n",
    "    y = \\frac{A}{\\sigma \\sqrt{2\\pi}} e^{\\frac{-(x - \\mu)^2}{2\\sigma^2}}\n",
    "$$"
   ]
  },
  {
   "cell_type": "code",
   "execution_count": 10,
   "metadata": {},
   "outputs": [],
   "source": [
    "#Gaussian fit\n",
    "\n",
    "def Gauss(x, A, mu ,sigma) :\n",
    "    return A*np.exp(-(x-mu)**2/(2*sigma**2))/sigma/np.sqrt(2*np.pi)"
   ]
  },
  {
   "cell_type": "markdown",
   "metadata": {},
   "source": [
    "# Linear "
   ]
  },
  {
   "cell_type": "markdown",
   "metadata": {},
   "source": [
    "$$\n",
    "    y = \\alpha x + \\beta\n",
    "$$\n"
   ]
  },
  {
   "cell_type": "code",
   "execution_count": 11,
   "metadata": {},
   "outputs": [],
   "source": [
    "#Linear fit\n",
    "\n",
    "def linear(x, alpha, beta) : \n",
    "    return alpha*x + beta"
   ]
  },
  {
   "cell_type": "markdown",
   "metadata": {},
   "source": [
    "# Plotting the light curve and Microlensing fit"
   ]
  },
  {
   "cell_type": "code",
   "execution_count": 12,
   "metadata": {
    "scrolled": false
   },
   "outputs": [
    {
     "name": "stdout",
     "output_type": "stream",
     "text": [
      "t0 = 59933.90916666624\n",
      "tE = 200\n",
      "u0 = 0.19050173272661586\n"
     ]
    },
    {
     "data": {
      "text/plain": [
       "(58933.90916666624, 60933.90916666624)"
      ]
     },
     "execution_count": 12,
     "metadata": {},
     "output_type": "execute_result"
    },
    {
     "data": {
      "image/png": "[encoded data removed]",
      "text/plain": [
       "<Figure size 864x432 with 1 Axes>"
      ]
     },
     "metadata": {
      "needs_background": "light"
     },
     "output_type": "display_data"
    }
   ],
   "source": [
    "#Randomize parameters\n",
    "\n",
    "from random import *\n",
    "\n",
    "u0 = umin[randrange(len(umin))]\n",
    "t0 = list_t0[randrange(len(list_t0))] \n",
    "\n",
    "#tE distribution or value\n",
    "\n",
    "tE = 20\n",
    "\n",
    "#Time t \n",
    "\n",
    "tmin=t0-5.*tE\n",
    "tmax=t0+5.*tE\n",
    "ti=np.linspace(tmin,tmax,100)\n",
    "\n",
    "\n",
    "print(\"t0 = {}\".format(t0)) #Display values\n",
    "print(\"tE = {}\".format(tE))\n",
    "print(\"u0 = {}\".format(u0))\n",
    "\n",
    "\n",
    "\n",
    "#We distinguish data points by filter\n",
    "\n",
    "df_event_u = df[(df[\"filter\"] == \"u\") & (df[\"observationStartMJD\"] >= tmin) & (df[\"observationStartMJD\"] <= tmax)] \n",
    "df_event_g = df[(df[\"filter\"] == \"g\") & (df[\"observationStartMJD\"] >= tmin) & (df[\"observationStartMJD\"] <= tmax)] \n",
    "df_event_r = df[(df[\"filter\"] == \"r\") & (df[\"observationStartMJD\"] >= tmin) & (df[\"observationStartMJD\"] <= tmax)] \n",
    "df_event_i = df[(df[\"filter\"] == \"i\") & (df[\"observationStartMJD\"] >= tmin) & (df[\"observationStartMJD\"] <= tmax)]  \n",
    "df_event_z = df[(df[\"filter\"] == \"z\") & (df[\"observationStartMJD\"] >= tmin) & (df[\"observationStartMJD\"] <= tmax)]  \n",
    "df_event_y = df[(df[\"filter\"] == \"y\") & (df[\"observationStartMJD\"] >= tmin) & (df[\"observationStartMJD\"] <= tmax)] \n",
    "df_event = df[(df[\"observationStartMJD\"] >= tmin) & (df[\"observationStartMJD\"] <= tmax)] \n",
    "\n",
    "df_event_times = df_event[\"observationStartMJD\"].values\n",
    "df_event_times_u = df_event_u[\"observationStartMJD\"].values \n",
    "df_event_times_g = df_event_g[\"observationStartMJD\"].values\n",
    "df_event_times_r = df_event_r[\"observationStartMJD\"].values\n",
    "df_event_times_i = df_event_i[\"observationStartMJD\"].values\n",
    "df_event_times_z = df_event_z[\"observationStartMJD\"].values\n",
    "df_event_times_y = df_event_y[\"observationStartMJD\"].values\n",
    "\n",
    "\n",
    "#Plot\n",
    "\n",
    "plt.plot(ti,A(u(ti)),\"-.\",label=\"underlying ML event\")\n",
    "#plt.scatter(df_event_times,A(u(df_event_times)),marker=\"o\",s=20,color = \"b\",label=\"u\")\n",
    "#plt.scatter(df_event_u_times,A(u(df_event_u_times)),marker=\"o\",s=20,color = \"b\",label=\"u\")\n",
    "#plt.scatter(df_event_g_times,A(u(df_event_g_times)),marker=\"o\",s=20,color = \"g\",label=\"g\")\n",
    "#plt.scatter(df_event_r_times,A(u(df_event_r_times)),marker=\"o\",s=20,color = \"r\",label=\"r\")\n",
    "#plt.scatter(df_event_i_times,A(u(df_event_i_times)),marker=\"o\",s=20,color =\"blueviolet\",label=\"i\")\n",
    "#plt.scatter(df_event_z_times,A(u(df_event_z_times)),marker=\"o\",s=20,color =\"grey\",label=\"z\")\n",
    "#plt.scatter(df_event_y_times,A(u(df_event_y_times)),marker=\"o\",s=20,color=\"k\",label=\"y\")\n",
    "\n",
    "# Microlensing fit with iMinuit\n",
    "\n",
    "x = df_event_times       \n",
    "x_u = df_event_times_u\n",
    "x_g = df_event_times_g\n",
    "x_r = df_event_times_r\n",
    "x_i = df_event_times_i\n",
    "x_z = df_event_times_z\n",
    "x_y = df_event_times_y\n",
    "\n",
    "y_data = A(u(df_event_times))\n",
    "\n",
    "y_noise = 0.01\n",
    "\n",
    "y = y_data + y_noise * np.random.randn(len(x))\n",
    "y_u = A(u(df_event_times_u)) + y_noise * np.random.randn(len(x_u))\n",
    "y_g = A(u(df_event_times_g)) + y_noise * np.random.randn(len(x_g))\n",
    "y_r = A(u(df_event_times_r)) + y_noise * np.random.randn(len(x_r))\n",
    "y_i = A(u(df_event_times_i)) + y_noise * np.random.randn(len(x_i)) \n",
    "y_z = A(u(df_event_times_z)) + y_noise * np.random.randn(len(x_z))\n",
    "y_y = A(u(df_event_times_y)) + y_noise * np.random.randn(len(x_y))\n",
    "\n",
    "\n",
    "plt.errorbar(x_u, y_u, y_noise, fmt=\"o\", label=\"u\", color = \"b\")  #Show data points with their respective photometric error\n",
    "plt.errorbar(x_g, y_g, y_noise, fmt=\"o\", label=\"g\", color = \"g\")  #Color depends on the filter\n",
    "plt.errorbar(x_r, y_r, y_noise, fmt=\"o\", label=\"r\", color = \"r\")\n",
    "plt.errorbar(x_i, y_i, y_noise, fmt=\"o\", label=\"i\", color = \"blueviolet\")\n",
    "plt.errorbar(x_z, y_z, y_noise, fmt=\"o\", label=\"z\", color =\"grey\")\n",
    "plt.errorbar(x_y, y_y, y_noise, fmt=\"o\", label=\"y\", color =\"k\")\n",
    "\n",
    "least_squares = LeastSquares(x, y, y_noise, Ab)        # Fit using the least squares method\n",
    "m = Minuit(least_squares, u0 = u0, t0 = t0, tE = tE)  #starting values for our parameters\n",
    "\n",
    "\n",
    "m.migrad() # finds minimum of least_squares function\n",
    "m.hesse()  # accurately computes uncertainties\n",
    "\n",
    "plt.plot(ti, Ab(ti, *m.values), label=\"microlensing fit\") \n",
    "\n",
    "\n",
    "#Plot legend etc\n",
    "\n",
    "fit_info = [\n",
    "    f\"$\\\\chi^2_\\\\mathrm{{ml}}$ / $n_\\\\mathrm{{dof_\\\\mathrm{{ml}}}}$ = {m.fval:.1f} / {len(x) - m.nfit}\",    #Display fit info  \n",
    "]\n",
    "for p, v, e in zip(m.parameters, m.values, m.errors):\n",
    "    fit_info.append(f\"{p} = ${v:.3f} \\\\pm {e:.3f}$\")\n",
    "\n",
    "plt.xlabel(\"day of observation (MJD)\")\n",
    "plt.ylabel(\"$A(t)$\")\n",
    "plt.title(\"Example of simulation of a micro-lensing event $t_E = 20$ days\")\n",
    "plt.legend(title=\"\\n\".join(fit_info))\n",
    "plt.xlim(tmin,tmax)"
   ]
  },
  {
   "cell_type": "markdown",
   "metadata": {},
   "source": [
    "# Linear fit"
   ]
  },
  {
   "cell_type": "code",
   "execution_count": 13,
   "metadata": {
    "scrolled": false
   },
   "outputs": [
    {
     "data": {
      "text/plain": [
       "(58933.90916666624, 60933.90916666624)"
      ]
     },
     "execution_count": 13,
     "metadata": {},
     "output_type": "execute_result"
    },
    {
     "data": {
      "image/png": "[encoded data removed]",
      "text/plain": [
       "<Figure size 864x432 with 1 Axes>"
      ]
     },
     "metadata": {
      "needs_background": "light"
     },
     "output_type": "display_data"
    }
   ],
   "source": [
    "least_squares_line = LeastSquares(x, y, y_noise, linear) #linear least squares\n",
    "m_line = Minuit(least_squares_line, alpha=1, beta=1)  \n",
    "\n",
    "m_line.migrad() # finds minimum of least_squares function\n",
    "m_line.hesse()  # accurately computes uncertainties\n",
    "\n",
    "plt.errorbar(x_u, y_u, y_noise, fmt=\"o\", label=\"u\", color = \"b\")  #Show data points with their respective photometric error\n",
    "plt.errorbar(x_g, y_g, y_noise, fmt=\"o\", label=\"g\", color = \"g\")  #Color depends on the filter\n",
    "plt.errorbar(x_r, y_r, y_noise, fmt=\"o\", label=\"r\", color = \"r\")\n",
    "plt.errorbar(x_i, y_i, y_noise, fmt=\"o\", label=\"i\", color = \"blueviolet\")\n",
    "plt.errorbar(x_z, y_z, y_noise, fmt=\"o\", label=\"z\", color =\"grey\")\n",
    "plt.errorbar(x_y, y_y, y_noise, fmt=\"o\", label=\"y\", color =\"k\")\n",
    "plt.plot(ti, linear(ti, *m_line.values), label=\"fit\")\n",
    "plt.plot(ti,A(u(ti)),\"-.\",label=\"underlying ML event\")\n",
    "\n",
    "\n",
    "fit_info = [\n",
    "    f\"$\\\\chi^2_l$ / $n_\\\\mathrm{{dof_l}}$ = {m_line.fval:.1f} / {len(x) - m_line.nfit}\",     #Display fit info\n",
    "]\n",
    "plt.xlabel(\"day of observation (MJD)\")\n",
    "plt.ylabel(\"$A(t)$\")\n",
    "plt.title(\"Example of simulation of a micro-lensing event $t_E = 20$ days\")\n",
    "plt.legend(title=\"\\n\".join(fit_info))\n",
    "plt.xlim(tmin,tmax)"
   ]
  },
  {
   "cell_type": "code",
   "execution_count": 14,
   "metadata": {},
   "outputs": [
    {
     "data": {
      "text/plain": [
       "62396.75543543629"
      ]
     },
     "execution_count": 14,
     "metadata": {},
     "output_type": "execute_result"
    }
   ],
   "source": [
    "(m_line.fval - m.fval)/np.sqrt(2*(len(x)- m.nfit)) "
   ]
  },
  {
   "cell_type": "markdown",
   "metadata": {},
   "source": [
    "# Test error "
   ]
  },
  {
   "cell_type": "code",
   "execution_count": 15,
   "metadata": {},
   "outputs": [],
   "source": [
    "\n",
    "m = 20\n",
    "xerr = []\n",
    "sigma_sys = 0.003\n",
    "error_photo = []\n",
    "\n",
    "\n",
    "for i in range (len(df)) :\n",
    "    \n",
    "    xerr.append( 10**(0.4*(m - df[\"fiveSigmaDepth\"][i])))\n",
    "    \n",
    "    if (df[\"filter\"][i] == \"u\") :\n",
    "        \n",
    "        error_photo.append( np.sqrt(sigma_sys**2 + (0.04 - 0.037) * xerr[i] + 0.037 * xerr[i]**2))  \n",
    "   \n",
    "    elif (df[\"filter\"][i] == \"g\") :\n",
    "        \n",
    "        error_photo.append( np.sqrt(sigma_sys**2 + (0.04 - 0.038) * xerr[i] + 0.038 * xerr[i]**2))  \n",
    "        \n",
    "    elif (df[\"filter\"][i] == \"r\") :\n",
    "        \n",
    "        error_photo.append( np.sqrt(sigma_sys**2 + (0.04 - 0.039) * xerr[i] + 0.039 * xerr[i]**2))  \n",
    "        \n",
    "    elif (df[\"filter\"][i] == \"i\") :\n",
    "        \n",
    "        error_photo.append( np.sqrt(sigma_sys**2 + (0.04 - 0.039) * xerr[i] + 0.039 * xerr[i]**2))      \n",
    "           \n",
    "    elif (df[\"filter\"][i] == \"z\") :\n",
    "        \n",
    "        error_photo.append( np.sqrt(sigma_sys**2 + (0.04 - 0.040) * xerr[i] + 0.040 * xerr[i]**2))     \n",
    "        \n",
    "    elif (df[\"filter\"][i] == \"y\") :\n",
    "        \n",
    "        error_photo.append( np.sqrt(sigma_sys**2 + (0.04 - 0.040) * xerr[i] + 0.040 * xerr[i]**2))\n",
    "        \n"
   ]
  },
  {
   "cell_type": "markdown",
   "metadata": {},
   "source": [
    "# Photo error as a function of magnitude"
   ]
  },
  {
   "cell_type": "code",
   "execution_count": 16,
   "metadata": {},
   "outputs": [
    {
     "data": {
      "text/plain": [
       "Text(0.5, 1.0, 'Photometric error as a function of magnitude')"
      ]
     },
     "execution_count": 16,
     "metadata": {},
     "output_type": "execute_result"
    },
    {
     "data": {
      "image/png": "[encoded data removed]",
      "text/plain": [
       "<Figure size 864x432 with 1 Axes>"
      ]
     },
     "metadata": {
      "needs_background": "light"
     },
     "output_type": "display_data"
    }
   ],
   "source": [
    "mag = np.linspace(20,24,100)\n",
    "sigma = []\n",
    "\n",
    "for i in range (len(mag)) :\n",
    "    \n",
    "    sigma.append(np.sqrt(sigma_sys**2 + (0.04 - 0.037) * 10**(0.4*(mag[i] - 20)) + 0.037 * 10**(0.4*(mag[i] - 20))**2))\n",
    "\n",
    "    \n",
    "plt.plot(mag,sigma)\n",
    "plt.xlabel(\"Magnitude\")\n",
    "plt.ylabel(\"sigma\")\n",
    "plt.title(\"Photometric error as a function of magnitude\")\n",
    "#plt.text(x = 21, y = 3, s = \"Low magnitude/Bright source means high photometric error\", fontsize = 15, color = 'r')"
   ]
  },
  {
   "cell_type": "markdown",
   "metadata": {},
   "source": [
    "# Background noise"
   ]
  },
  {
   "cell_type": "markdown",
   "metadata": {},
   "source": [
    "$$\n",
    "    F_b = F_{ab}10^{-0.4m_b} \\times \\pi \\theta_{seeing}^2 \n",
    "$$"
   ]
  },
  {
   "cell_type": "markdown",
   "metadata": {},
   "source": [
    "$$\n",
    "     F_{ab} = 3631 Jy = 3631\\times10^{-23} erg.s^{-1}.Hz^{-1}.cm^{-2} = 3631\\times10^{-26} W.Hz^{-1}.m^{-2}\n",
    "$$"
   ]
  },
  {
   "cell_type": "markdown",
   "metadata": {},
   "source": [
    "$$\n",
    "    N_{pe}^b = \\frac{\\pi D^2 \\Delta T}{4h}F_b \\int_{}^{} T^{syst}_b(\\lambda) \\,\\frac{d\\lambda}{\\lambda} \n",
    "$$"
   ]
  },
  {
   "cell_type": "code",
   "execution_count": 17,
   "metadata": {},
   "outputs": [],
   "source": [
    "df_LSST = pd.read_csv(\"D:\\\\Projet de recherche\\Stage\\lsst_throughput.csv\", index_col=0)"
   ]
  },
  {
   "cell_type": "code",
   "execution_count": 18,
   "metadata": {},
   "outputs": [],
   "source": [
    "LSST_u = S.ArrayBandpass(df_LSST[\"wl\"].values*10, df_LSST[\"u\"].values, name = \"u\")\n",
    "LSST_g = S.ArrayBandpass(df_LSST[\"wl\"].values*10, df_LSST[\"g\"].values, name = \"g\")\n",
    "LSST_r = S.ArrayBandpass(df_LSST[\"wl\"].values*10, df_LSST[\"r\"].values, name = \"r\")\n",
    "LSST_i = S.ArrayBandpass(df_LSST[\"wl\"].values*10, df_LSST[\"i\"].values, name = \"i\")\n",
    "LSST_z = S.ArrayBandpass(df_LSST[\"wl\"].values*10, df_LSST[\"z\"].values, name = \"z\")\n",
    "LSST_y = S.ArrayBandpass(df_LSST[\"wl\"].values*10, df_LSST[\"y\"].values, name = \"y\")\n",
    "\n",
    "Wave = df_LSST[\"wl\"]*10\n",
    "Wavelength = np.array(Wave)"
   ]
  },
  {
   "cell_type": "code",
   "execution_count": 19,
   "metadata": {},
   "outputs": [],
   "source": [
    "D = Deff\n",
    "Delta_T = EXPOSURE\n",
    "F_ab = 3631*pow(10,-23)"
   ]
  },
  {
   "cell_type": "code",
   "execution_count": 20,
   "metadata": {},
   "outputs": [],
   "source": [
    "F_b = []\n",
    "\n",
    "for i in range (len(df[\"observationId\"])) :\n",
    "    \n",
    "    F_b.append(F_ab * pow(10,-0.4*df[\"skyBrightness\"][i]) * np.pi * pow(df[\"seeingFwhmEff\"][i],2))"
   ]
  },
  {
   "cell_type": "code",
   "execution_count": 21,
   "metadata": {},
   "outputs": [],
   "source": [
    "N_pe = []\n",
    "\n",
    "for i in range (len(F_b)) :\n",
    "    \n",
    "    if (df['filter'][i] == 'u') :\n",
    "            \n",
    "            N_pe.append(np.pi*D**2*Delta_T*F_b[i]/(4*S.units.H)*integrate.trapz(LSST_u.throughput/Wavelength))\n",
    "    \n",
    "    if (df['filter'][i] == 'g') :\n",
    "            \n",
    "            N_pe.append(np.pi*D**2*Delta_T*F_b[i]/(4*S.units.H)*integrate.trapz(LSST_g.throughput/Wavelength))\n",
    "            \n",
    "    if (df['filter'][i] == 'r') :\n",
    "            \n",
    "            N_pe.append(np.pi*D**2*Delta_T*F_b[i]/(4*S.units.H)*integrate.trapz(LSST_r.throughput/Wavelength))\n",
    "            \n",
    "    if (df['filter'][i] == 'i') :\n",
    "            \n",
    "            N_pe.append(np.pi*D**2*Delta_T*F_b[i]/(4*S.units.H)*integrate.trapz(LSST_i.throughput/Wavelength))\n",
    "            \n",
    "    if (df['filter'][i] == 'z') :\n",
    "            \n",
    "            N_pe.append(np.pi*D**2*Delta_T*F_b[i]/(4*S.units.H)*integrate.trapz(LSST_z.throughput/Wavelength))\n",
    "            \n",
    "    if (df['filter'][i] == 'y') :\n",
    "            \n",
    "            N_pe.append(np.pi*D**2*Delta_T*F_b[i]/(4*S.units.H)*integrate.trapz(LSST_y.throughput/Wavelength))\n"
   ]
  },
  {
   "cell_type": "code",
   "execution_count": 22,
   "metadata": {},
   "outputs": [
    {
     "data": {
      "text/plain": [
       "<matplotlib.collections.PathCollection at 0x20b5e911c10>"
      ]
     },
     "execution_count": 22,
     "metadata": {},
     "output_type": "execute_result"
    },
    {
     "data": {
      "image/png": "[encoded data removed]",
      "text/plain": [
       "<Figure size 864x432 with 1 Axes>"
      ]
     },
     "metadata": {
      "needs_background": "light"
     },
     "output_type": "display_data"
    }
   ],
   "source": [
    "plt.scatter(df['observationStartMJD'], F_b)\n",
    "#plt.xlim([63320,63330])"
   ]
  },
  {
   "cell_type": "code",
   "execution_count": 23,
   "metadata": {},
   "outputs": [],
   "source": [
    "#import scipy.integrate as integrate\n",
    "#a = 0\n",
    "\n",
    "#for i in range (len(LSST_u.throughput)) :\n",
    "    \n",
    "    #a = integrate.quad(lambda Wavelength: LSST_u.throughput[i]/Wavelength, 3000, 12000)\n",
    "    \n",
    "#a"
   ]
  },
  {
   "cell_type": "code",
   "execution_count": 24,
   "metadata": {},
   "outputs": [
    {
     "data": {
      "text/plain": [
       "0.006519157490141833"
      ]
     },
     "execution_count": 24,
     "metadata": {},
     "output_type": "execute_result"
    }
   ],
   "source": [
    "integrate.trapz(LSST_u.throughput/Wavelength)"
   ]
  },
  {
   "cell_type": "code",
   "execution_count": 25,
   "metadata": {},
   "outputs": [
    {
     "data": {
      "text/plain": [
       "0.006519276406808502"
      ]
     },
     "execution_count": 25,
     "metadata": {},
     "output_type": "execute_result"
    }
   ],
   "source": [
    "a = 0\n",
    "\n",
    "for i in range (len(LSST_u.throughput)) :\n",
    "    \n",
    "    a = a + LSST_u.throughput[i]/Wavelength[i]\n",
    "    \n",
    "a"
   ]
  },
  {
   "cell_type": "code",
   "execution_count": 26,
   "metadata": {},
   "outputs": [],
   "source": [
    "agk_81d266 = os.path.join(os.environ['PYSYN_CDBS'], 'calspec', 'agk_81d266_stisnic_007.fits')\n",
    "\n",
    "agk_81d266_spec = S.FileSpectrum(agk_81d266).renorm(20, 'abmag', S.ObsBandpass('johnson,v'))\n",
    "\n",
    "agk_81d266_spec.convert('count')"
   ]
  },
  {
   "cell_type": "code",
   "execution_count": 27,
   "metadata": {},
   "outputs": [
    {
     "data": {
      "text/plain": [
       "(0.0, 6000.0)"
      ]
     },
     "execution_count": 27,
     "metadata": {},
     "output_type": "execute_result"
    },
    {
     "data": {
      "image/png": "[encoded data removed]",
      "text/plain": [
       "<Figure size 864x432 with 1 Axes>"
      ]
     },
     "metadata": {
      "needs_background": "light"
     },
     "output_type": "display_data"
    }
   ],
   "source": [
    "plt.plot(agk_81d266_spec.wave, agk_81d266_spec.flux)\n",
    "plt.xlim([0,6000])"
   ]
  },
  {
   "cell_type": "markdown",
   "metadata": {},
   "source": [
    "# Atmospheric throughput for every observation"
   ]
  },
  {
   "cell_type": "code",
   "execution_count": 28,
   "metadata": {},
   "outputs": [
    {
     "data": {
      "text/plain": [
       "0.86480181472"
      ]
     },
     "execution_count": 28,
     "metadata": {},
     "output_type": "execute_result"
    }
   ],
   "source": [
    "import transmission as t\n",
    "\n",
    "t.atmo(4959,1.2584)"
   ]
  },
  {
   "cell_type": "code",
   "execution_count": 29,
   "metadata": {},
   "outputs": [
    {
     "data": {
      "text/html": [
       "<div>\n",
       "<style scoped>\n",
       "    .dataframe tbody tr th:only-of-type {\n",
       "        vertical-align: middle;\n",
       "    }\n",
       "\n",
       "    .dataframe tbody tr th {\n",
       "        vertical-align: top;\n",
       "    }\n",
       "\n",
       "    .dataframe thead th {\n",
       "        text-align: right;\n",
       "    }\n",
       "</style>\n",
       "<table border=\"1\" class=\"dataframe\">\n",
       "  <thead>\n",
       "    <tr style=\"text-align: right;\">\n",
       "      <th></th>\n",
       "      <th>1</th>\n",
       "      <th>2</th>\n",
       "      <th>3</th>\n",
       "      <th>4</th>\n",
       "      <th>5</th>\n",
       "      <th>6</th>\n",
       "      <th>7</th>\n",
       "      <th>8</th>\n",
       "      <th>9</th>\n",
       "      <th>10</th>\n",
       "      <th>...</th>\n",
       "      <th>749</th>\n",
       "      <th>750</th>\n",
       "      <th>751</th>\n",
       "      <th>752</th>\n",
       "      <th>753</th>\n",
       "      <th>754</th>\n",
       "      <th>755</th>\n",
       "      <th>756</th>\n",
       "      <th>757</th>\n",
       "      <th>758</th>\n",
       "    </tr>\n",
       "  </thead>\n",
       "  <tbody>\n",
       "    <tr>\n",
       "      <th>3000</th>\n",
       "      <td>0.009610</td>\n",
       "      <td>0.005305</td>\n",
       "      <td>0.006943</td>\n",
       "      <td>0.008378</td>\n",
       "      <td>0.009575</td>\n",
       "      <td>0.008064</td>\n",
       "      <td>0.009507</td>\n",
       "      <td>0.008187</td>\n",
       "      <td>0.005705</td>\n",
       "      <td>0.006884</td>\n",
       "      <td>...</td>\n",
       "      <td>0.003436</td>\n",
       "      <td>0.001133</td>\n",
       "      <td>0.001360</td>\n",
       "      <td>0.005023</td>\n",
       "      <td>0.003642</td>\n",
       "      <td>0.005570</td>\n",
       "      <td>0.008035</td>\n",
       "      <td>0.006637</td>\n",
       "      <td>0.007782</td>\n",
       "      <td>0.009401</td>\n",
       "    </tr>\n",
       "    <tr>\n",
       "      <th>3010</th>\n",
       "      <td>0.015317</td>\n",
       "      <td>0.008980</td>\n",
       "      <td>0.011440</td>\n",
       "      <td>0.013536</td>\n",
       "      <td>0.015266</td>\n",
       "      <td>0.013081</td>\n",
       "      <td>0.015167</td>\n",
       "      <td>0.013259</td>\n",
       "      <td>0.009581</td>\n",
       "      <td>0.011351</td>\n",
       "      <td>...</td>\n",
       "      <td>0.006081</td>\n",
       "      <td>0.002240</td>\n",
       "      <td>0.002638</td>\n",
       "      <td>0.008555</td>\n",
       "      <td>0.006402</td>\n",
       "      <td>0.009378</td>\n",
       "      <td>0.013038</td>\n",
       "      <td>0.010981</td>\n",
       "      <td>0.012673</td>\n",
       "      <td>0.015015</td>\n",
       "    </tr>\n",
       "    <tr>\n",
       "      <th>3020</th>\n",
       "      <td>0.022575</td>\n",
       "      <td>0.013913</td>\n",
       "      <td>0.017332</td>\n",
       "      <td>0.020177</td>\n",
       "      <td>0.022506</td>\n",
       "      <td>0.019565</td>\n",
       "      <td>0.022373</td>\n",
       "      <td>0.019804</td>\n",
       "      <td>0.014749</td>\n",
       "      <td>0.017209</td>\n",
       "      <td>...</td>\n",
       "      <td>0.009777</td>\n",
       "      <td>0.003951</td>\n",
       "      <td>0.004579</td>\n",
       "      <td>0.013324</td>\n",
       "      <td>0.010237</td>\n",
       "      <td>0.014467</td>\n",
       "      <td>0.019508</td>\n",
       "      <td>0.016694</td>\n",
       "      <td>0.019016</td>\n",
       "      <td>0.022169</td>\n",
       "    </tr>\n",
       "    <tr>\n",
       "      <th>3030</th>\n",
       "      <td>0.035972</td>\n",
       "      <td>0.023540</td>\n",
       "      <td>0.028544</td>\n",
       "      <td>0.032594</td>\n",
       "      <td>0.035876</td>\n",
       "      <td>0.031731</td>\n",
       "      <td>0.035688</td>\n",
       "      <td>0.032069</td>\n",
       "      <td>0.024763</td>\n",
       "      <td>0.028364</td>\n",
       "      <td>...</td>\n",
       "      <td>0.017287</td>\n",
       "      <td>0.007809</td>\n",
       "      <td>0.008878</td>\n",
       "      <td>0.022677</td>\n",
       "      <td>0.017987</td>\n",
       "      <td>0.024351</td>\n",
       "      <td>0.031650</td>\n",
       "      <td>0.027611</td>\n",
       "      <td>0.030958</td>\n",
       "      <td>0.035400</td>\n",
       "    </tr>\n",
       "    <tr>\n",
       "      <th>3040</th>\n",
       "      <td>0.042737</td>\n",
       "      <td>0.028594</td>\n",
       "      <td>0.034327</td>\n",
       "      <td>0.038920</td>\n",
       "      <td>0.042628</td>\n",
       "      <td>0.037945</td>\n",
       "      <td>0.042416</td>\n",
       "      <td>0.038327</td>\n",
       "      <td>0.029995</td>\n",
       "      <td>0.034121</td>\n",
       "      <td>...</td>\n",
       "      <td>0.021342</td>\n",
       "      <td>0.010046</td>\n",
       "      <td>0.011342</td>\n",
       "      <td>0.027605</td>\n",
       "      <td>0.022156</td>\n",
       "      <td>0.029522</td>\n",
       "      <td>0.037854</td>\n",
       "      <td>0.033258</td>\n",
       "      <td>0.037072</td>\n",
       "      <td>0.042090</td>\n",
       "    </tr>\n",
       "    <tr>\n",
       "      <th>...</th>\n",
       "      <td>...</td>\n",
       "      <td>...</td>\n",
       "      <td>...</td>\n",
       "      <td>...</td>\n",
       "      <td>...</td>\n",
       "      <td>...</td>\n",
       "      <td>...</td>\n",
       "      <td>...</td>\n",
       "      <td>...</td>\n",
       "      <td>...</td>\n",
       "      <td>...</td>\n",
       "      <td>...</td>\n",
       "      <td>...</td>\n",
       "      <td>...</td>\n",
       "      <td>...</td>\n",
       "      <td>...</td>\n",
       "      <td>...</td>\n",
       "      <td>...</td>\n",
       "      <td>...</td>\n",
       "      <td>...</td>\n",
       "      <td>...</td>\n",
       "    </tr>\n",
       "    <tr>\n",
       "      <th>11960</th>\n",
       "      <td>0.972918</td>\n",
       "      <td>0.969595</td>\n",
       "      <td>0.971113</td>\n",
       "      <td>0.972133</td>\n",
       "      <td>0.972896</td>\n",
       "      <td>0.971932</td>\n",
       "      <td>0.972852</td>\n",
       "      <td>0.972011</td>\n",
       "      <td>0.969966</td>\n",
       "      <td>0.971059</td>\n",
       "      <td>...</td>\n",
       "      <td>0.967204</td>\n",
       "      <td>0.961002</td>\n",
       "      <td>0.961944</td>\n",
       "      <td>0.969333</td>\n",
       "      <td>0.967481</td>\n",
       "      <td>0.969841</td>\n",
       "      <td>0.971913</td>\n",
       "      <td>0.970830</td>\n",
       "      <td>0.971752</td>\n",
       "      <td>0.972785</td>\n",
       "    </tr>\n",
       "    <tr>\n",
       "      <th>11970</th>\n",
       "      <td>0.972918</td>\n",
       "      <td>0.969595</td>\n",
       "      <td>0.971113</td>\n",
       "      <td>0.972133</td>\n",
       "      <td>0.972896</td>\n",
       "      <td>0.971932</td>\n",
       "      <td>0.972852</td>\n",
       "      <td>0.972011</td>\n",
       "      <td>0.969966</td>\n",
       "      <td>0.971059</td>\n",
       "      <td>...</td>\n",
       "      <td>0.967204</td>\n",
       "      <td>0.961002</td>\n",
       "      <td>0.961944</td>\n",
       "      <td>0.969333</td>\n",
       "      <td>0.967481</td>\n",
       "      <td>0.969841</td>\n",
       "      <td>0.971913</td>\n",
       "      <td>0.970830</td>\n",
       "      <td>0.971752</td>\n",
       "      <td>0.972785</td>\n",
       "    </tr>\n",
       "    <tr>\n",
       "      <th>11980</th>\n",
       "      <td>0.955900</td>\n",
       "      <td>0.950776</td>\n",
       "      <td>0.953109</td>\n",
       "      <td>0.954684</td>\n",
       "      <td>0.955865</td>\n",
       "      <td>0.954373</td>\n",
       "      <td>0.955798</td>\n",
       "      <td>0.954495</td>\n",
       "      <td>0.951347</td>\n",
       "      <td>0.953026</td>\n",
       "      <td>...</td>\n",
       "      <td>0.947127</td>\n",
       "      <td>0.937810</td>\n",
       "      <td>0.939215</td>\n",
       "      <td>0.950374</td>\n",
       "      <td>0.947550</td>\n",
       "      <td>0.951154</td>\n",
       "      <td>0.954344</td>\n",
       "      <td>0.952674</td>\n",
       "      <td>0.954095</td>\n",
       "      <td>0.955694</td>\n",
       "    </tr>\n",
       "    <tr>\n",
       "      <th>11990</th>\n",
       "      <td>0.955900</td>\n",
       "      <td>0.950776</td>\n",
       "      <td>0.953109</td>\n",
       "      <td>0.954684</td>\n",
       "      <td>0.955865</td>\n",
       "      <td>0.954373</td>\n",
       "      <td>0.955798</td>\n",
       "      <td>0.954495</td>\n",
       "      <td>0.951347</td>\n",
       "      <td>0.953026</td>\n",
       "      <td>...</td>\n",
       "      <td>0.947127</td>\n",
       "      <td>0.937810</td>\n",
       "      <td>0.939215</td>\n",
       "      <td>0.950374</td>\n",
       "      <td>0.947550</td>\n",
       "      <td>0.951154</td>\n",
       "      <td>0.954344</td>\n",
       "      <td>0.952674</td>\n",
       "      <td>0.954095</td>\n",
       "      <td>0.955694</td>\n",
       "    </tr>\n",
       "    <tr>\n",
       "      <th>12000</th>\n",
       "      <td>0.952510</td>\n",
       "      <td>0.947181</td>\n",
       "      <td>0.949603</td>\n",
       "      <td>0.951242</td>\n",
       "      <td>0.952474</td>\n",
       "      <td>0.950919</td>\n",
       "      <td>0.952404</td>\n",
       "      <td>0.951045</td>\n",
       "      <td>0.947773</td>\n",
       "      <td>0.949516</td>\n",
       "      <td>...</td>\n",
       "      <td>0.943408</td>\n",
       "      <td>0.933864</td>\n",
       "      <td>0.935297</td>\n",
       "      <td>0.946764</td>\n",
       "      <td>0.943845</td>\n",
       "      <td>0.947574</td>\n",
       "      <td>0.950888</td>\n",
       "      <td>0.949151</td>\n",
       "      <td>0.950628</td>\n",
       "      <td>0.952296</td>\n",
       "    </tr>\n",
       "  </tbody>\n",
       "</table>\n",
       "<p>901 rows × 758 columns</p>\n",
       "</div>"
      ],
      "text/plain": [
       "              1         2         3         4         5         6         7  \\\n",
       "3000   0.009610  0.005305  0.006943  0.008378  0.009575  0.008064  0.009507   \n",
       "3010   0.015317  0.008980  0.011440  0.013536  0.015266  0.013081  0.015167   \n",
       "3020   0.022575  0.013913  0.017332  0.020177  0.022506  0.019565  0.022373   \n",
       "3030   0.035972  0.023540  0.028544  0.032594  0.035876  0.031731  0.035688   \n",
       "3040   0.042737  0.028594  0.034327  0.038920  0.042628  0.037945  0.042416   \n",
       "...         ...       ...       ...       ...       ...       ...       ...   \n",
       "11960  0.972918  0.969595  0.971113  0.972133  0.972896  0.971932  0.972852   \n",
       "11970  0.972918  0.969595  0.971113  0.972133  0.972896  0.971932  0.972852   \n",
       "11980  0.955900  0.950776  0.953109  0.954684  0.955865  0.954373  0.955798   \n",
       "11990  0.955900  0.950776  0.953109  0.954684  0.955865  0.954373  0.955798   \n",
       "12000  0.952510  0.947181  0.949603  0.951242  0.952474  0.950919  0.952404   \n",
       "\n",
       "              8         9        10  ...       749       750       751  \\\n",
       "3000   0.008187  0.005705  0.006884  ...  0.003436  0.001133  0.001360   \n",
       "3010   0.013259  0.009581  0.011351  ...  0.006081  0.002240  0.002638   \n",
       "3020   0.019804  0.014749  0.017209  ...  0.009777  0.003951  0.004579   \n",
       "3030   0.032069  0.024763  0.028364  ...  0.017287  0.007809  0.008878   \n",
       "3040   0.038327  0.029995  0.034121  ...  0.021342  0.010046  0.011342   \n",
       "...         ...       ...       ...  ...       ...       ...       ...   \n",
       "11960  0.972011  0.969966  0.971059  ...  0.967204  0.961002  0.961944   \n",
       "11970  0.972011  0.969966  0.971059  ...  0.967204  0.961002  0.961944   \n",
       "11980  0.954495  0.951347  0.953026  ...  0.947127  0.937810  0.939215   \n",
       "11990  0.954495  0.951347  0.953026  ...  0.947127  0.937810  0.939215   \n",
       "12000  0.951045  0.947773  0.949516  ...  0.943408  0.933864  0.935297   \n",
       "\n",
       "            752       753       754       755       756       757       758  \n",
       "3000   0.005023  0.003642  0.005570  0.008035  0.006637  0.007782  0.009401  \n",
       "3010   0.008555  0.006402  0.009378  0.013038  0.010981  0.012673  0.015015  \n",
       "3020   0.013324  0.010237  0.014467  0.019508  0.016694  0.019016  0.022169  \n",
       "3030   0.022677  0.017987  0.024351  0.031650  0.027611  0.030958  0.035400  \n",
       "3040   0.027605  0.022156  0.029522  0.037854  0.033258  0.037072  0.042090  \n",
       "...         ...       ...       ...       ...       ...       ...       ...  \n",
       "11960  0.969333  0.967481  0.969841  0.971913  0.970830  0.971752  0.972785  \n",
       "11970  0.969333  0.967481  0.969841  0.971913  0.970830  0.971752  0.972785  \n",
       "11980  0.950374  0.947550  0.951154  0.954344  0.952674  0.954095  0.955694  \n",
       "11990  0.950374  0.947550  0.951154  0.954344  0.952674  0.954095  0.955694  \n",
       "12000  0.946764  0.943845  0.947574  0.950888  0.949151  0.950628  0.952296  \n",
       "\n",
       "[901 rows x 758 columns]"
      ]
     },
     "execution_count": 29,
     "metadata": {},
     "output_type": "execute_result"
    }
   ],
   "source": [
    "df_2018a = pd.read_csv(r'D:\\Projet de recherche\\Stage\\Baseline_LMC_2018a_Atmosphere.csv')\n",
    "df_2018a"
   ]
  },
  {
   "cell_type": "code",
   "execution_count": 30,
   "metadata": {},
   "outputs": [],
   "source": [
    "bp_atmo = []\n",
    "\n",
    "for i in range (0,758) :\n",
    "    \n",
    "    #if (df[\"observationStartMJD\"].values[i] >= tmin) & (df[\"observationStartMJD\"].values[i] <= tmax) :\n",
    "        \n",
    "    bp = S.ArrayBandpass(df_LSST[\"wl\"].values*10, df_2018a.iloc[:,i].values, name = \"Observation \" + str(i+1))\n",
    "    bp_atmo.append(bp)"
   ]
  },
  {
   "cell_type": "code",
   "execution_count": 31,
   "metadata": {},
   "outputs": [],
   "source": [
    "all_bp = []\n",
    "\n",
    "for i in range (len(bp_atmo)) :\n",
    "\n",
    "    if (df['filter'][i] == 'u') :\n",
    "        \n",
    "        bp = LSST_u * bp_atmo[i]\n",
    "        all_bp.append(bp)\n",
    "        \n",
    "    elif (df['filter'][i] == 'g') :\n",
    "        \n",
    "        bp = LSST_g * bp_atmo[i]\n",
    "        all_bp.append(bp)\n",
    "    \n",
    "    elif (df['filter'][i] == 'r') :\n",
    "        \n",
    "        bp = LSST_r * bp_atmo[i]\n",
    "        all_bp.append(bp)\n",
    "    \n",
    "    elif (df['filter'][i] == 'i') :\n",
    "        \n",
    "        bp = LSST_i * bp_atmo[i]\n",
    "        all_bp.append(bp)\n",
    "    \n",
    "    elif (df['filter'][i] == 'z') :\n",
    "        \n",
    "        bp = LSST_z * bp_atmo[i]\n",
    "        all_bp.append(bp)\n",
    "    \n",
    "    elif (df['filter'][i] == 'y') :\n",
    "        \n",
    "        bp = LSST_y * bp_atmo[i]\n",
    "        all_bp.append(bp)"
   ]
  },
  {
   "cell_type": "markdown",
   "metadata": {},
   "source": [
    "# Define the source spectrum below"
   ]
  },
  {
   "cell_type": "code",
   "execution_count": 32,
   "metadata": {},
   "outputs": [],
   "source": [
    "Spec = S.Vega.renorm(20, 'abmag', S.ObsBandpass('johnson,v'))"
   ]
  },
  {
   "cell_type": "code",
   "execution_count": 33,
   "metadata": {},
   "outputs": [
    {
     "name": "stdout",
     "output_type": "stream",
     "text": [
      "((z * Observation 1)) does not have a defined binset in the wavecat table. The waveset of the spectrum will be used instead.\n",
      "((y * Observation 2)) does not have a defined binset in the wavecat table. The waveset of the spectrum will be used instead.\n",
      "((y * Observation 3)) does not have a defined binset in the wavecat table. The waveset of the spectrum will be used instead.\n",
      "((y * Observation 4)) does not have a defined binset in the wavecat table. The waveset of the spectrum will be used instead.\n",
      "((y * Observation 5)) does not have a defined binset in the wavecat table. The waveset of the spectrum will be used instead.\n",
      "((y * Observation 6)) does not have a defined binset in the wavecat table. The waveset of the spectrum will be used instead.\n",
      "((y * Observation 7)) does not have a defined binset in the wavecat table. The waveset of the spectrum will be used instead.\n",
      "((y * Observation 8)) does not have a defined binset in the wavecat table. The waveset of the spectrum will be used instead.\n",
      "((y * Observation 9)) does not have a defined binset in the wavecat table. The waveset of the spectrum will be used instead.\n",
      "((y * Observation 10)) does not have a defined binset in the wavecat table. The waveset of the spectrum will be used instead.\n",
      "((y * Observation 11)) does not have a defined binset in the wavecat table. The waveset of the spectrum will be used instead.\n",
      "((u * Observation 12)) does not have a defined binset in the wavecat table. The waveset of the spectrum will be used instead.\n",
      "((u * Observation 13)) does not have a defined binset in the wavecat table. The waveset of the spectrum will be used instead.\n",
      "((u * Observation 14)) does not have a defined binset in the wavecat table. The waveset of the spectrum will be used instead.\n",
      "((u * Observation 15)) does not have a defined binset in the wavecat table. The waveset of the spectrum will be used instead.\n",
      "((u * Observation 16)) does not have a defined binset in the wavecat table. The waveset of the spectrum will be used instead.\n",
      "((u * Observation 17)) does not have a defined binset in the wavecat table. The waveset of the spectrum will be used instead.\n",
      "((u * Observation 18)) does not have a defined binset in the wavecat table. The waveset of the spectrum will be used instead.\n",
      "((u * Observation 19)) does not have a defined binset in the wavecat table. The waveset of the spectrum will be used instead.\n",
      "((u * Observation 20)) does not have a defined binset in the wavecat table. The waveset of the spectrum will be used instead.\n",
      "((i * Observation 21)) does not have a defined binset in the wavecat table. The waveset of the spectrum will be used instead.\n",
      "((i * Observation 22)) does not have a defined binset in the wavecat table. The waveset of the spectrum will be used instead.\n",
      "((y * Observation 23)) does not have a defined binset in the wavecat table. The waveset of the spectrum will be used instead.\n",
      "((y * Observation 24)) does not have a defined binset in the wavecat table. The waveset of the spectrum will be used instead.\n",
      "((y * Observation 25)) does not have a defined binset in the wavecat table. The waveset of the spectrum will be used instead.\n",
      "((y * Observation 26)) does not have a defined binset in the wavecat table. The waveset of the spectrum will be used instead.\n",
      "((z * Observation 27)) does not have a defined binset in the wavecat table. The waveset of the spectrum will be used instead.\n",
      "((y * Observation 28)) does not have a defined binset in the wavecat table. The waveset of the spectrum will be used instead.\n",
      "((y * Observation 29)) does not have a defined binset in the wavecat table. The waveset of the spectrum will be used instead.\n",
      "((y * Observation 30)) does not have a defined binset in the wavecat table. The waveset of the spectrum will be used instead.\n",
      "((y * Observation 31)) does not have a defined binset in the wavecat table. The waveset of the spectrum will be used instead.\n",
      "((y * Observation 32)) does not have a defined binset in the wavecat table. The waveset of the spectrum will be used instead.\n",
      "((r * Observation 33)) does not have a defined binset in the wavecat table. The waveset of the spectrum will be used instead.\n",
      "((r * Observation 34)) does not have a defined binset in the wavecat table. The waveset of the spectrum will be used instead.\n",
      "((r * Observation 35)) does not have a defined binset in the wavecat table. The waveset of the spectrum will be used instead.\n",
      "((r * Observation 36)) does not have a defined binset in the wavecat table. The waveset of the spectrum will be used instead.\n",
      "((r * Observation 37)) does not have a defined binset in the wavecat table. The waveset of the spectrum will be used instead.\n",
      "((r * Observation 38)) does not have a defined binset in the wavecat table. The waveset of the spectrum will be used instead.\n",
      "((r * Observation 39)) does not have a defined binset in the wavecat table. The waveset of the spectrum will be used instead.\n",
      "((r * Observation 40)) does not have a defined binset in the wavecat table. The waveset of the spectrum will be used instead.\n",
      "((u * Observation 41)) does not have a defined binset in the wavecat table. The waveset of the spectrum will be used instead.\n",
      "((u * Observation 42)) does not have a defined binset in the wavecat table. The waveset of the spectrum will be used instead.\n",
      "((u * Observation 43)) does not have a defined binset in the wavecat table. The waveset of the spectrum will be used instead.\n",
      "((u * Observation 44)) does not have a defined binset in the wavecat table. The waveset of the spectrum will be used instead.\n",
      "((u * Observation 45)) does not have a defined binset in the wavecat table. The waveset of the spectrum will be used instead.\n",
      "((y * Observation 46)) does not have a defined binset in the wavecat table. The waveset of the spectrum will be used instead.\n",
      "((y * Observation 47)) does not have a defined binset in the wavecat table. The waveset of the spectrum will be used instead.\n",
      "((y * Observation 48)) does not have a defined binset in the wavecat table. The waveset of the spectrum will be used instead.\n",
      "((y * Observation 49)) does not have a defined binset in the wavecat table. The waveset of the spectrum will be used instead.\n",
      "((y * Observation 50)) does not have a defined binset in the wavecat table. The waveset of the spectrum will be used instead.\n",
      "((y * Observation 51)) does not have a defined binset in the wavecat table. The waveset of the spectrum will be used instead.\n",
      "((y * Observation 52)) does not have a defined binset in the wavecat table. The waveset of the spectrum will be used instead.\n",
      "((y * Observation 53)) does not have a defined binset in the wavecat table. The waveset of the spectrum will be used instead.\n",
      "((y * Observation 54)) does not have a defined binset in the wavecat table. The waveset of the spectrum will be used instead.\n",
      "((y * Observation 55)) does not have a defined binset in the wavecat table. The waveset of the spectrum will be used instead.\n",
      "((y * Observation 56)) does not have a defined binset in the wavecat table. The waveset of the spectrum will be used instead.\n",
      "((y * Observation 57)) does not have a defined binset in the wavecat table. The waveset of the spectrum will be used instead.\n",
      "((y * Observation 58)) does not have a defined binset in the wavecat table. The waveset of the spectrum will be used instead.\n",
      "((y * Observation 59)) does not have a defined binset in the wavecat table. The waveset of the spectrum will be used instead.\n",
      "((y * Observation 60)) does not have a defined binset in the wavecat table. The waveset of the spectrum will be used instead.\n",
      "((z * Observation 61)) does not have a defined binset in the wavecat table. The waveset of the spectrum will be used instead.\n",
      "((z * Observation 62)) does not have a defined binset in the wavecat table. The waveset of the spectrum will be used instead.\n",
      "((z * Observation 63)) does not have a defined binset in the wavecat table. The waveset of the spectrum will be used instead.\n",
      "((z * Observation 64)) does not have a defined binset in the wavecat table. The waveset of the spectrum will be used instead.\n",
      "((i * Observation 65)) does not have a defined binset in the wavecat table. The waveset of the spectrum will be used instead.\n",
      "((r * Observation 66)) does not have a defined binset in the wavecat table. The waveset of the spectrum will be used instead.\n",
      "((r * Observation 67)) does not have a defined binset in the wavecat table. The waveset of the spectrum will be used instead.\n",
      "((r * Observation 68)) does not have a defined binset in the wavecat table. The waveset of the spectrum will be used instead.\n",
      "((r * Observation 69)) does not have a defined binset in the wavecat table. The waveset of the spectrum will be used instead.\n",
      "((u * Observation 70)) does not have a defined binset in the wavecat table. The waveset of the spectrum will be used instead.\n",
      "((u * Observation 71)) does not have a defined binset in the wavecat table. The waveset of the spectrum will be used instead.\n",
      "((z * Observation 72)) does not have a defined binset in the wavecat table. The waveset of the spectrum will be used instead.\n",
      "((z * Observation 73)) does not have a defined binset in the wavecat table. The waveset of the spectrum will be used instead.\n",
      "((z * Observation 74)) does not have a defined binset in the wavecat table. The waveset of the spectrum will be used instead.\n",
      "((z * Observation 75)) does not have a defined binset in the wavecat table. The waveset of the spectrum will be used instead.\n",
      "((z * Observation 76)) does not have a defined binset in the wavecat table. The waveset of the spectrum will be used instead.\n",
      "((y * Observation 77)) does not have a defined binset in the wavecat table. The waveset of the spectrum will be used instead.\n",
      "((y * Observation 78)) does not have a defined binset in the wavecat table. The waveset of the spectrum will be used instead.\n",
      "((y * Observation 79)) does not have a defined binset in the wavecat table. The waveset of the spectrum will be used instead.\n",
      "((y * Observation 80)) does not have a defined binset in the wavecat table. The waveset of the spectrum will be used instead.\n",
      "((u * Observation 81)) does not have a defined binset in the wavecat table. The waveset of the spectrum will be used instead.\n",
      "((u * Observation 82)) does not have a defined binset in the wavecat table. The waveset of the spectrum will be used instead.\n",
      "((u * Observation 83)) does not have a defined binset in the wavecat table. The waveset of the spectrum will be used instead.\n",
      "((i * Observation 84)) does not have a defined binset in the wavecat table. The waveset of the spectrum will be used instead.\n",
      "((g * Observation 85)) does not have a defined binset in the wavecat table. The waveset of the spectrum will be used instead.\n",
      "((g * Observation 86)) does not have a defined binset in the wavecat table. The waveset of the spectrum will be used instead.\n",
      "((g * Observation 87)) does not have a defined binset in the wavecat table. The waveset of the spectrum will be used instead.\n"
     ]
    },
    {
     "name": "stdout",
     "output_type": "stream",
     "text": [
      "((z * Observation 88)) does not have a defined binset in the wavecat table. The waveset of the spectrum will be used instead.\n",
      "((z * Observation 89)) does not have a defined binset in the wavecat table. The waveset of the spectrum will be used instead.\n",
      "((z * Observation 90)) does not have a defined binset in the wavecat table. The waveset of the spectrum will be used instead.\n",
      "((z * Observation 91)) does not have a defined binset in the wavecat table. The waveset of the spectrum will be used instead.\n",
      "((z * Observation 92)) does not have a defined binset in the wavecat table. The waveset of the spectrum will be used instead.\n",
      "((y * Observation 93)) does not have a defined binset in the wavecat table. The waveset of the spectrum will be used instead.\n",
      "((y * Observation 94)) does not have a defined binset in the wavecat table. The waveset of the spectrum will be used instead.\n",
      "((y * Observation 95)) does not have a defined binset in the wavecat table. The waveset of the spectrum will be used instead.\n",
      "((y * Observation 96)) does not have a defined binset in the wavecat table. The waveset of the spectrum will be used instead.\n",
      "((y * Observation 97)) does not have a defined binset in the wavecat table. The waveset of the spectrum will be used instead.\n",
      "((y * Observation 98)) does not have a defined binset in the wavecat table. The waveset of the spectrum will be used instead.\n",
      "((y * Observation 99)) does not have a defined binset in the wavecat table. The waveset of the spectrum will be used instead.\n",
      "((y * Observation 100)) does not have a defined binset in the wavecat table. The waveset of the spectrum will be used instead.\n",
      "((y * Observation 101)) does not have a defined binset in the wavecat table. The waveset of the spectrum will be used instead.\n",
      "((y * Observation 102)) does not have a defined binset in the wavecat table. The waveset of the spectrum will be used instead.\n",
      "((g * Observation 103)) does not have a defined binset in the wavecat table. The waveset of the spectrum will be used instead.\n",
      "((r * Observation 104)) does not have a defined binset in the wavecat table. The waveset of the spectrum will be used instead.\n",
      "((i * Observation 105)) does not have a defined binset in the wavecat table. The waveset of the spectrum will be used instead.\n",
      "((i * Observation 106)) does not have a defined binset in the wavecat table. The waveset of the spectrum will be used instead.\n",
      "((u * Observation 107)) does not have a defined binset in the wavecat table. The waveset of the spectrum will be used instead.\n",
      "((r * Observation 108)) does not have a defined binset in the wavecat table. The waveset of the spectrum will be used instead.\n",
      "((r * Observation 109)) does not have a defined binset in the wavecat table. The waveset of the spectrum will be used instead.\n",
      "((r * Observation 110)) does not have a defined binset in the wavecat table. The waveset of the spectrum will be used instead.\n",
      "((z * Observation 111)) does not have a defined binset in the wavecat table. The waveset of the spectrum will be used instead.\n",
      "((z * Observation 112)) does not have a defined binset in the wavecat table. The waveset of the spectrum will be used instead.\n",
      "((z * Observation 113)) does not have a defined binset in the wavecat table. The waveset of the spectrum will be used instead.\n",
      "((z * Observation 114)) does not have a defined binset in the wavecat table. The waveset of the spectrum will be used instead.\n",
      "((z * Observation 115)) does not have a defined binset in the wavecat table. The waveset of the spectrum will be used instead.\n",
      "((y * Observation 116)) does not have a defined binset in the wavecat table. The waveset of the spectrum will be used instead.\n",
      "((y * Observation 117)) does not have a defined binset in the wavecat table. The waveset of the spectrum will be used instead.\n",
      "((y * Observation 118)) does not have a defined binset in the wavecat table. The waveset of the spectrum will be used instead.\n",
      "((y * Observation 119)) does not have a defined binset in the wavecat table. The waveset of the spectrum will be used instead.\n",
      "((z * Observation 120)) does not have a defined binset in the wavecat table. The waveset of the spectrum will be used instead.\n",
      "((z * Observation 121)) does not have a defined binset in the wavecat table. The waveset of the spectrum will be used instead.\n",
      "((z * Observation 122)) does not have a defined binset in the wavecat table. The waveset of the spectrum will be used instead.\n",
      "((y * Observation 123)) does not have a defined binset in the wavecat table. The waveset of the spectrum will be used instead.\n",
      "((y * Observation 124)) does not have a defined binset in the wavecat table. The waveset of the spectrum will be used instead.\n",
      "((y * Observation 125)) does not have a defined binset in the wavecat table. The waveset of the spectrum will be used instead.\n",
      "((y * Observation 126)) does not have a defined binset in the wavecat table. The waveset of the spectrum will be used instead.\n",
      "((y * Observation 127)) does not have a defined binset in the wavecat table. The waveset of the spectrum will be used instead.\n",
      "((u * Observation 128)) does not have a defined binset in the wavecat table. The waveset of the spectrum will be used instead.\n",
      "((u * Observation 129)) does not have a defined binset in the wavecat table. The waveset of the spectrum will be used instead.\n",
      "((u * Observation 130)) does not have a defined binset in the wavecat table. The waveset of the spectrum will be used instead.\n",
      "((u * Observation 131)) does not have a defined binset in the wavecat table. The waveset of the spectrum will be used instead.\n",
      "((u * Observation 132)) does not have a defined binset in the wavecat table. The waveset of the spectrum will be used instead.\n",
      "((i * Observation 133)) does not have a defined binset in the wavecat table. The waveset of the spectrum will be used instead.\n",
      "((i * Observation 134)) does not have a defined binset in the wavecat table. The waveset of the spectrum will be used instead.\n",
      "((i * Observation 135)) does not have a defined binset in the wavecat table. The waveset of the spectrum will be used instead.\n",
      "((i * Observation 136)) does not have a defined binset in the wavecat table. The waveset of the spectrum will be used instead.\n",
      "((i * Observation 137)) does not have a defined binset in the wavecat table. The waveset of the spectrum will be used instead.\n",
      "((i * Observation 138)) does not have a defined binset in the wavecat table. The waveset of the spectrum will be used instead.\n",
      "((y * Observation 139)) does not have a defined binset in the wavecat table. The waveset of the spectrum will be used instead.\n",
      "((y * Observation 140)) does not have a defined binset in the wavecat table. The waveset of the spectrum will be used instead.\n",
      "((y * Observation 141)) does not have a defined binset in the wavecat table. The waveset of the spectrum will be used instead.\n",
      "((y * Observation 142)) does not have a defined binset in the wavecat table. The waveset of the spectrum will be used instead.\n",
      "((y * Observation 143)) does not have a defined binset in the wavecat table. The waveset of the spectrum will be used instead.\n",
      "((r * Observation 144)) does not have a defined binset in the wavecat table. The waveset of the spectrum will be used instead.\n",
      "((g * Observation 145)) does not have a defined binset in the wavecat table. The waveset of the spectrum will be used instead.\n",
      "((g * Observation 146)) does not have a defined binset in the wavecat table. The waveset of the spectrum will be used instead.\n",
      "((i * Observation 147)) does not have a defined binset in the wavecat table. The waveset of the spectrum will be used instead.\n",
      "((u * Observation 148)) does not have a defined binset in the wavecat table. The waveset of the spectrum will be used instead.\n",
      "((u * Observation 149)) does not have a defined binset in the wavecat table. The waveset of the spectrum will be used instead.\n",
      "((u * Observation 150)) does not have a defined binset in the wavecat table. The waveset of the spectrum will be used instead.\n",
      "((u * Observation 151)) does not have a defined binset in the wavecat table. The waveset of the spectrum will be used instead.\n",
      "((i * Observation 152)) does not have a defined binset in the wavecat table. The waveset of the spectrum will be used instead.\n",
      "((r * Observation 153)) does not have a defined binset in the wavecat table. The waveset of the spectrum will be used instead.\n",
      "((r * Observation 154)) does not have a defined binset in the wavecat table. The waveset of the spectrum will be used instead.\n",
      "((r * Observation 155)) does not have a defined binset in the wavecat table. The waveset of the spectrum will be used instead.\n",
      "((r * Observation 156)) does not have a defined binset in the wavecat table. The waveset of the spectrum will be used instead.\n",
      "((r * Observation 157)) does not have a defined binset in the wavecat table. The waveset of the spectrum will be used instead.\n",
      "((i * Observation 158)) does not have a defined binset in the wavecat table. The waveset of the spectrum will be used instead.\n",
      "((i * Observation 159)) does not have a defined binset in the wavecat table. The waveset of the spectrum will be used instead.\n",
      "((i * Observation 160)) does not have a defined binset in the wavecat table. The waveset of the spectrum will be used instead.\n",
      "((i * Observation 161)) does not have a defined binset in the wavecat table. The waveset of the spectrum will be used instead.\n",
      "((i * Observation 162)) does not have a defined binset in the wavecat table. The waveset of the spectrum will be used instead.\n"
     ]
    },
    {
     "name": "stdout",
     "output_type": "stream",
     "text": [
      "((z * Observation 163)) does not have a defined binset in the wavecat table. The waveset of the spectrum will be used instead.\n",
      "((z * Observation 164)) does not have a defined binset in the wavecat table. The waveset of the spectrum will be used instead.\n",
      "((z * Observation 165)) does not have a defined binset in the wavecat table. The waveset of the spectrum will be used instead.\n",
      "((z * Observation 166)) does not have a defined binset in the wavecat table. The waveset of the spectrum will be used instead.\n",
      "((z * Observation 167)) does not have a defined binset in the wavecat table. The waveset of the spectrum will be used instead.\n",
      "((y * Observation 168)) does not have a defined binset in the wavecat table. The waveset of the spectrum will be used instead.\n",
      "((y * Observation 169)) does not have a defined binset in the wavecat table. The waveset of the spectrum will be used instead.\n",
      "((y * Observation 170)) does not have a defined binset in the wavecat table. The waveset of the spectrum will be used instead.\n",
      "((y * Observation 171)) does not have a defined binset in the wavecat table. The waveset of the spectrum will be used instead.\n",
      "((y * Observation 172)) does not have a defined binset in the wavecat table. The waveset of the spectrum will be used instead.\n",
      "((r * Observation 173)) does not have a defined binset in the wavecat table. The waveset of the spectrum will be used instead.\n",
      "((r * Observation 174)) does not have a defined binset in the wavecat table. The waveset of the spectrum will be used instead.\n",
      "((r * Observation 175)) does not have a defined binset in the wavecat table. The waveset of the spectrum will be used instead.\n",
      "((r * Observation 176)) does not have a defined binset in the wavecat table. The waveset of the spectrum will be used instead.\n",
      "((i * Observation 177)) does not have a defined binset in the wavecat table. The waveset of the spectrum will be used instead.\n",
      "((u * Observation 178)) does not have a defined binset in the wavecat table. The waveset of the spectrum will be used instead.\n",
      "((u * Observation 179)) does not have a defined binset in the wavecat table. The waveset of the spectrum will be used instead.\n",
      "((u * Observation 180)) does not have a defined binset in the wavecat table. The waveset of the spectrum will be used instead.\n",
      "((u * Observation 181)) does not have a defined binset in the wavecat table. The waveset of the spectrum will be used instead.\n",
      "((u * Observation 182)) does not have a defined binset in the wavecat table. The waveset of the spectrum will be used instead.\n",
      "((y * Observation 183)) does not have a defined binset in the wavecat table. The waveset of the spectrum will be used instead.\n",
      "((y * Observation 184)) does not have a defined binset in the wavecat table. The waveset of the spectrum will be used instead.\n",
      "((r * Observation 185)) does not have a defined binset in the wavecat table. The waveset of the spectrum will be used instead.\n",
      "((r * Observation 186)) does not have a defined binset in the wavecat table. The waveset of the spectrum will be used instead.\n",
      "((g * Observation 187)) does not have a defined binset in the wavecat table. The waveset of the spectrum will be used instead.\n",
      "((g * Observation 188)) does not have a defined binset in the wavecat table. The waveset of the spectrum will be used instead.\n",
      "((g * Observation 189)) does not have a defined binset in the wavecat table. The waveset of the spectrum will be used instead.\n",
      "((g * Observation 190)) does not have a defined binset in the wavecat table. The waveset of the spectrum will be used instead.\n",
      "((y * Observation 191)) does not have a defined binset in the wavecat table. The waveset of the spectrum will be used instead.\n",
      "((y * Observation 192)) does not have a defined binset in the wavecat table. The waveset of the spectrum will be used instead.\n",
      "((y * Observation 193)) does not have a defined binset in the wavecat table. The waveset of the spectrum will be used instead.\n",
      "((y * Observation 194)) does not have a defined binset in the wavecat table. The waveset of the spectrum will be used instead.\n",
      "((y * Observation 195)) does not have a defined binset in the wavecat table. The waveset of the spectrum will be used instead.\n",
      "((y * Observation 196)) does not have a defined binset in the wavecat table. The waveset of the spectrum will be used instead.\n",
      "((y * Observation 197)) does not have a defined binset in the wavecat table. The waveset of the spectrum will be used instead.\n",
      "((g * Observation 198)) does not have a defined binset in the wavecat table. The waveset of the spectrum will be used instead.\n",
      "((g * Observation 199)) does not have a defined binset in the wavecat table. The waveset of the spectrum will be used instead.\n",
      "((g * Observation 200)) does not have a defined binset in the wavecat table. The waveset of the spectrum will be used instead.\n",
      "((g * Observation 201)) does not have a defined binset in the wavecat table. The waveset of the spectrum will be used instead.\n",
      "((g * Observation 202)) does not have a defined binset in the wavecat table. The waveset of the spectrum will be used instead.\n",
      "((g * Observation 203)) does not have a defined binset in the wavecat table. The waveset of the spectrum will be used instead.\n",
      "((g * Observation 204)) does not have a defined binset in the wavecat table. The waveset of the spectrum will be used instead.\n",
      "((g * Observation 205)) does not have a defined binset in the wavecat table. The waveset of the spectrum will be used instead.\n",
      "((g * Observation 206)) does not have a defined binset in the wavecat table. The waveset of the spectrum will be used instead.\n",
      "((g * Observation 207)) does not have a defined binset in the wavecat table. The waveset of the spectrum will be used instead.\n",
      "((i * Observation 208)) does not have a defined binset in the wavecat table. The waveset of the spectrum will be used instead.\n",
      "((i * Observation 209)) does not have a defined binset in the wavecat table. The waveset of the spectrum will be used instead.\n",
      "((u * Observation 210)) does not have a defined binset in the wavecat table. The waveset of the spectrum will be used instead.\n",
      "((u * Observation 211)) does not have a defined binset in the wavecat table. The waveset of the spectrum will be used instead.\n",
      "((r * Observation 212)) does not have a defined binset in the wavecat table. The waveset of the spectrum will be used instead.\n",
      "((r * Observation 213)) does not have a defined binset in the wavecat table. The waveset of the spectrum will be used instead.\n",
      "((g * Observation 214)) does not have a defined binset in the wavecat table. The waveset of the spectrum will be used instead.\n",
      "((g * Observation 215)) does not have a defined binset in the wavecat table. The waveset of the spectrum will be used instead.\n",
      "((g * Observation 216)) does not have a defined binset in the wavecat table. The waveset of the spectrum will be used instead.\n",
      "((g * Observation 217)) does not have a defined binset in the wavecat table. The waveset of the spectrum will be used instead.\n",
      "((g * Observation 218)) does not have a defined binset in the wavecat table. The waveset of the spectrum will be used instead.\n",
      "((z * Observation 219)) does not have a defined binset in the wavecat table. The waveset of the spectrum will be used instead.\n",
      "((z * Observation 220)) does not have a defined binset in the wavecat table. The waveset of the spectrum will be used instead.\n",
      "((z * Observation 221)) does not have a defined binset in the wavecat table. The waveset of the spectrum will be used instead.\n",
      "((z * Observation 222)) does not have a defined binset in the wavecat table. The waveset of the spectrum will be used instead.\n",
      "((z * Observation 223)) does not have a defined binset in the wavecat table. The waveset of the spectrum will be used instead.\n",
      "((z * Observation 224)) does not have a defined binset in the wavecat table. The waveset of the spectrum will be used instead.\n",
      "((g * Observation 225)) does not have a defined binset in the wavecat table. The waveset of the spectrum will be used instead.\n",
      "((g * Observation 226)) does not have a defined binset in the wavecat table. The waveset of the spectrum will be used instead.\n",
      "((g * Observation 227)) does not have a defined binset in the wavecat table. The waveset of the spectrum will be used instead.\n",
      "((g * Observation 228)) does not have a defined binset in the wavecat table. The waveset of the spectrum will be used instead.\n",
      "((u * Observation 229)) does not have a defined binset in the wavecat table. The waveset of the spectrum will be used instead.\n",
      "((u * Observation 230)) does not have a defined binset in the wavecat table. The waveset of the spectrum will be used instead.\n",
      "((u * Observation 231)) does not have a defined binset in the wavecat table. The waveset of the spectrum will be used instead.\n",
      "((g * Observation 232)) does not have a defined binset in the wavecat table. The waveset of the spectrum will be used instead.\n",
      "((g * Observation 233)) does not have a defined binset in the wavecat table. The waveset of the spectrum will be used instead.\n"
     ]
    },
    {
     "name": "stdout",
     "output_type": "stream",
     "text": [
      "((g * Observation 234)) does not have a defined binset in the wavecat table. The waveset of the spectrum will be used instead.\n",
      "((g * Observation 235)) does not have a defined binset in the wavecat table. The waveset of the spectrum will be used instead.\n",
      "((g * Observation 236)) does not have a defined binset in the wavecat table. The waveset of the spectrum will be used instead.\n",
      "((r * Observation 237)) does not have a defined binset in the wavecat table. The waveset of the spectrum will be used instead.\n",
      "((r * Observation 238)) does not have a defined binset in the wavecat table. The waveset of the spectrum will be used instead.\n",
      "((r * Observation 239)) does not have a defined binset in the wavecat table. The waveset of the spectrum will be used instead.\n",
      "((g * Observation 240)) does not have a defined binset in the wavecat table. The waveset of the spectrum will be used instead.\n",
      "((g * Observation 241)) does not have a defined binset in the wavecat table. The waveset of the spectrum will be used instead.\n",
      "((g * Observation 242)) does not have a defined binset in the wavecat table. The waveset of the spectrum will be used instead.\n",
      "((g * Observation 243)) does not have a defined binset in the wavecat table. The waveset of the spectrum will be used instead.\n",
      "((i * Observation 244)) does not have a defined binset in the wavecat table. The waveset of the spectrum will be used instead.\n",
      "((i * Observation 245)) does not have a defined binset in the wavecat table. The waveset of the spectrum will be used instead.\n",
      "((i * Observation 246)) does not have a defined binset in the wavecat table. The waveset of the spectrum will be used instead.\n",
      "((y * Observation 247)) does not have a defined binset in the wavecat table. The waveset of the spectrum will be used instead.\n",
      "((y * Observation 248)) does not have a defined binset in the wavecat table. The waveset of the spectrum will be used instead.\n",
      "((y * Observation 249)) does not have a defined binset in the wavecat table. The waveset of the spectrum will be used instead.\n",
      "((z * Observation 250)) does not have a defined binset in the wavecat table. The waveset of the spectrum will be used instead.\n",
      "((z * Observation 251)) does not have a defined binset in the wavecat table. The waveset of the spectrum will be used instead.\n",
      "((i * Observation 252)) does not have a defined binset in the wavecat table. The waveset of the spectrum will be used instead.\n",
      "((u * Observation 253)) does not have a defined binset in the wavecat table. The waveset of the spectrum will be used instead.\n",
      "((u * Observation 254)) does not have a defined binset in the wavecat table. The waveset of the spectrum will be used instead.\n",
      "((u * Observation 255)) does not have a defined binset in the wavecat table. The waveset of the spectrum will be used instead.\n",
      "((u * Observation 256)) does not have a defined binset in the wavecat table. The waveset of the spectrum will be used instead.\n",
      "((u * Observation 257)) does not have a defined binset in the wavecat table. The waveset of the spectrum will be used instead.\n",
      "((u * Observation 258)) does not have a defined binset in the wavecat table. The waveset of the spectrum will be used instead.\n",
      "((r * Observation 259)) does not have a defined binset in the wavecat table. The waveset of the spectrum will be used instead.\n",
      "((z * Observation 260)) does not have a defined binset in the wavecat table. The waveset of the spectrum will be used instead.\n",
      "((z * Observation 261)) does not have a defined binset in the wavecat table. The waveset of the spectrum will be used instead.\n",
      "((z * Observation 262)) does not have a defined binset in the wavecat table. The waveset of the spectrum will be used instead.\n",
      "((z * Observation 263)) does not have a defined binset in the wavecat table. The waveset of the spectrum will be used instead.\n",
      "((z * Observation 264)) does not have a defined binset in the wavecat table. The waveset of the spectrum will be used instead.\n",
      "((i * Observation 265)) does not have a defined binset in the wavecat table. The waveset of the spectrum will be used instead.\n",
      "((i * Observation 266)) does not have a defined binset in the wavecat table. The waveset of the spectrum will be used instead.\n",
      "((i * Observation 267)) does not have a defined binset in the wavecat table. The waveset of the spectrum will be used instead.\n",
      "((z * Observation 268)) does not have a defined binset in the wavecat table. The waveset of the spectrum will be used instead.\n",
      "((z * Observation 269)) does not have a defined binset in the wavecat table. The waveset of the spectrum will be used instead.\n",
      "((z * Observation 270)) does not have a defined binset in the wavecat table. The waveset of the spectrum will be used instead.\n",
      "((z * Observation 271)) does not have a defined binset in the wavecat table. The waveset of the spectrum will be used instead.\n",
      "((z * Observation 272)) does not have a defined binset in the wavecat table. The waveset of the spectrum will be used instead.\n",
      "((z * Observation 273)) does not have a defined binset in the wavecat table. The waveset of the spectrum will be used instead.\n",
      "((z * Observation 274)) does not have a defined binset in the wavecat table. The waveset of the spectrum will be used instead.\n",
      "((z * Observation 275)) does not have a defined binset in the wavecat table. The waveset of the spectrum will be used instead.\n",
      "((i * Observation 276)) does not have a defined binset in the wavecat table. The waveset of the spectrum will be used instead.\n",
      "((i * Observation 277)) does not have a defined binset in the wavecat table. The waveset of the spectrum will be used instead.\n",
      "((i * Observation 278)) does not have a defined binset in the wavecat table. The waveset of the spectrum will be used instead.\n",
      "((i * Observation 279)) does not have a defined binset in the wavecat table. The waveset of the spectrum will be used instead.\n",
      "((i * Observation 280)) does not have a defined binset in the wavecat table. The waveset of the spectrum will be used instead.\n",
      "((i * Observation 281)) does not have a defined binset in the wavecat table. The waveset of the spectrum will be used instead.\n",
      "((i * Observation 282)) does not have a defined binset in the wavecat table. The waveset of the spectrum will be used instead.\n",
      "((z * Observation 283)) does not have a defined binset in the wavecat table. The waveset of the spectrum will be used instead.\n",
      "((r * Observation 284)) does not have a defined binset in the wavecat table. The waveset of the spectrum will be used instead.\n",
      "((r * Observation 285)) does not have a defined binset in the wavecat table. The waveset of the spectrum will be used instead.\n",
      "((r * Observation 286)) does not have a defined binset in the wavecat table. The waveset of the spectrum will be used instead.\n",
      "((r * Observation 287)) does not have a defined binset in the wavecat table. The waveset of the spectrum will be used instead.\n",
      "((r * Observation 288)) does not have a defined binset in the wavecat table. The waveset of the spectrum will be used instead.\n",
      "((r * Observation 289)) does not have a defined binset in the wavecat table. The waveset of the spectrum will be used instead.\n",
      "((i * Observation 290)) does not have a defined binset in the wavecat table. The waveset of the spectrum will be used instead.\n",
      "((i * Observation 291)) does not have a defined binset in the wavecat table. The waveset of the spectrum will be used instead.\n",
      "((i * Observation 292)) does not have a defined binset in the wavecat table. The waveset of the spectrum will be used instead.\n",
      "((i * Observation 293)) does not have a defined binset in the wavecat table. The waveset of the spectrum will be used instead.\n",
      "((i * Observation 294)) does not have a defined binset in the wavecat table. The waveset of the spectrum will be used instead.\n",
      "((i * Observation 295)) does not have a defined binset in the wavecat table. The waveset of the spectrum will be used instead.\n",
      "((z * Observation 296)) does not have a defined binset in the wavecat table. The waveset of the spectrum will be used instead.\n",
      "((u * Observation 297)) does not have a defined binset in the wavecat table. The waveset of the spectrum will be used instead.\n",
      "((u * Observation 298)) does not have a defined binset in the wavecat table. The waveset of the spectrum will be used instead.\n",
      "((u * Observation 299)) does not have a defined binset in the wavecat table. The waveset of the spectrum will be used instead.\n",
      "((u * Observation 300)) does not have a defined binset in the wavecat table. The waveset of the spectrum will be used instead.\n",
      "((u * Observation 301)) does not have a defined binset in the wavecat table. The waveset of the spectrum will be used instead.\n",
      "((u * Observation 302)) does not have a defined binset in the wavecat table. The waveset of the spectrum will be used instead.\n",
      "((u * Observation 303)) does not have a defined binset in the wavecat table. The waveset of the spectrum will be used instead.\n",
      "((r * Observation 304)) does not have a defined binset in the wavecat table. The waveset of the spectrum will be used instead.\n"
     ]
    },
    {
     "name": "stdout",
     "output_type": "stream",
     "text": [
      "((r * Observation 305)) does not have a defined binset in the wavecat table. The waveset of the spectrum will be used instead.\n",
      "((r * Observation 306)) does not have a defined binset in the wavecat table. The waveset of the spectrum will be used instead.\n",
      "((r * Observation 307)) does not have a defined binset in the wavecat table. The waveset of the spectrum will be used instead.\n",
      "((g * Observation 308)) does not have a defined binset in the wavecat table. The waveset of the spectrum will be used instead.\n",
      "((i * Observation 309)) does not have a defined binset in the wavecat table. The waveset of the spectrum will be used instead.\n",
      "((i * Observation 310)) does not have a defined binset in the wavecat table. The waveset of the spectrum will be used instead.\n",
      "((i * Observation 311)) does not have a defined binset in the wavecat table. The waveset of the spectrum will be used instead.\n",
      "((i * Observation 312)) does not have a defined binset in the wavecat table. The waveset of the spectrum will be used instead.\n",
      "((i * Observation 313)) does not have a defined binset in the wavecat table. The waveset of the spectrum will be used instead.\n",
      "((i * Observation 314)) does not have a defined binset in the wavecat table. The waveset of the spectrum will be used instead.\n",
      "((y * Observation 315)) does not have a defined binset in the wavecat table. The waveset of the spectrum will be used instead.\n",
      "((y * Observation 316)) does not have a defined binset in the wavecat table. The waveset of the spectrum will be used instead.\n",
      "((y * Observation 317)) does not have a defined binset in the wavecat table. The waveset of the spectrum will be used instead.\n",
      "((z * Observation 318)) does not have a defined binset in the wavecat table. The waveset of the spectrum will be used instead.\n",
      "((z * Observation 319)) does not have a defined binset in the wavecat table. The waveset of the spectrum will be used instead.\n",
      "((z * Observation 320)) does not have a defined binset in the wavecat table. The waveset of the spectrum will be used instead.\n",
      "((z * Observation 321)) does not have a defined binset in the wavecat table. The waveset of the spectrum will be used instead.\n",
      "((z * Observation 322)) does not have a defined binset in the wavecat table. The waveset of the spectrum will be used instead.\n",
      "((y * Observation 323)) does not have a defined binset in the wavecat table. The waveset of the spectrum will be used instead.\n",
      "((y * Observation 324)) does not have a defined binset in the wavecat table. The waveset of the spectrum will be used instead.\n",
      "((y * Observation 325)) does not have a defined binset in the wavecat table. The waveset of the spectrum will be used instead.\n",
      "((y * Observation 326)) does not have a defined binset in the wavecat table. The waveset of the spectrum will be used instead.\n",
      "((y * Observation 327)) does not have a defined binset in the wavecat table. The waveset of the spectrum will be used instead.\n",
      "((y * Observation 328)) does not have a defined binset in the wavecat table. The waveset of the spectrum will be used instead.\n",
      "((y * Observation 329)) does not have a defined binset in the wavecat table. The waveset of the spectrum will be used instead.\n",
      "((y * Observation 330)) does not have a defined binset in the wavecat table. The waveset of the spectrum will be used instead.\n",
      "((y * Observation 331)) does not have a defined binset in the wavecat table. The waveset of the spectrum will be used instead.\n",
      "((g * Observation 332)) does not have a defined binset in the wavecat table. The waveset of the spectrum will be used instead.\n",
      "((g * Observation 333)) does not have a defined binset in the wavecat table. The waveset of the spectrum will be used instead.\n",
      "((g * Observation 334)) does not have a defined binset in the wavecat table. The waveset of the spectrum will be used instead.\n",
      "((g * Observation 335)) does not have a defined binset in the wavecat table. The waveset of the spectrum will be used instead.\n",
      "((g * Observation 336)) does not have a defined binset in the wavecat table. The waveset of the spectrum will be used instead.\n",
      "((g * Observation 337)) does not have a defined binset in the wavecat table. The waveset of the spectrum will be used instead.\n",
      "((g * Observation 338)) does not have a defined binset in the wavecat table. The waveset of the spectrum will be used instead.\n",
      "((g * Observation 339)) does not have a defined binset in the wavecat table. The waveset of the spectrum will be used instead.\n",
      "((g * Observation 340)) does not have a defined binset in the wavecat table. The waveset of the spectrum will be used instead.\n",
      "((u * Observation 341)) does not have a defined binset in the wavecat table. The waveset of the spectrum will be used instead.\n",
      "((u * Observation 342)) does not have a defined binset in the wavecat table. The waveset of the spectrum will be used instead.\n",
      "((g * Observation 343)) does not have a defined binset in the wavecat table. The waveset of the spectrum will be used instead.\n",
      "((g * Observation 344)) does not have a defined binset in the wavecat table. The waveset of the spectrum will be used instead.\n",
      "((g * Observation 345)) does not have a defined binset in the wavecat table. The waveset of the spectrum will be used instead.\n",
      "((r * Observation 346)) does not have a defined binset in the wavecat table. The waveset of the spectrum will be used instead.\n",
      "((i * Observation 347)) does not have a defined binset in the wavecat table. The waveset of the spectrum will be used instead.\n",
      "((i * Observation 348)) does not have a defined binset in the wavecat table. The waveset of the spectrum will be used instead.\n",
      "((i * Observation 349)) does not have a defined binset in the wavecat table. The waveset of the spectrum will be used instead.\n",
      "((u * Observation 350)) does not have a defined binset in the wavecat table. The waveset of the spectrum will be used instead.\n",
      "((u * Observation 351)) does not have a defined binset in the wavecat table. The waveset of the spectrum will be used instead.\n",
      "((u * Observation 352)) does not have a defined binset in the wavecat table. The waveset of the spectrum will be used instead.\n",
      "((u * Observation 353)) does not have a defined binset in the wavecat table. The waveset of the spectrum will be used instead.\n",
      "((u * Observation 354)) does not have a defined binset in the wavecat table. The waveset of the spectrum will be used instead.\n",
      "((u * Observation 355)) does not have a defined binset in the wavecat table. The waveset of the spectrum will be used instead.\n",
      "((g * Observation 356)) does not have a defined binset in the wavecat table. The waveset of the spectrum will be used instead.\n",
      "((g * Observation 357)) does not have a defined binset in the wavecat table. The waveset of the spectrum will be used instead.\n",
      "((g * Observation 358)) does not have a defined binset in the wavecat table. The waveset of the spectrum will be used instead.\n",
      "((r * Observation 359)) does not have a defined binset in the wavecat table. The waveset of the spectrum will be used instead.\n",
      "((r * Observation 360)) does not have a defined binset in the wavecat table. The waveset of the spectrum will be used instead.\n",
      "((r * Observation 361)) does not have a defined binset in the wavecat table. The waveset of the spectrum will be used instead.\n",
      "((r * Observation 362)) does not have a defined binset in the wavecat table. The waveset of the spectrum will be used instead.\n",
      "((r * Observation 363)) does not have a defined binset in the wavecat table. The waveset of the spectrum will be used instead.\n",
      "((z * Observation 364)) does not have a defined binset in the wavecat table. The waveset of the spectrum will be used instead.\n",
      "((z * Observation 365)) does not have a defined binset in the wavecat table. The waveset of the spectrum will be used instead.\n",
      "((g * Observation 366)) does not have a defined binset in the wavecat table. The waveset of the spectrum will be used instead.\n",
      "((g * Observation 367)) does not have a defined binset in the wavecat table. The waveset of the spectrum will be used instead.\n",
      "((g * Observation 368)) does not have a defined binset in the wavecat table. The waveset of the spectrum will be used instead.\n",
      "((r * Observation 369)) does not have a defined binset in the wavecat table. The waveset of the spectrum will be used instead.\n",
      "((r * Observation 370)) does not have a defined binset in the wavecat table. The waveset of the spectrum will be used instead.\n",
      "((r * Observation 371)) does not have a defined binset in the wavecat table. The waveset of the spectrum will be used instead.\n",
      "((r * Observation 372)) does not have a defined binset in the wavecat table. The waveset of the spectrum will be used instead.\n",
      "((r * Observation 373)) does not have a defined binset in the wavecat table. The waveset of the spectrum will be used instead.\n",
      "((i * Observation 374)) does not have a defined binset in the wavecat table. The waveset of the spectrum will be used instead.\n",
      "((i * Observation 375)) does not have a defined binset in the wavecat table. The waveset of the spectrum will be used instead.\n",
      "((i * Observation 376)) does not have a defined binset in the wavecat table. The waveset of the spectrum will be used instead.\n",
      "((i * Observation 377)) does not have a defined binset in the wavecat table. The waveset of the spectrum will be used instead.\n",
      "((i * Observation 378)) does not have a defined binset in the wavecat table. The waveset of the spectrum will be used instead.\n",
      "((z * Observation 379)) does not have a defined binset in the wavecat table. The waveset of the spectrum will be used instead.\n",
      "((z * Observation 380)) does not have a defined binset in the wavecat table. The waveset of the spectrum will be used instead.\n",
      "((z * Observation 381)) does not have a defined binset in the wavecat table. The waveset of the spectrum will be used instead.\n"
     ]
    },
    {
     "name": "stdout",
     "output_type": "stream",
     "text": [
      "((z * Observation 382)) does not have a defined binset in the wavecat table. The waveset of the spectrum will be used instead.\n",
      "((z * Observation 383)) does not have a defined binset in the wavecat table. The waveset of the spectrum will be used instead.\n",
      "((z * Observation 384)) does not have a defined binset in the wavecat table. The waveset of the spectrum will be used instead.\n",
      "((i * Observation 385)) does not have a defined binset in the wavecat table. The waveset of the spectrum will be used instead.\n",
      "((i * Observation 386)) does not have a defined binset in the wavecat table. The waveset of the spectrum will be used instead.\n",
      "((u * Observation 387)) does not have a defined binset in the wavecat table. The waveset of the spectrum will be used instead.\n",
      "((u * Observation 388)) does not have a defined binset in the wavecat table. The waveset of the spectrum will be used instead.\n",
      "((g * Observation 389)) does not have a defined binset in the wavecat table. The waveset of the spectrum will be used instead.\n",
      "((g * Observation 390)) does not have a defined binset in the wavecat table. The waveset of the spectrum will be used instead.\n",
      "((g * Observation 391)) does not have a defined binset in the wavecat table. The waveset of the spectrum will be used instead.\n",
      "((y * Observation 392)) does not have a defined binset in the wavecat table. The waveset of the spectrum will be used instead.\n",
      "((y * Observation 393)) does not have a defined binset in the wavecat table. The waveset of the spectrum will be used instead.\n",
      "((y * Observation 394)) does not have a defined binset in the wavecat table. The waveset of the spectrum will be used instead.\n",
      "((y * Observation 395)) does not have a defined binset in the wavecat table. The waveset of the spectrum will be used instead.\n",
      "((y * Observation 396)) does not have a defined binset in the wavecat table. The waveset of the spectrum will be used instead.\n",
      "((y * Observation 397)) does not have a defined binset in the wavecat table. The waveset of the spectrum will be used instead.\n",
      "((y * Observation 398)) does not have a defined binset in the wavecat table. The waveset of the spectrum will be used instead.\n",
      "((y * Observation 399)) does not have a defined binset in the wavecat table. The waveset of the spectrum will be used instead.\n",
      "((y * Observation 400)) does not have a defined binset in the wavecat table. The waveset of the spectrum will be used instead.\n",
      "((i * Observation 401)) does not have a defined binset in the wavecat table. The waveset of the spectrum will be used instead.\n",
      "((i * Observation 402)) does not have a defined binset in the wavecat table. The waveset of the spectrum will be used instead.\n",
      "((u * Observation 403)) does not have a defined binset in the wavecat table. The waveset of the spectrum will be used instead.\n",
      "((u * Observation 404)) does not have a defined binset in the wavecat table. The waveset of the spectrum will be used instead.\n",
      "((r * Observation 405)) does not have a defined binset in the wavecat table. The waveset of the spectrum will be used instead.\n",
      "((r * Observation 406)) does not have a defined binset in the wavecat table. The waveset of the spectrum will be used instead.\n",
      "((r * Observation 407)) does not have a defined binset in the wavecat table. The waveset of the spectrum will be used instead.\n",
      "((r * Observation 408)) does not have a defined binset in the wavecat table. The waveset of the spectrum will be used instead.\n",
      "((r * Observation 409)) does not have a defined binset in the wavecat table. The waveset of the spectrum will be used instead.\n",
      "((r * Observation 410)) does not have a defined binset in the wavecat table. The waveset of the spectrum will be used instead.\n",
      "((r * Observation 411)) does not have a defined binset in the wavecat table. The waveset of the spectrum will be used instead.\n",
      "((r * Observation 412)) does not have a defined binset in the wavecat table. The waveset of the spectrum will be used instead.\n",
      "((i * Observation 413)) does not have a defined binset in the wavecat table. The waveset of the spectrum will be used instead.\n",
      "((i * Observation 414)) does not have a defined binset in the wavecat table. The waveset of the spectrum will be used instead.\n",
      "((i * Observation 415)) does not have a defined binset in the wavecat table. The waveset of the spectrum will be used instead.\n",
      "((z * Observation 416)) does not have a defined binset in the wavecat table. The waveset of the spectrum will be used instead.\n",
      "((z * Observation 417)) does not have a defined binset in the wavecat table. The waveset of the spectrum will be used instead.\n",
      "((z * Observation 418)) does not have a defined binset in the wavecat table. The waveset of the spectrum will be used instead.\n",
      "((z * Observation 419)) does not have a defined binset in the wavecat table. The waveset of the spectrum will be used instead.\n",
      "((r * Observation 420)) does not have a defined binset in the wavecat table. The waveset of the spectrum will be used instead.\n",
      "((r * Observation 421)) does not have a defined binset in the wavecat table. The waveset of the spectrum will be used instead.\n",
      "((r * Observation 422)) does not have a defined binset in the wavecat table. The waveset of the spectrum will be used instead.\n",
      "((r * Observation 423)) does not have a defined binset in the wavecat table. The waveset of the spectrum will be used instead.\n",
      "((u * Observation 424)) does not have a defined binset in the wavecat table. The waveset of the spectrum will be used instead.\n",
      "((u * Observation 425)) does not have a defined binset in the wavecat table. The waveset of the spectrum will be used instead.\n",
      "((u * Observation 426)) does not have a defined binset in the wavecat table. The waveset of the spectrum will be used instead.\n",
      "((u * Observation 427)) does not have a defined binset in the wavecat table. The waveset of the spectrum will be used instead.\n",
      "((u * Observation 428)) does not have a defined binset in the wavecat table. The waveset of the spectrum will be used instead.\n",
      "((u * Observation 429)) does not have a defined binset in the wavecat table. The waveset of the spectrum will be used instead.\n",
      "((i * Observation 430)) does not have a defined binset in the wavecat table. The waveset of the spectrum will be used instead.\n",
      "((i * Observation 431)) does not have a defined binset in the wavecat table. The waveset of the spectrum will be used instead.\n",
      "((i * Observation 432)) does not have a defined binset in the wavecat table. The waveset of the spectrum will be used instead.\n",
      "((z * Observation 433)) does not have a defined binset in the wavecat table. The waveset of the spectrum will be used instead.\n",
      "((z * Observation 434)) does not have a defined binset in the wavecat table. The waveset of the spectrum will be used instead.\n",
      "((z * Observation 435)) does not have a defined binset in the wavecat table. The waveset of the spectrum will be used instead.\n",
      "((r * Observation 436)) does not have a defined binset in the wavecat table. The waveset of the spectrum will be used instead.\n",
      "((r * Observation 437)) does not have a defined binset in the wavecat table. The waveset of the spectrum will be used instead.\n",
      "((r * Observation 438)) does not have a defined binset in the wavecat table. The waveset of the spectrum will be used instead.\n",
      "((g * Observation 439)) does not have a defined binset in the wavecat table. The waveset of the spectrum will be used instead.\n",
      "((z * Observation 440)) does not have a defined binset in the wavecat table. The waveset of the spectrum will be used instead.\n",
      "((z * Observation 441)) does not have a defined binset in the wavecat table. The waveset of the spectrum will be used instead.\n",
      "((r * Observation 442)) does not have a defined binset in the wavecat table. The waveset of the spectrum will be used instead.\n",
      "((g * Observation 443)) does not have a defined binset in the wavecat table. The waveset of the spectrum will be used instead.\n",
      "((y * Observation 444)) does not have a defined binset in the wavecat table. The waveset of the spectrum will be used instead.\n",
      "((y * Observation 445)) does not have a defined binset in the wavecat table. The waveset of the spectrum will be used instead.\n",
      "((y * Observation 446)) does not have a defined binset in the wavecat table. The waveset of the spectrum will be used instead.\n",
      "((y * Observation 447)) does not have a defined binset in the wavecat table. The waveset of the spectrum will be used instead.\n",
      "((y * Observation 448)) does not have a defined binset in the wavecat table. The waveset of the spectrum will be used instead.\n",
      "((y * Observation 449)) does not have a defined binset in the wavecat table. The waveset of the spectrum will be used instead.\n",
      "((y * Observation 450)) does not have a defined binset in the wavecat table. The waveset of the spectrum will be used instead.\n",
      "((r * Observation 451)) does not have a defined binset in the wavecat table. The waveset of the spectrum will be used instead.\n",
      "((u * Observation 452)) does not have a defined binset in the wavecat table. The waveset of the spectrum will be used instead.\n",
      "((u * Observation 453)) does not have a defined binset in the wavecat table. The waveset of the spectrum will be used instead.\n",
      "((u * Observation 454)) does not have a defined binset in the wavecat table. The waveset of the spectrum will be used instead.\n",
      "((u * Observation 455)) does not have a defined binset in the wavecat table. The waveset of the spectrum will be used instead.\n",
      "((u * Observation 456)) does not have a defined binset in the wavecat table. The waveset of the spectrum will be used instead.\n",
      "((g * Observation 457)) does not have a defined binset in the wavecat table. The waveset of the spectrum will be used instead.\n",
      "((z * Observation 458)) does not have a defined binset in the wavecat table. The waveset of the spectrum will be used instead.\n",
      "((z * Observation 459)) does not have a defined binset in the wavecat table. The waveset of the spectrum will be used instead.\n",
      "((z * Observation 460)) does not have a defined binset in the wavecat table. The waveset of the spectrum will be used instead.\n",
      "((y * Observation 461)) does not have a defined binset in the wavecat table. The waveset of the spectrum will be used instead.\n",
      "((y * Observation 462)) does not have a defined binset in the wavecat table. The waveset of the spectrum will be used instead.\n",
      "((y * Observation 463)) does not have a defined binset in the wavecat table. The waveset of the spectrum will be used instead.\n",
      "((u * Observation 464)) does not have a defined binset in the wavecat table. The waveset of the spectrum will be used instead.\n",
      "((u * Observation 465)) does not have a defined binset in the wavecat table. The waveset of the spectrum will be used instead.\n",
      "((u * Observation 466)) does not have a defined binset in the wavecat table. The waveset of the spectrum will be used instead.\n"
     ]
    },
    {
     "name": "stdout",
     "output_type": "stream",
     "text": [
      "((u * Observation 467)) does not have a defined binset in the wavecat table. The waveset of the spectrum will be used instead.\n",
      "((u * Observation 468)) does not have a defined binset in the wavecat table. The waveset of the spectrum will be used instead.\n",
      "((i * Observation 469)) does not have a defined binset in the wavecat table. The waveset of the spectrum will be used instead.\n",
      "((i * Observation 470)) does not have a defined binset in the wavecat table. The waveset of the spectrum will be used instead.\n",
      "((i * Observation 471)) does not have a defined binset in the wavecat table. The waveset of the spectrum will be used instead.\n",
      "((i * Observation 472)) does not have a defined binset in the wavecat table. The waveset of the spectrum will be used instead.\n",
      "((g * Observation 473)) does not have a defined binset in the wavecat table. The waveset of the spectrum will be used instead.\n",
      "((g * Observation 474)) does not have a defined binset in the wavecat table. The waveset of the spectrum will be used instead.\n",
      "((g * Observation 475)) does not have a defined binset in the wavecat table. The waveset of the spectrum will be used instead.\n",
      "((g * Observation 476)) does not have a defined binset in the wavecat table. The waveset of the spectrum will be used instead.\n",
      "((g * Observation 477)) does not have a defined binset in the wavecat table. The waveset of the spectrum will be used instead.\n",
      "((g * Observation 478)) does not have a defined binset in the wavecat table. The waveset of the spectrum will be used instead.\n",
      "((z * Observation 479)) does not have a defined binset in the wavecat table. The waveset of the spectrum will be used instead.\n",
      "((z * Observation 480)) does not have a defined binset in the wavecat table. The waveset of the spectrum will be used instead.\n",
      "((z * Observation 481)) does not have a defined binset in the wavecat table. The waveset of the spectrum will be used instead.\n",
      "((g * Observation 482)) does not have a defined binset in the wavecat table. The waveset of the spectrum will be used instead.\n",
      "((g * Observation 483)) does not have a defined binset in the wavecat table. The waveset of the spectrum will be used instead.\n",
      "((g * Observation 484)) does not have a defined binset in the wavecat table. The waveset of the spectrum will be used instead.\n",
      "((g * Observation 485)) does not have a defined binset in the wavecat table. The waveset of the spectrum will be used instead.\n",
      "((i * Observation 486)) does not have a defined binset in the wavecat table. The waveset of the spectrum will be used instead.\n",
      "((g * Observation 487)) does not have a defined binset in the wavecat table. The waveset of the spectrum will be used instead.\n",
      "((g * Observation 488)) does not have a defined binset in the wavecat table. The waveset of the spectrum will be used instead.\n",
      "((r * Observation 489)) does not have a defined binset in the wavecat table. The waveset of the spectrum will be used instead.\n",
      "((r * Observation 490)) does not have a defined binset in the wavecat table. The waveset of the spectrum will be used instead.\n",
      "((r * Observation 491)) does not have a defined binset in the wavecat table. The waveset of the spectrum will be used instead.\n",
      "((z * Observation 492)) does not have a defined binset in the wavecat table. The waveset of the spectrum will be used instead.\n",
      "((z * Observation 493)) does not have a defined binset in the wavecat table. The waveset of the spectrum will be used instead.\n",
      "((z * Observation 494)) does not have a defined binset in the wavecat table. The waveset of the spectrum will be used instead.\n",
      "((z * Observation 495)) does not have a defined binset in the wavecat table. The waveset of the spectrum will be used instead.\n",
      "((z * Observation 496)) does not have a defined binset in the wavecat table. The waveset of the spectrum will be used instead.\n",
      "((z * Observation 497)) does not have a defined binset in the wavecat table. The waveset of the spectrum will be used instead.\n",
      "((z * Observation 498)) does not have a defined binset in the wavecat table. The waveset of the spectrum will be used instead.\n",
      "((r * Observation 499)) does not have a defined binset in the wavecat table. The waveset of the spectrum will be used instead.\n",
      "((r * Observation 500)) does not have a defined binset in the wavecat table. The waveset of the spectrum will be used instead.\n",
      "((r * Observation 501)) does not have a defined binset in the wavecat table. The waveset of the spectrum will be used instead.\n",
      "((i * Observation 502)) does not have a defined binset in the wavecat table. The waveset of the spectrum will be used instead.\n",
      "((i * Observation 503)) does not have a defined binset in the wavecat table. The waveset of the spectrum will be used instead.\n",
      "((i * Observation 504)) does not have a defined binset in the wavecat table. The waveset of the spectrum will be used instead.\n",
      "((r * Observation 505)) does not have a defined binset in the wavecat table. The waveset of the spectrum will be used instead.\n",
      "((r * Observation 506)) does not have a defined binset in the wavecat table. The waveset of the spectrum will be used instead.\n",
      "((r * Observation 507)) does not have a defined binset in the wavecat table. The waveset of the spectrum will be used instead.\n",
      "((r * Observation 508)) does not have a defined binset in the wavecat table. The waveset of the spectrum will be used instead.\n",
      "((r * Observation 509)) does not have a defined binset in the wavecat table. The waveset of the spectrum will be used instead.\n",
      "((z * Observation 510)) does not have a defined binset in the wavecat table. The waveset of the spectrum will be used instead.\n",
      "((z * Observation 511)) does not have a defined binset in the wavecat table. The waveset of the spectrum will be used instead.\n",
      "((z * Observation 512)) does not have a defined binset in the wavecat table. The waveset of the spectrum will be used instead.\n",
      "((g * Observation 513)) does not have a defined binset in the wavecat table. The waveset of the spectrum will be used instead.\n",
      "((r * Observation 514)) does not have a defined binset in the wavecat table. The waveset of the spectrum will be used instead.\n",
      "((u * Observation 515)) does not have a defined binset in the wavecat table. The waveset of the spectrum will be used instead.\n",
      "((u * Observation 516)) does not have a defined binset in the wavecat table. The waveset of the spectrum will be used instead.\n",
      "((u * Observation 517)) does not have a defined binset in the wavecat table. The waveset of the spectrum will be used instead.\n",
      "((u * Observation 518)) does not have a defined binset in the wavecat table. The waveset of the spectrum will be used instead.\n",
      "((u * Observation 519)) does not have a defined binset in the wavecat table. The waveset of the spectrum will be used instead.\n",
      "((r * Observation 520)) does not have a defined binset in the wavecat table. The waveset of the spectrum will be used instead.\n",
      "((r * Observation 521)) does not have a defined binset in the wavecat table. The waveset of the spectrum will be used instead.\n",
      "((i * Observation 522)) does not have a defined binset in the wavecat table. The waveset of the spectrum will be used instead.\n",
      "((i * Observation 523)) does not have a defined binset in the wavecat table. The waveset of the spectrum will be used instead.\n",
      "((i * Observation 524)) does not have a defined binset in the wavecat table. The waveset of the spectrum will be used instead.\n",
      "((i * Observation 525)) does not have a defined binset in the wavecat table. The waveset of the spectrum will be used instead.\n",
      "((i * Observation 526)) does not have a defined binset in the wavecat table. The waveset of the spectrum will be used instead.\n",
      "((i * Observation 527)) does not have a defined binset in the wavecat table. The waveset of the spectrum will be used instead.\n",
      "((i * Observation 528)) does not have a defined binset in the wavecat table. The waveset of the spectrum will be used instead.\n",
      "((y * Observation 529)) does not have a defined binset in the wavecat table. The waveset of the spectrum will be used instead.\n",
      "((y * Observation 530)) does not have a defined binset in the wavecat table. The waveset of the spectrum will be used instead.\n",
      "((y * Observation 531)) does not have a defined binset in the wavecat table. The waveset of the spectrum will be used instead.\n",
      "((y * Observation 532)) does not have a defined binset in the wavecat table. The waveset of the spectrum will be used instead.\n",
      "((y * Observation 533)) does not have a defined binset in the wavecat table. The waveset of the spectrum will be used instead.\n",
      "((u * Observation 534)) does not have a defined binset in the wavecat table. The waveset of the spectrum will be used instead.\n",
      "((u * Observation 535)) does not have a defined binset in the wavecat table. The waveset of the spectrum will be used instead.\n",
      "((g * Observation 536)) does not have a defined binset in the wavecat table. The waveset of the spectrum will be used instead.\n",
      "((g * Observation 537)) does not have a defined binset in the wavecat table. The waveset of the spectrum will be used instead.\n",
      "((g * Observation 538)) does not have a defined binset in the wavecat table. The waveset of the spectrum will be used instead.\n",
      "((g * Observation 539)) does not have a defined binset in the wavecat table. The waveset of the spectrum will be used instead.\n"
     ]
    },
    {
     "name": "stdout",
     "output_type": "stream",
     "text": [
      "((z * Observation 540)) does not have a defined binset in the wavecat table. The waveset of the spectrum will be used instead.\n",
      "((z * Observation 541)) does not have a defined binset in the wavecat table. The waveset of the spectrum will be used instead.\n",
      "((z * Observation 542)) does not have a defined binset in the wavecat table. The waveset of the spectrum will be used instead.\n",
      "((z * Observation 543)) does not have a defined binset in the wavecat table. The waveset of the spectrum will be used instead.\n",
      "((z * Observation 544)) does not have a defined binset in the wavecat table. The waveset of the spectrum will be used instead.\n",
      "((z * Observation 545)) does not have a defined binset in the wavecat table. The waveset of the spectrum will be used instead.\n",
      "((z * Observation 546)) does not have a defined binset in the wavecat table. The waveset of the spectrum will be used instead.\n",
      "((z * Observation 547)) does not have a defined binset in the wavecat table. The waveset of the spectrum will be used instead.\n",
      "((z * Observation 548)) does not have a defined binset in the wavecat table. The waveset of the spectrum will be used instead.\n",
      "((y * Observation 549)) does not have a defined binset in the wavecat table. The waveset of the spectrum will be used instead.\n",
      "((y * Observation 550)) does not have a defined binset in the wavecat table. The waveset of the spectrum will be used instead.\n",
      "((y * Observation 551)) does not have a defined binset in the wavecat table. The waveset of the spectrum will be used instead.\n",
      "((y * Observation 552)) does not have a defined binset in the wavecat table. The waveset of the spectrum will be used instead.\n",
      "((y * Observation 553)) does not have a defined binset in the wavecat table. The waveset of the spectrum will be used instead.\n",
      "((g * Observation 554)) does not have a defined binset in the wavecat table. The waveset of the spectrum will be used instead.\n",
      "((g * Observation 555)) does not have a defined binset in the wavecat table. The waveset of the spectrum will be used instead.\n",
      "((g * Observation 556)) does not have a defined binset in the wavecat table. The waveset of the spectrum will be used instead.\n",
      "((g * Observation 557)) does not have a defined binset in the wavecat table. The waveset of the spectrum will be used instead.\n",
      "((g * Observation 558)) does not have a defined binset in the wavecat table. The waveset of the spectrum will be used instead.\n",
      "((u * Observation 559)) does not have a defined binset in the wavecat table. The waveset of the spectrum will be used instead.\n",
      "((u * Observation 560)) does not have a defined binset in the wavecat table. The waveset of the spectrum will be used instead.\n",
      "((u * Observation 561)) does not have a defined binset in the wavecat table. The waveset of the spectrum will be used instead.\n",
      "((u * Observation 562)) does not have a defined binset in the wavecat table. The waveset of the spectrum will be used instead.\n",
      "((u * Observation 563)) does not have a defined binset in the wavecat table. The waveset of the spectrum will be used instead.\n",
      "((u * Observation 564)) does not have a defined binset in the wavecat table. The waveset of the spectrum will be used instead.\n",
      "((u * Observation 565)) does not have a defined binset in the wavecat table. The waveset of the spectrum will be used instead.\n",
      "((u * Observation 566)) does not have a defined binset in the wavecat table. The waveset of the spectrum will be used instead.\n",
      "((i * Observation 567)) does not have a defined binset in the wavecat table. The waveset of the spectrum will be used instead.\n",
      "((i * Observation 568)) does not have a defined binset in the wavecat table. The waveset of the spectrum will be used instead.\n",
      "((i * Observation 569)) does not have a defined binset in the wavecat table. The waveset of the spectrum will be used instead.\n",
      "((i * Observation 570)) does not have a defined binset in the wavecat table. The waveset of the spectrum will be used instead.\n",
      "((r * Observation 571)) does not have a defined binset in the wavecat table. The waveset of the spectrum will be used instead.\n",
      "((r * Observation 572)) does not have a defined binset in the wavecat table. The waveset of the spectrum will be used instead.\n",
      "((r * Observation 573)) does not have a defined binset in the wavecat table. The waveset of the spectrum will be used instead.\n",
      "((i * Observation 574)) does not have a defined binset in the wavecat table. The waveset of the spectrum will be used instead.\n",
      "((i * Observation 575)) does not have a defined binset in the wavecat table. The waveset of the spectrum will be used instead.\n",
      "((i * Observation 576)) does not have a defined binset in the wavecat table. The waveset of the spectrum will be used instead.\n",
      "((i * Observation 577)) does not have a defined binset in the wavecat table. The waveset of the spectrum will be used instead.\n",
      "((i * Observation 578)) does not have a defined binset in the wavecat table. The waveset of the spectrum will be used instead.\n",
      "((r * Observation 579)) does not have a defined binset in the wavecat table. The waveset of the spectrum will be used instead.\n",
      "((i * Observation 580)) does not have a defined binset in the wavecat table. The waveset of the spectrum will be used instead.\n",
      "((i * Observation 581)) does not have a defined binset in the wavecat table. The waveset of the spectrum will be used instead.\n",
      "((g * Observation 582)) does not have a defined binset in the wavecat table. The waveset of the spectrum will be used instead.\n",
      "((g * Observation 583)) does not have a defined binset in the wavecat table. The waveset of the spectrum will be used instead.\n",
      "((r * Observation 584)) does not have a defined binset in the wavecat table. The waveset of the spectrum will be used instead.\n",
      "((i * Observation 585)) does not have a defined binset in the wavecat table. The waveset of the spectrum will be used instead.\n",
      "((i * Observation 586)) does not have a defined binset in the wavecat table. The waveset of the spectrum will be used instead.\n",
      "((i * Observation 587)) does not have a defined binset in the wavecat table. The waveset of the spectrum will be used instead.\n",
      "((z * Observation 588)) does not have a defined binset in the wavecat table. The waveset of the spectrum will be used instead.\n",
      "((r * Observation 589)) does not have a defined binset in the wavecat table. The waveset of the spectrum will be used instead.\n",
      "((r * Observation 590)) does not have a defined binset in the wavecat table. The waveset of the spectrum will be used instead.\n",
      "((r * Observation 591)) does not have a defined binset in the wavecat table. The waveset of the spectrum will be used instead.\n",
      "((g * Observation 592)) does not have a defined binset in the wavecat table. The waveset of the spectrum will be used instead.\n",
      "((g * Observation 593)) does not have a defined binset in the wavecat table. The waveset of the spectrum will be used instead.\n",
      "((g * Observation 594)) does not have a defined binset in the wavecat table. The waveset of the spectrum will be used instead.\n",
      "((y * Observation 595)) does not have a defined binset in the wavecat table. The waveset of the spectrum will be used instead.\n",
      "((y * Observation 596)) does not have a defined binset in the wavecat table. The waveset of the spectrum will be used instead.\n",
      "((y * Observation 597)) does not have a defined binset in the wavecat table. The waveset of the spectrum will be used instead.\n",
      "((r * Observation 598)) does not have a defined binset in the wavecat table. The waveset of the spectrum will be used instead.\n",
      "((y * Observation 599)) does not have a defined binset in the wavecat table. The waveset of the spectrum will be used instead.\n",
      "((y * Observation 600)) does not have a defined binset in the wavecat table. The waveset of the spectrum will be used instead.\n",
      "((i * Observation 601)) does not have a defined binset in the wavecat table. The waveset of the spectrum will be used instead.\n",
      "((i * Observation 602)) does not have a defined binset in the wavecat table. The waveset of the spectrum will be used instead.\n",
      "((i * Observation 603)) does not have a defined binset in the wavecat table. The waveset of the spectrum will be used instead.\n",
      "((i * Observation 604)) does not have a defined binset in the wavecat table. The waveset of the spectrum will be used instead.\n",
      "((u * Observation 605)) does not have a defined binset in the wavecat table. The waveset of the spectrum will be used instead.\n"
     ]
    },
    {
     "name": "stdout",
     "output_type": "stream",
     "text": [
      "((u * Observation 606)) does not have a defined binset in the wavecat table. The waveset of the spectrum will be used instead.\n",
      "((u * Observation 607)) does not have a defined binset in the wavecat table. The waveset of the spectrum will be used instead.\n",
      "((u * Observation 608)) does not have a defined binset in the wavecat table. The waveset of the spectrum will be used instead.\n",
      "((g * Observation 609)) does not have a defined binset in the wavecat table. The waveset of the spectrum will be used instead.\n",
      "((g * Observation 610)) does not have a defined binset in the wavecat table. The waveset of the spectrum will be used instead.\n",
      "((g * Observation 611)) does not have a defined binset in the wavecat table. The waveset of the spectrum will be used instead.\n",
      "((g * Observation 612)) does not have a defined binset in the wavecat table. The waveset of the spectrum will be used instead.\n",
      "((g * Observation 613)) does not have a defined binset in the wavecat table. The waveset of the spectrum will be used instead.\n",
      "((g * Observation 614)) does not have a defined binset in the wavecat table. The waveset of the spectrum will be used instead.\n",
      "((g * Observation 615)) does not have a defined binset in the wavecat table. The waveset of the spectrum will be used instead.\n",
      "((g * Observation 616)) does not have a defined binset in the wavecat table. The waveset of the spectrum will be used instead.\n",
      "((g * Observation 617)) does not have a defined binset in the wavecat table. The waveset of the spectrum will be used instead.\n",
      "((r * Observation 618)) does not have a defined binset in the wavecat table. The waveset of the spectrum will be used instead.\n",
      "((r * Observation 619)) does not have a defined binset in the wavecat table. The waveset of the spectrum will be used instead.\n",
      "((r * Observation 620)) does not have a defined binset in the wavecat table. The waveset of the spectrum will be used instead.\n",
      "((z * Observation 621)) does not have a defined binset in the wavecat table. The waveset of the spectrum will be used instead.\n",
      "((z * Observation 622)) does not have a defined binset in the wavecat table. The waveset of the spectrum will be used instead.\n",
      "((z * Observation 623)) does not have a defined binset in the wavecat table. The waveset of the spectrum will be used instead.\n",
      "((z * Observation 624)) does not have a defined binset in the wavecat table. The waveset of the spectrum will be used instead.\n",
      "((z * Observation 625)) does not have a defined binset in the wavecat table. The waveset of the spectrum will be used instead.\n",
      "((r * Observation 626)) does not have a defined binset in the wavecat table. The waveset of the spectrum will be used instead.\n",
      "((r * Observation 627)) does not have a defined binset in the wavecat table. The waveset of the spectrum will be used instead.\n",
      "((r * Observation 628)) does not have a defined binset in the wavecat table. The waveset of the spectrum will be used instead.\n",
      "((r * Observation 629)) does not have a defined binset in the wavecat table. The waveset of the spectrum will be used instead.\n",
      "((r * Observation 630)) does not have a defined binset in the wavecat table. The waveset of the spectrum will be used instead.\n",
      "((u * Observation 631)) does not have a defined binset in the wavecat table. The waveset of the spectrum will be used instead.\n",
      "((u * Observation 632)) does not have a defined binset in the wavecat table. The waveset of the spectrum will be used instead.\n",
      "((u * Observation 633)) does not have a defined binset in the wavecat table. The waveset of the spectrum will be used instead.\n",
      "((u * Observation 634)) does not have a defined binset in the wavecat table. The waveset of the spectrum will be used instead.\n",
      "((g * Observation 635)) does not have a defined binset in the wavecat table. The waveset of the spectrum will be used instead.\n",
      "((g * Observation 636)) does not have a defined binset in the wavecat table. The waveset of the spectrum will be used instead.\n",
      "((g * Observation 637)) does not have a defined binset in the wavecat table. The waveset of the spectrum will be used instead.\n",
      "((i * Observation 638)) does not have a defined binset in the wavecat table. The waveset of the spectrum will be used instead.\n",
      "((i * Observation 639)) does not have a defined binset in the wavecat table. The waveset of the spectrum will be used instead.\n",
      "((i * Observation 640)) does not have a defined binset in the wavecat table. The waveset of the spectrum will be used instead.\n",
      "((i * Observation 641)) does not have a defined binset in the wavecat table. The waveset of the spectrum will be used instead.\n",
      "((u * Observation 642)) does not have a defined binset in the wavecat table. The waveset of the spectrum will be used instead.\n",
      "((u * Observation 643)) does not have a defined binset in the wavecat table. The waveset of the spectrum will be used instead.\n",
      "((z * Observation 644)) does not have a defined binset in the wavecat table. The waveset of the spectrum will be used instead.\n",
      "((y * Observation 645)) does not have a defined binset in the wavecat table. The waveset of the spectrum will be used instead.\n",
      "((r * Observation 646)) does not have a defined binset in the wavecat table. The waveset of the spectrum will be used instead.\n",
      "((i * Observation 647)) does not have a defined binset in the wavecat table. The waveset of the spectrum will be used instead.\n",
      "((i * Observation 648)) does not have a defined binset in the wavecat table. The waveset of the spectrum will be used instead.\n",
      "((i * Observation 649)) does not have a defined binset in the wavecat table. The waveset of the spectrum will be used instead.\n",
      "((z * Observation 650)) does not have a defined binset in the wavecat table. The waveset of the spectrum will be used instead.\n",
      "((z * Observation 651)) does not have a defined binset in the wavecat table. The waveset of the spectrum will be used instead.\n",
      "((z * Observation 652)) does not have a defined binset in the wavecat table. The waveset of the spectrum will be used instead.\n",
      "((z * Observation 653)) does not have a defined binset in the wavecat table. The waveset of the spectrum will be used instead.\n",
      "((g * Observation 654)) does not have a defined binset in the wavecat table. The waveset of the spectrum will be used instead.\n",
      "((g * Observation 655)) does not have a defined binset in the wavecat table. The waveset of the spectrum will be used instead.\n",
      "((g * Observation 656)) does not have a defined binset in the wavecat table. The waveset of the spectrum will be used instead.\n",
      "((g * Observation 657)) does not have a defined binset in the wavecat table. The waveset of the spectrum will be used instead.\n",
      "((u * Observation 658)) does not have a defined binset in the wavecat table. The waveset of the spectrum will be used instead.\n",
      "((u * Observation 659)) does not have a defined binset in the wavecat table. The waveset of the spectrum will be used instead.\n",
      "((r * Observation 660)) does not have a defined binset in the wavecat table. The waveset of the spectrum will be used instead.\n",
      "((r * Observation 661)) does not have a defined binset in the wavecat table. The waveset of the spectrum will be used instead.\n",
      "((r * Observation 662)) does not have a defined binset in the wavecat table. The waveset of the spectrum will be used instead.\n",
      "((r * Observation 663)) does not have a defined binset in the wavecat table. The waveset of the spectrum will be used instead.\n",
      "((r * Observation 664)) does not have a defined binset in the wavecat table. The waveset of the spectrum will be used instead.\n",
      "((r * Observation 665)) does not have a defined binset in the wavecat table. The waveset of the spectrum will be used instead.\n",
      "((r * Observation 666)) does not have a defined binset in the wavecat table. The waveset of the spectrum will be used instead.\n",
      "((r * Observation 667)) does not have a defined binset in the wavecat table. The waveset of the spectrum will be used instead.\n",
      "((r * Observation 668)) does not have a defined binset in the wavecat table. The waveset of the spectrum will be used instead.\n",
      "((r * Observation 669)) does not have a defined binset in the wavecat table. The waveset of the spectrum will be used instead.\n",
      "((r * Observation 670)) does not have a defined binset in the wavecat table. The waveset of the spectrum will be used instead.\n",
      "((g * Observation 671)) does not have a defined binset in the wavecat table. The waveset of the spectrum will be used instead.\n",
      "((g * Observation 672)) does not have a defined binset in the wavecat table. The waveset of the spectrum will be used instead.\n",
      "((g * Observation 673)) does not have a defined binset in the wavecat table. The waveset of the spectrum will be used instead.\n",
      "((z * Observation 674)) does not have a defined binset in the wavecat table. The waveset of the spectrum will be used instead.\n",
      "((z * Observation 675)) does not have a defined binset in the wavecat table. The waveset of the spectrum will be used instead.\n",
      "((y * Observation 676)) does not have a defined binset in the wavecat table. The waveset of the spectrum will be used instead.\n",
      "((y * Observation 677)) does not have a defined binset in the wavecat table. The waveset of the spectrum will be used instead.\n",
      "((y * Observation 678)) does not have a defined binset in the wavecat table. The waveset of the spectrum will be used instead.\n",
      "((y * Observation 679)) does not have a defined binset in the wavecat table. The waveset of the spectrum will be used instead.\n",
      "((r * Observation 680)) does not have a defined binset in the wavecat table. The waveset of the spectrum will be used instead.\n",
      "((u * Observation 681)) does not have a defined binset in the wavecat table. The waveset of the spectrum will be used instead.\n",
      "((u * Observation 682)) does not have a defined binset in the wavecat table. The waveset of the spectrum will be used instead.\n",
      "((u * Observation 683)) does not have a defined binset in the wavecat table. The waveset of the spectrum will be used instead.\n",
      "((u * Observation 684)) does not have a defined binset in the wavecat table. The waveset of the spectrum will be used instead.\n",
      "((g * Observation 685)) does not have a defined binset in the wavecat table. The waveset of the spectrum will be used instead.\n"
     ]
    },
    {
     "name": "stdout",
     "output_type": "stream",
     "text": [
      "((g * Observation 686)) does not have a defined binset in the wavecat table. The waveset of the spectrum will be used instead.\n",
      "((g * Observation 687)) does not have a defined binset in the wavecat table. The waveset of the spectrum will be used instead.\n",
      "((g * Observation 688)) does not have a defined binset in the wavecat table. The waveset of the spectrum will be used instead.\n",
      "((g * Observation 689)) does not have a defined binset in the wavecat table. The waveset of the spectrum will be used instead.\n",
      "((u * Observation 690)) does not have a defined binset in the wavecat table. The waveset of the spectrum will be used instead.\n",
      "((u * Observation 691)) does not have a defined binset in the wavecat table. The waveset of the spectrum will be used instead.\n",
      "((u * Observation 692)) does not have a defined binset in the wavecat table. The waveset of the spectrum will be used instead.\n",
      "((u * Observation 693)) does not have a defined binset in the wavecat table. The waveset of the spectrum will be used instead.\n",
      "((g * Observation 694)) does not have a defined binset in the wavecat table. The waveset of the spectrum will be used instead.\n",
      "((g * Observation 695)) does not have a defined binset in the wavecat table. The waveset of the spectrum will be used instead.\n",
      "((g * Observation 696)) does not have a defined binset in the wavecat table. The waveset of the spectrum will be used instead.\n",
      "((i * Observation 697)) does not have a defined binset in the wavecat table. The waveset of the spectrum will be used instead.\n",
      "((i * Observation 698)) does not have a defined binset in the wavecat table. The waveset of the spectrum will be used instead.\n",
      "((i * Observation 699)) does not have a defined binset in the wavecat table. The waveset of the spectrum will be used instead.\n",
      "((i * Observation 700)) does not have a defined binset in the wavecat table. The waveset of the spectrum will be used instead.\n",
      "((z * Observation 701)) does not have a defined binset in the wavecat table. The waveset of the spectrum will be used instead.\n",
      "((z * Observation 702)) does not have a defined binset in the wavecat table. The waveset of the spectrum will be used instead.\n",
      "((z * Observation 703)) does not have a defined binset in the wavecat table. The waveset of the spectrum will be used instead.\n",
      "((z * Observation 704)) does not have a defined binset in the wavecat table. The waveset of the spectrum will be used instead.\n",
      "((z * Observation 705)) does not have a defined binset in the wavecat table. The waveset of the spectrum will be used instead.\n",
      "((u * Observation 706)) does not have a defined binset in the wavecat table. The waveset of the spectrum will be used instead.\n",
      "((u * Observation 707)) does not have a defined binset in the wavecat table. The waveset of the spectrum will be used instead.\n",
      "((u * Observation 708)) does not have a defined binset in the wavecat table. The waveset of the spectrum will be used instead.\n",
      "((u * Observation 709)) does not have a defined binset in the wavecat table. The waveset of the spectrum will be used instead.\n",
      "((u * Observation 710)) does not have a defined binset in the wavecat table. The waveset of the spectrum will be used instead.\n",
      "((i * Observation 711)) does not have a defined binset in the wavecat table. The waveset of the spectrum will be used instead.\n",
      "((i * Observation 712)) does not have a defined binset in the wavecat table. The waveset of the spectrum will be used instead.\n",
      "((i * Observation 713)) does not have a defined binset in the wavecat table. The waveset of the spectrum will be used instead.\n",
      "((i * Observation 714)) does not have a defined binset in the wavecat table. The waveset of the spectrum will be used instead.\n",
      "((i * Observation 715)) does not have a defined binset in the wavecat table. The waveset of the spectrum will be used instead.\n",
      "((i * Observation 716)) does not have a defined binset in the wavecat table. The waveset of the spectrum will be used instead.\n",
      "((i * Observation 717)) does not have a defined binset in the wavecat table. The waveset of the spectrum will be used instead.\n",
      "((i * Observation 718)) does not have a defined binset in the wavecat table. The waveset of the spectrum will be used instead.\n",
      "((i * Observation 719)) does not have a defined binset in the wavecat table. The waveset of the spectrum will be used instead.\n",
      "((z * Observation 720)) does not have a defined binset in the wavecat table. The waveset of the spectrum will be used instead.\n",
      "((z * Observation 721)) does not have a defined binset in the wavecat table. The waveset of the spectrum will be used instead.\n",
      "((z * Observation 722)) does not have a defined binset in the wavecat table. The waveset of the spectrum will be used instead.\n",
      "((z * Observation 723)) does not have a defined binset in the wavecat table. The waveset of the spectrum will be used instead.\n",
      "((z * Observation 724)) does not have a defined binset in the wavecat table. The waveset of the spectrum will be used instead.\n",
      "((z * Observation 725)) does not have a defined binset in the wavecat table. The waveset of the spectrum will be used instead.\n",
      "((r * Observation 726)) does not have a defined binset in the wavecat table. The waveset of the spectrum will be used instead.\n",
      "((r * Observation 727)) does not have a defined binset in the wavecat table. The waveset of the spectrum will be used instead.\n",
      "((r * Observation 728)) does not have a defined binset in the wavecat table. The waveset of the spectrum will be used instead.\n",
      "((r * Observation 729)) does not have a defined binset in the wavecat table. The waveset of the spectrum will be used instead.\n",
      "((r * Observation 730)) does not have a defined binset in the wavecat table. The waveset of the spectrum will be used instead.\n",
      "((r * Observation 731)) does not have a defined binset in the wavecat table. The waveset of the spectrum will be used instead.\n",
      "((i * Observation 732)) does not have a defined binset in the wavecat table. The waveset of the spectrum will be used instead.\n",
      "((u * Observation 733)) does not have a defined binset in the wavecat table. The waveset of the spectrum will be used instead.\n",
      "((u * Observation 734)) does not have a defined binset in the wavecat table. The waveset of the spectrum will be used instead.\n",
      "((u * Observation 735)) does not have a defined binset in the wavecat table. The waveset of the spectrum will be used instead.\n",
      "((u * Observation 736)) does not have a defined binset in the wavecat table. The waveset of the spectrum will be used instead.\n",
      "((u * Observation 737)) does not have a defined binset in the wavecat table. The waveset of the spectrum will be used instead.\n",
      "((r * Observation 738)) does not have a defined binset in the wavecat table. The waveset of the spectrum will be used instead.\n",
      "((r * Observation 739)) does not have a defined binset in the wavecat table. The waveset of the spectrum will be used instead.\n",
      "((z * Observation 740)) does not have a defined binset in the wavecat table. The waveset of the spectrum will be used instead.\n",
      "((z * Observation 741)) does not have a defined binset in the wavecat table. The waveset of the spectrum will be used instead.\n",
      "((z * Observation 742)) does not have a defined binset in the wavecat table. The waveset of the spectrum will be used instead.\n",
      "((z * Observation 743)) does not have a defined binset in the wavecat table. The waveset of the spectrum will be used instead.\n",
      "((y * Observation 744)) does not have a defined binset in the wavecat table. The waveset of the spectrum will be used instead.\n",
      "((g * Observation 745)) does not have a defined binset in the wavecat table. The waveset of the spectrum will be used instead.\n",
      "((z * Observation 746)) does not have a defined binset in the wavecat table. The waveset of the spectrum will be used instead.\n",
      "((z * Observation 747)) does not have a defined binset in the wavecat table. The waveset of the spectrum will be used instead.\n",
      "((y * Observation 748)) does not have a defined binset in the wavecat table. The waveset of the spectrum will be used instead.\n",
      "((y * Observation 749)) does not have a defined binset in the wavecat table. The waveset of the spectrum will be used instead.\n",
      "((y * Observation 750)) does not have a defined binset in the wavecat table. The waveset of the spectrum will be used instead.\n",
      "((y * Observation 751)) does not have a defined binset in the wavecat table. The waveset of the spectrum will be used instead.\n",
      "((y * Observation 752)) does not have a defined binset in the wavecat table. The waveset of the spectrum will be used instead.\n",
      "((y * Observation 753)) does not have a defined binset in the wavecat table. The waveset of the spectrum will be used instead.\n",
      "((r * Observation 754)) does not have a defined binset in the wavecat table. The waveset of the spectrum will be used instead.\n",
      "((r * Observation 755)) does not have a defined binset in the wavecat table. The waveset of the spectrum will be used instead.\n",
      "((r * Observation 756)) does not have a defined binset in the wavecat table. The waveset of the spectrum will be used instead.\n",
      "((r * Observation 757)) does not have a defined binset in the wavecat table. The waveset of the spectrum will be used instead.\n",
      "((r * Observation 758)) does not have a defined binset in the wavecat table. The waveset of the spectrum will be used instead.\n"
     ]
    }
   ],
   "source": [
    "all_obs = []\n",
    "\n",
    "for bp in all_bp :\n",
    "    \n",
    "    obs = S.Observation(Spec, bp);\n",
    "    all_obs.append(obs);"
   ]
  },
  {
   "cell_type": "code",
   "execution_count": 34,
   "metadata": {},
   "outputs": [],
   "source": [
    "all_count = []\n",
    "\n",
    "for obs in all_obs :\n",
    "    \n",
    "    all_count.append(obs.countrate())"
   ]
  },
  {
   "cell_type": "code",
   "execution_count": 35,
   "metadata": {},
   "outputs": [
    {
     "data": {
      "text/plain": [
       "<matplotlib.collections.PathCollection at 0x20b60df1130>"
      ]
     },
     "execution_count": 35,
     "metadata": {},
     "output_type": "execute_result"
    },
    {
     "data": {
      "image/png": "[encoded data removed]",
      "text/plain": [
       "<Figure size 864x432 with 1 Axes>"
      ]
     },
     "metadata": {
      "needs_background": "light"
     },
     "output_type": "display_data"
    }
   ],
   "source": [
    "plt.scatter(df[\"observationStartMJD\"], all_count)"
   ]
  },
  {
   "cell_type": "code",
   "execution_count": 36,
   "metadata": {},
   "outputs": [],
   "source": [
    "#plt.scatter(df['observationStartMJD'], all_count_u, color = \"b\")\n",
    "#plt.scatter(df['observationStartMJD'], all_count_g, color = \"g\")\n",
    "#plt.scatter(df['observationStartMJD'], all_count_r, color = \"r\")\n",
    "#plt.scatter(df['observationStartMJD'], all_count_i, color = \"blueviolet\")\n",
    "#plt.scatter(df['observationStartMJD'], all_count_z, color = \"grey\")\n",
    "#plt.scatter(df['observationStartMJD'], all_count_y, color = \"k\")"
   ]
  },
  {
   "cell_type": "markdown",
   "metadata": {},
   "source": [
    "# Photometric error"
   ]
  },
  {
   "cell_type": "markdown",
   "metadata": {},
   "source": [
    "$$\n",
    "    N = \\sqrt{N_{pe} + F}\n",
    "$$"
   ]
  },
  {
   "cell_type": "markdown",
   "metadata": {},
   "source": [
    "$$\n",
    "    \\sigma_N = \\sqrt{N}\n",
    "$$"
   ]
  },
  {
   "cell_type": "markdown",
   "metadata": {},
   "source": [
    "where \n",
    "\n",
    "$N_{pe}$ is the background noise \n",
    "\n",
    "F is the source flux  \n",
    "\n",
    "$\\sigma_N$ the error"
   ]
  },
  {
   "cell_type": "code",
   "execution_count": 37,
   "metadata": {},
   "outputs": [],
   "source": [
    "N = []\n",
    "\n",
    "for i in range (len(bp_atmo)) :\n",
    "    \n",
    "    N.append(np.sqrt(N_pe[i] + all_count[i]))"
   ]
  },
  {
   "cell_type": "code",
   "execution_count": 38,
   "metadata": {},
   "outputs": [],
   "source": [
    "sigma_N = []\n",
    "\n",
    "for i in range (len(bp_atmo)) :\n",
    "    \n",
    "    sigma_N.append(np.sqrt(N[i]))"
   ]
  },
  {
   "cell_type": "code",
   "execution_count": 39,
   "metadata": {},
   "outputs": [
    {
     "data": {
      "text/plain": [
       "<matplotlib.collections.PathCollection at 0x20b60e46f70>"
      ]
     },
     "execution_count": 39,
     "metadata": {},
     "output_type": "execute_result"
    },
    {
     "data": {
      "image/png": "[encoded data removed]",
      "text/plain": [
       "<Figure size 864x432 with 1 Axes>"
      ]
     },
     "metadata": {
      "needs_background": "light"
     },
     "output_type": "display_data"
    }
   ],
   "source": [
    "plt.scatter(df['observationStartMJD'], sigma_N)"
   ]
  },
  {
   "cell_type": "code",
   "execution_count": 40,
   "metadata": {
    "scrolled": false
   },
   "outputs": [
    {
     "data": {
      "text/plain": [
       "<ErrorbarContainer object of 3 artists>"
      ]
     },
     "execution_count": 40,
     "metadata": {},
     "output_type": "execute_result"
    },
    {
     "data": {
      "image/png": "[encoded data removed]",
      "text/plain": [
       "<Figure size 864x432 with 1 Axes>"
      ]
     },
     "metadata": {
      "needs_background": "light"
     },
     "output_type": "display_data"
    }
   ],
   "source": [
    "plt.errorbar(df['observationStartMJD'], all_count, sigma_N, fmt=\"o\")"
   ]
  },
  {
   "cell_type": "markdown",
   "metadata": {},
   "source": [
    "# Amplitude error"
   ]
  },
  {
   "cell_type": "markdown",
   "metadata": {},
   "source": [
    "$$\n",
    "\\sigma_A = \\frac{\\sigma_N \\times A(t)}{F}\n",
    "$$"
   ]
  },
  {
   "cell_type": "code",
   "execution_count": 41,
   "metadata": {},
   "outputs": [],
   "source": [
    "amp_err = []\n",
    "\n",
    "for i in range (len(bp_atmo)) :\n",
    "    \n",
    "    amp_err.append(sigma_N[i] * A(u(df['observationStartMJD'][i]))/all_count[i])\n"
   ]
  },
  {
   "cell_type": "code",
   "execution_count": 44,
   "metadata": {},
   "outputs": [
    {
     "data": {
      "text/plain": [
       "(58933.90916666624, 60933.90916666624)"
      ]
     },
     "execution_count": 44,
     "metadata": {},
     "output_type": "execute_result"
    },
    {
     "data": {
      "image/png": "[encoded data removed]",
      "text/plain": [
       "<Figure size 864x432 with 1 Axes>"
      ]
     },
     "metadata": {
      "needs_background": "light"
     },
     "output_type": "display_data"
    }
   ],
   "source": [
    "plt.errorbar(df['observationStartMJD'], A(u(df['observationStartMJD'])), amp_err, fmt ='o')\n",
    "plt.xlim(tmin,tmax)"
   ]
  }
 ],
 "metadata": {
  "kernelspec": {
   "display_name": "Python 3",
   "language": "python",
   "name": "python3"
  },
  "language_info": {
   "codemirror_mode": {
    "name": "ipython",
    "version": 3
   },
   "file_extension": ".py",
   "mimetype": "text/x-python",
   "name": "python",
   "nbconvert_exporter": "python",
   "pygments_lexer": "ipython3",
   "version": "3.8.5"
  }
 },
 "nbformat": 4,
 "nbformat_minor": 4
}
